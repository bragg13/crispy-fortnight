{
  "cells": [
    {
      "cell_type": "markdown",
      "source": [
        "## Setup"
      ],
      "metadata": {
        "id": "PmfCbYvcJxM2"
      }
    },
    {
      "cell_type": "code",
      "source": [
        "from google.colab import drive\n",
        "drive.mount('/content/drive')"
      ],
      "metadata": {
        "colab": {
          "base_uri": "https://localhost:8080/"
        },
        "id": "ebfdruxOBzV_",
        "outputId": "b945e653-7fc5-469a-cee7-681855d4424e"
      },
      "execution_count": 2,
      "outputs": [
        {
          "output_type": "stream",
          "name": "stdout",
          "text": [
            "Mounted at /content/drive\n"
          ]
        }
      ]
    },
    {
      "cell_type": "code",
      "execution_count": 3,
      "metadata": {
        "id": "33eI9XrcBs8r"
      },
      "outputs": [],
      "source": [
        "# %%\n",
        "import os\n",
        "import math\n",
        "import numpy as np\n",
        "import torch\n",
        "import torch.nn as nn\n",
        "from drive.MyDrive.ATNLP.crispy_fortnight.transformer import Transformer\n",
        "import pandas as pd\n",
        "from torch.utils.data import DataLoader, Dataset\n",
        "from torch.nn.utils.rnn import pad_sequence\n",
        "import torch.optim as optim\n",
        "from tqdm import tqdm\n",
        "import wandb\n",
        "\n",
        "# %%\n",
        "# Set device\n",
        "device = torch.device(\"cuda\" if torch.cuda.is_available() else \"cpu\")\n",
        "# device = torch.device('mps')\n",
        "\n",
        "# EXPERIMENT 2:\n",
        "EMB_DIM = 128\n",
        "N_LAYERS = 2\n",
        "N_HEADS = 8\n",
        "FORWARD_DIM = 256\n",
        "DROPOUT = 0.15\n",
        "LEARNING_RATE = 2e-4\n",
        "GRAD_CLIP = 1\n",
        "BATCH_SIZE = 16\n",
        "MAX_LEN = 128"
      ]
    },
    {
      "cell_type": "code",
      "execution_count": 4,
      "metadata": {
        "colab": {
          "base_uri": "https://localhost:8080/"
        },
        "id": "Tlc_gOvbBs8t",
        "outputId": "bea1c8a5-15a8-4576-c53c-edbb5004b26c"
      },
      "outputs": [
        {
          "output_type": "stream",
          "name": "stdout",
          "text": [
            "On cuda\n"
          ]
        }
      ],
      "source": [
        "print(f\"On {device}\")"
      ]
    },
    {
      "cell_type": "code",
      "execution_count": 5,
      "metadata": {
        "id": "pEyxBsCbBs8u"
      },
      "outputs": [],
      "source": [
        "# Task 0: DataLoader and Preprocessing\n",
        "class TasksData(Dataset):\n",
        "    def __init__(self, data_dir, file, transform=None):\n",
        "        self.data_dir = data_dir\n",
        "        self.file = file\n",
        "        text_file = os.path.join(data_dir, file)\n",
        "\n",
        "        data_dict = {\"src\": [], \"tgt\": []}\n",
        "\n",
        "        with open(text_file, 'r') as f:\n",
        "            lines = f.readlines()\n",
        "            for line in lines:\n",
        "                src = line.split('OUT:')[0]\n",
        "                src = src.split('IN:')[1].strip()\n",
        "                tgt = line.split('OUT:')[1].strip()\n",
        "\n",
        "                data_dict['src'].append(src)\n",
        "                data_dict['tgt'].append(tgt)\n",
        "\n",
        "        self.data = pd.DataFrame(data_dict)\n",
        "\n",
        "\n",
        "    def __len__(self):\n",
        "        return len(self.data)\n",
        "\n",
        "    def __getitem__(self, idx):\n",
        "        src = self.data['src'].iloc[idx] + ' <EOS>'\n",
        "        tgt = '<SOS> ' + self.data['tgt'].iloc[idx] + ' <EOS>'\n",
        "        return src, tgt\n",
        "\n",
        "def create_vocab(dataset):\n",
        "    vocab = set()\n",
        "\n",
        "    for sample in dataset:\n",
        "        vocab.update(sample.split())\n",
        "    return vocab\n",
        "\n",
        "# %%\n",
        "# creating datasets\n",
        "train_data = TasksData(data_dir='/content/drive/MyDrive/ATNLP/crispy_fortnight/data/experiment2', file='tasks_train_length.txt')\n",
        "test_data = TasksData(data_dir='/content/drive/MyDrive/ATNLP/crispy_fortnight/data/experiment2', file='tasks_test_length.txt')\n",
        "\n",
        "#creating source and target vocab\n",
        "src_train_data = [src for src, tgt in train_data]\n",
        "vocab_train_src = create_vocab(src_train_data)\n",
        "\n",
        "tgt_train_data = [tgt for src, tgt in train_data]\n",
        "vocab_train_tgt = create_vocab(tgt_train_data)\n",
        "\n",
        "# we need to do word2idx to map the words to indexes. Bc the input for nn.Embedding has to be numbers\n",
        "# since nn.Embdding has different weights in input andoutput embedding the same index will not be encoded to the same vector\n",
        "word2idx_src = {w: idx + 1 for (idx, w) in enumerate(vocab_train_src)}\n",
        "word2idx_src['<PAD>'] = 0\n",
        "\n",
        "word2idx_tgt= {w: idx + 1 for (idx, w) in enumerate(vocab_train_tgt)}\n",
        "word2idx_tgt['<PAD>'] = 0\n",
        "\n",
        "def custom_collate_fn(batch):\n",
        "    #input: batch of sentences\n",
        "    # tokenize, word2idx, pad\n",
        "    padded_src = pad_sequence([torch.tensor([word2idx_src[w] for w in src.split()]) for src, tgt in batch], batch_first=True, padding_value=0).to(device)\n",
        "    padded_tgt = pad_sequence([torch.tensor([word2idx_tgt[w] for w in tgt.split()]) for src, tgt in batch], batch_first=True, padding_value=0).to(device)\n",
        "\n",
        "    return padded_src, padded_tgt\n",
        "\n",
        "# %%\n",
        "# create dataloaders\n",
        "train_loader = DataLoader(train_data, batch_size=BATCH_SIZE, shuffle=True, collate_fn=custom_collate_fn)\n",
        "test_loader = DataLoader(test_data, batch_size=BATCH_SIZE, shuffle=False, collate_fn=custom_collate_fn)"
      ]
    },
    {
      "cell_type": "code",
      "execution_count": 6,
      "metadata": {
        "id": "xiHoAa5ABs8u"
      },
      "outputs": [],
      "source": [
        "# define the model\n",
        "model = Transformer(\n",
        "    src_vocab_size=len(word2idx_src),\n",
        "    tgt_vocab_size=len(word2idx_tgt),\n",
        "    src_pad_idx=word2idx_src['<PAD>'],\n",
        "    tgt_pad_idx=word2idx_tgt['<PAD>'],\n",
        "    emb_dim=EMB_DIM,\n",
        "    num_layers=N_LAYERS,\n",
        "    num_heads=N_HEADS,\n",
        "    forward_dim=FORWARD_DIM,\n",
        "    dropout=DROPOUT,\n",
        "    max_len=MAX_LEN,\n",
        ").to(device)"
      ]
    },
    {
      "cell_type": "markdown",
      "metadata": {
        "id": "KF-gNrL-Bs8v"
      },
      "source": [
        "## ACCURACY FUNCTIONS"
      ]
    },
    {
      "cell_type": "code",
      "execution_count": 7,
      "metadata": {
        "id": "1dmw_iiiBs8v"
      },
      "outputs": [],
      "source": [
        "def token_lvl_accuracy(gt, pred):\n",
        "    \"\"\"\n",
        "    gt = ground truth sequence\n",
        "    pred = predicted sequence\n",
        "    \"\"\"\n",
        "    correct = 0\n",
        "\n",
        "    # get start and end\n",
        "    eos_idx = word2idx_tgt['<EOS>']\n",
        "    sos_idx = word2idx_tgt['<SOS>']\n",
        "    # print(eos_idx)\n",
        "    # print(sos_idx)\n",
        "    pred = pred[-1]\n",
        "\n",
        "\n",
        "    gt = gt[-1]\n",
        "\n",
        "    # index of <SOS> and <EOS> tokens of the predicted sequence\n",
        "    pred_start = 0\n",
        "    pred_end = len(pred) if (eos_idx not in pred) else (pred == eos_idx).nonzero(as_tuple=True)[0].item()\n",
        "\n",
        "    # index of <SOS> and <EOS> tokens of the ground truth sequence\n",
        "    gt_start = (gt == sos_idx).nonzero(as_tuple=True)[0].item()\n",
        "    gt_end = (gt == eos_idx).nonzero(as_tuple=True)[0].item()\n",
        "\n",
        "    # slicing\n",
        "    gt = gt[gt_start+1 : gt_end]\n",
        "    pred = pred[pred_start+1 : pred_end]\n",
        "\n",
        "    longer = gt if len(gt) > len(pred) else pred\n",
        "    shorter = pred if len(gt) > len(pred) else gt\n",
        "\n",
        "    longest_len = len(longer)\n",
        "\n",
        "    shorter = torch.nn.functional.pad(shorter, (0, longest_len - len(shorter)), \"constant\", 0)\n",
        "\n",
        "    correct = sum(longer == shorter)\n",
        "    # print(longer)\n",
        "    # print(shorter)\n",
        "    # print(correct)\n",
        "    return int(correct) / len(shorter) # same length as longer\n",
        "\n",
        "\n",
        "def sequence_level_accuracy(gt, pred):\n",
        "\n",
        "    # get start and end\n",
        "    eos_idx = word2idx_tgt['<EOS>']\n",
        "    sos_idx = word2idx_tgt['<SOS>']\n",
        "    # print(eos_idx)\n",
        "    # print(sos_idx)\n",
        "    pred = pred[-1]\n",
        "    gt = gt[-1]\n",
        "\n",
        "    # index of <SOS> and <EOS> tokens of the predicted sequence\n",
        "    pred_start = 0\n",
        "    pred_end = len(pred) if (eos_idx not in pred) else (pred == eos_idx).nonzero(as_tuple=True)[0].item()\n",
        "\n",
        "    # index of <SOS> and <EOS> tokens of the ground truth sequence\n",
        "    gt_start = (gt == sos_idx).nonzero(as_tuple=True)[0].item()\n",
        "    gt_end = (gt == eos_idx).nonzero(as_tuple=True)[0].item()\n",
        "\n",
        "    # slicing\n",
        "    gt = gt[gt_start+1 : gt_end]\n",
        "    pred = pred[pred_start+1 : pred_end]\n",
        "\n",
        "    if len(gt) != len(pred):\n",
        "        return 0\n",
        "\n",
        "    if sum(gt == pred) == len(gt):\n",
        "        return 1\n",
        "\n",
        "    return 0\n"
      ]
    },
    {
      "cell_type": "markdown",
      "metadata": {
        "id": "1ejEXULfBs8v"
      },
      "source": [
        "## TRAINING"
      ]
    },
    {
      "cell_type": "code",
      "execution_count": 15,
      "metadata": {
        "colab": {
          "base_uri": "https://localhost:8080/",
          "height": 1000,
          "referenced_widgets": [
            "760a3328b6e146d4af5d2f68e6ea6338",
            "c6953cf3d8d94a9992b3a1ee9c2913d0",
            "9c579b9c5b054edf82df65e7b46e81ab",
            "806209c2d0994b1dba2051bd9cc9b774",
            "2cc05d9561584520940d663c5374c08a",
            "b472d0a1eb8a4686863ebc8e9b0b29dd",
            "9635ecf1c0684e29904dce7feff80419",
            "24625d6f24924bfd9caa5e77d404e0df"
          ]
        },
        "id": "R4LRwsBfBs8w",
        "outputId": "b8a83acc-bf4b-4eae-87eb-679ed0f82245"
      },
      "outputs": [
        {
          "output_type": "stream",
          "name": "stderr",
          "text": [
            "\u001b[34m\u001b[1mwandb\u001b[0m: Currently logged in as: \u001b[33mjan-ljubas\u001b[0m. Use \u001b[1m`wandb login --relogin`\u001b[0m to force relogin\n"
          ]
        },
        {
          "output_type": "display_data",
          "data": {
            "text/plain": [
              "VBox(children=(Label(value='Waiting for wandb.init()...\\r'), FloatProgress(value=0.011112802599998556, max=1.0…"
            ],
            "application/vnd.jupyter.widget-view+json": {
              "version_major": 2,
              "version_minor": 0,
              "model_id": "760a3328b6e146d4af5d2f68e6ea6338"
            }
          },
          "metadata": {}
        },
        {
          "output_type": "display_data",
          "data": {
            "text/plain": [
              "<IPython.core.display.HTML object>"
            ],
            "text/html": [
              "Tracking run with wandb version 0.18.7"
            ]
          },
          "metadata": {}
        },
        {
          "output_type": "display_data",
          "data": {
            "text/plain": [
              "<IPython.core.display.HTML object>"
            ],
            "text/html": [
              "Run data is saved locally in <code>/content/wandb/run-20241217_191249-cmvg49s2</code>"
            ]
          },
          "metadata": {}
        },
        {
          "output_type": "display_data",
          "data": {
            "text/plain": [
              "<IPython.core.display.HTML object>"
            ],
            "text/html": [
              "Syncing run <strong><a href='https://wandb.ai/jan-ljubas/transformer_training/runs/cmvg49s2' target=\"_blank\">experiment_2_50_epochs</a></strong> to <a href='https://wandb.ai/jan-ljubas/transformer_training' target=\"_blank\">Weights & Biases</a> (<a href='https://wandb.me/developer-guide' target=\"_blank\">docs</a>)<br/>"
            ]
          },
          "metadata": {}
        },
        {
          "output_type": "display_data",
          "data": {
            "text/plain": [
              "<IPython.core.display.HTML object>"
            ],
            "text/html": [
              " View project at <a href='https://wandb.ai/jan-ljubas/transformer_training' target=\"_blank\">https://wandb.ai/jan-ljubas/transformer_training</a>"
            ]
          },
          "metadata": {}
        },
        {
          "output_type": "display_data",
          "data": {
            "text/plain": [
              "<IPython.core.display.HTML object>"
            ],
            "text/html": [
              " View run at <a href='https://wandb.ai/jan-ljubas/transformer_training/runs/cmvg49s2' target=\"_blank\">https://wandb.ai/jan-ljubas/transformer_training/runs/cmvg49s2</a>"
            ]
          },
          "metadata": {}
        },
        {
          "output_type": "stream",
          "name": "stderr",
          "text": [
            "Epoch [1/50], Loss: 0.6656: 100%|██████████| 1062/1062 [00:22<00:00, 47.11it/s]\n"
          ]
        },
        {
          "output_type": "stream",
          "name": "stdout",
          "text": [
            "Checkpoint saved at: /content/drive/MyDrive/ATNLP/crispy_fortnight/17_12_2024_transformer_exp2_epoch_50.pth\n"
          ]
        },
        {
          "output_type": "stream",
          "name": "stderr",
          "text": [
            "Epoch [2/50], Loss: 0.2807: 100%|██████████| 1062/1062 [00:22<00:00, 47.67it/s]\n"
          ]
        },
        {
          "output_type": "stream",
          "name": "stdout",
          "text": [
            "Checkpoint saved at: /content/drive/MyDrive/ATNLP/crispy_fortnight/17_12_2024_transformer_exp2_epoch_50.pth\n"
          ]
        },
        {
          "output_type": "stream",
          "name": "stderr",
          "text": [
            "Epoch [3/50], Loss: 0.1755: 100%|██████████| 1062/1062 [00:22<00:00, 47.75it/s]\n"
          ]
        },
        {
          "output_type": "stream",
          "name": "stdout",
          "text": [
            "Checkpoint saved at: /content/drive/MyDrive/ATNLP/crispy_fortnight/17_12_2024_transformer_exp2_epoch_50.pth\n"
          ]
        },
        {
          "output_type": "stream",
          "name": "stderr",
          "text": [
            "Epoch [4/50], Loss: 0.0671: 100%|██████████| 1062/1062 [00:22<00:00, 47.66it/s]\n"
          ]
        },
        {
          "output_type": "stream",
          "name": "stdout",
          "text": [
            "Checkpoint saved at: /content/drive/MyDrive/ATNLP/crispy_fortnight/17_12_2024_transformer_exp2_epoch_50.pth\n"
          ]
        },
        {
          "output_type": "stream",
          "name": "stderr",
          "text": [
            "Epoch [5/50], Loss: 0.0524: 100%|██████████| 1062/1062 [00:22<00:00, 48.07it/s]\n"
          ]
        },
        {
          "output_type": "stream",
          "name": "stdout",
          "text": [
            "Checkpoint saved at: /content/drive/MyDrive/ATNLP/crispy_fortnight/17_12_2024_transformer_exp2_epoch_50.pth\n"
          ]
        },
        {
          "output_type": "stream",
          "name": "stderr",
          "text": [
            "Epoch [6/50], Loss: 0.0932: 100%|██████████| 1062/1062 [00:22<00:00, 47.78it/s]\n"
          ]
        },
        {
          "output_type": "stream",
          "name": "stdout",
          "text": [
            "Checkpoint saved at: /content/drive/MyDrive/ATNLP/crispy_fortnight/17_12_2024_transformer_exp2_epoch_50.pth\n"
          ]
        },
        {
          "output_type": "stream",
          "name": "stderr",
          "text": [
            "Epoch [7/50], Loss: 0.0607: 100%|██████████| 1062/1062 [00:21<00:00, 48.58it/s]\n"
          ]
        },
        {
          "output_type": "stream",
          "name": "stdout",
          "text": [
            "Checkpoint saved at: /content/drive/MyDrive/ATNLP/crispy_fortnight/17_12_2024_transformer_exp2_epoch_50.pth\n"
          ]
        },
        {
          "output_type": "stream",
          "name": "stderr",
          "text": [
            "Epoch [8/50], Loss: 0.0098: 100%|██████████| 1062/1062 [00:21<00:00, 48.42it/s]\n"
          ]
        },
        {
          "output_type": "stream",
          "name": "stdout",
          "text": [
            "Checkpoint saved at: /content/drive/MyDrive/ATNLP/crispy_fortnight/17_12_2024_transformer_exp2_epoch_50.pth\n"
          ]
        },
        {
          "output_type": "stream",
          "name": "stderr",
          "text": [
            "Epoch [9/50], Loss: 0.0082: 100%|██████████| 1062/1062 [00:21<00:00, 48.41it/s]\n"
          ]
        },
        {
          "output_type": "stream",
          "name": "stdout",
          "text": [
            "Checkpoint saved at: /content/drive/MyDrive/ATNLP/crispy_fortnight/17_12_2024_transformer_exp2_epoch_50.pth\n"
          ]
        },
        {
          "output_type": "stream",
          "name": "stderr",
          "text": [
            "Epoch [10/50], Loss: 0.0030: 100%|██████████| 1062/1062 [00:21<00:00, 48.31it/s]\n"
          ]
        },
        {
          "output_type": "stream",
          "name": "stdout",
          "text": [
            "Checkpoint saved at: /content/drive/MyDrive/ATNLP/crispy_fortnight/17_12_2024_transformer_exp2_epoch_50.pth\n"
          ]
        },
        {
          "output_type": "stream",
          "name": "stderr",
          "text": [
            "Epoch [11/50], Loss: 0.0128: 100%|██████████| 1062/1062 [00:21<00:00, 48.43it/s]\n"
          ]
        },
        {
          "output_type": "stream",
          "name": "stdout",
          "text": [
            "Checkpoint saved at: /content/drive/MyDrive/ATNLP/crispy_fortnight/17_12_2024_transformer_exp2_epoch_50.pth\n"
          ]
        },
        {
          "output_type": "stream",
          "name": "stderr",
          "text": [
            "Epoch [12/50], Loss: 0.0286: 100%|██████████| 1062/1062 [00:22<00:00, 48.11it/s]\n"
          ]
        },
        {
          "output_type": "stream",
          "name": "stdout",
          "text": [
            "Checkpoint saved at: /content/drive/MyDrive/ATNLP/crispy_fortnight/17_12_2024_transformer_exp2_epoch_50.pth\n"
          ]
        },
        {
          "output_type": "stream",
          "name": "stderr",
          "text": [
            "Epoch [13/50], Loss: 0.0031: 100%|██████████| 1062/1062 [00:22<00:00, 47.93it/s]\n"
          ]
        },
        {
          "output_type": "stream",
          "name": "stdout",
          "text": [
            "Checkpoint saved at: /content/drive/MyDrive/ATNLP/crispy_fortnight/17_12_2024_transformer_exp2_epoch_50.pth\n"
          ]
        },
        {
          "output_type": "stream",
          "name": "stderr",
          "text": [
            "Epoch [14/50], Loss: 0.0005: 100%|██████████| 1062/1062 [00:22<00:00, 48.02it/s]\n"
          ]
        },
        {
          "output_type": "stream",
          "name": "stdout",
          "text": [
            "Checkpoint saved at: /content/drive/MyDrive/ATNLP/crispy_fortnight/17_12_2024_transformer_exp2_epoch_50.pth\n"
          ]
        },
        {
          "output_type": "stream",
          "name": "stderr",
          "text": [
            "Epoch [15/50], Loss: 0.0024: 100%|██████████| 1062/1062 [00:22<00:00, 48.07it/s]\n"
          ]
        },
        {
          "output_type": "stream",
          "name": "stdout",
          "text": [
            "Checkpoint saved at: /content/drive/MyDrive/ATNLP/crispy_fortnight/17_12_2024_transformer_exp2_epoch_50.pth\n"
          ]
        },
        {
          "output_type": "stream",
          "name": "stderr",
          "text": [
            "Epoch [16/50], Loss: 0.0009: 100%|██████████| 1062/1062 [00:22<00:00, 48.10it/s]\n"
          ]
        },
        {
          "output_type": "stream",
          "name": "stdout",
          "text": [
            "Checkpoint saved at: /content/drive/MyDrive/ATNLP/crispy_fortnight/17_12_2024_transformer_exp2_epoch_50.pth\n"
          ]
        },
        {
          "output_type": "stream",
          "name": "stderr",
          "text": [
            "Epoch [17/50], Loss: 0.0004: 100%|██████████| 1062/1062 [00:22<00:00, 48.00it/s]\n"
          ]
        },
        {
          "output_type": "stream",
          "name": "stdout",
          "text": [
            "Checkpoint saved at: /content/drive/MyDrive/ATNLP/crispy_fortnight/17_12_2024_transformer_exp2_epoch_50.pth\n"
          ]
        },
        {
          "output_type": "stream",
          "name": "stderr",
          "text": [
            "Epoch [18/50], Loss: 0.0271: 100%|██████████| 1062/1062 [00:22<00:00, 47.74it/s]\n"
          ]
        },
        {
          "output_type": "stream",
          "name": "stdout",
          "text": [
            "Checkpoint saved at: /content/drive/MyDrive/ATNLP/crispy_fortnight/17_12_2024_transformer_exp2_epoch_50.pth\n"
          ]
        },
        {
          "output_type": "stream",
          "name": "stderr",
          "text": [
            "Epoch [19/50], Loss: 0.0011: 100%|██████████| 1062/1062 [00:22<00:00, 48.15it/s]\n"
          ]
        },
        {
          "output_type": "stream",
          "name": "stdout",
          "text": [
            "Checkpoint saved at: /content/drive/MyDrive/ATNLP/crispy_fortnight/17_12_2024_transformer_exp2_epoch_50.pth\n"
          ]
        },
        {
          "output_type": "stream",
          "name": "stderr",
          "text": [
            "Epoch [20/50], Loss: 0.0003: 100%|██████████| 1062/1062 [00:22<00:00, 48.10it/s]\n"
          ]
        },
        {
          "output_type": "stream",
          "name": "stdout",
          "text": [
            "Checkpoint saved at: /content/drive/MyDrive/ATNLP/crispy_fortnight/17_12_2024_transformer_exp2_epoch_50.pth\n"
          ]
        },
        {
          "output_type": "stream",
          "name": "stderr",
          "text": [
            "Epoch [21/50], Loss: 0.0005: 100%|██████████| 1062/1062 [00:21<00:00, 48.37it/s]\n"
          ]
        },
        {
          "output_type": "stream",
          "name": "stdout",
          "text": [
            "Checkpoint saved at: /content/drive/MyDrive/ATNLP/crispy_fortnight/17_12_2024_transformer_exp2_epoch_50.pth\n"
          ]
        },
        {
          "output_type": "stream",
          "name": "stderr",
          "text": [
            "Epoch [22/50], Loss: 0.0095: 100%|██████████| 1062/1062 [00:22<00:00, 48.18it/s]\n"
          ]
        },
        {
          "output_type": "stream",
          "name": "stdout",
          "text": [
            "Checkpoint saved at: /content/drive/MyDrive/ATNLP/crispy_fortnight/17_12_2024_transformer_exp2_epoch_50.pth\n"
          ]
        },
        {
          "output_type": "stream",
          "name": "stderr",
          "text": [
            "Epoch [23/50], Loss: 0.0002: 100%|██████████| 1062/1062 [00:21<00:00, 48.49it/s]\n"
          ]
        },
        {
          "output_type": "stream",
          "name": "stdout",
          "text": [
            "Checkpoint saved at: /content/drive/MyDrive/ATNLP/crispy_fortnight/17_12_2024_transformer_exp2_epoch_50.pth\n"
          ]
        },
        {
          "output_type": "stream",
          "name": "stderr",
          "text": [
            "Epoch [24/50], Loss: 0.0002: 100%|██████████| 1062/1062 [00:22<00:00, 48.05it/s]\n"
          ]
        },
        {
          "output_type": "stream",
          "name": "stdout",
          "text": [
            "Checkpoint saved at: /content/drive/MyDrive/ATNLP/crispy_fortnight/17_12_2024_transformer_exp2_epoch_50.pth\n"
          ]
        },
        {
          "output_type": "stream",
          "name": "stderr",
          "text": [
            "Epoch [25/50], Loss: 0.0002: 100%|██████████| 1062/1062 [00:22<00:00, 47.99it/s]\n"
          ]
        },
        {
          "output_type": "stream",
          "name": "stdout",
          "text": [
            "Checkpoint saved at: /content/drive/MyDrive/ATNLP/crispy_fortnight/17_12_2024_transformer_exp2_epoch_50.pth\n"
          ]
        },
        {
          "output_type": "stream",
          "name": "stderr",
          "text": [
            "Epoch [26/50], Loss: 0.0003: 100%|██████████| 1062/1062 [00:22<00:00, 47.64it/s]\n"
          ]
        },
        {
          "output_type": "stream",
          "name": "stdout",
          "text": [
            "Checkpoint saved at: /content/drive/MyDrive/ATNLP/crispy_fortnight/17_12_2024_transformer_exp2_epoch_50.pth\n"
          ]
        },
        {
          "output_type": "stream",
          "name": "stderr",
          "text": [
            "Epoch [27/50], Loss: 0.0009: 100%|██████████| 1062/1062 [00:21<00:00, 48.50it/s]\n"
          ]
        },
        {
          "output_type": "stream",
          "name": "stdout",
          "text": [
            "Checkpoint saved at: /content/drive/MyDrive/ATNLP/crispy_fortnight/17_12_2024_transformer_exp2_epoch_50.pth\n"
          ]
        },
        {
          "output_type": "stream",
          "name": "stderr",
          "text": [
            "Epoch [28/50], Loss: 0.0209: 100%|██████████| 1062/1062 [00:22<00:00, 48.25it/s]\n"
          ]
        },
        {
          "output_type": "stream",
          "name": "stdout",
          "text": [
            "Checkpoint saved at: /content/drive/MyDrive/ATNLP/crispy_fortnight/17_12_2024_transformer_exp2_epoch_50.pth\n"
          ]
        },
        {
          "output_type": "stream",
          "name": "stderr",
          "text": [
            "Epoch [29/50], Loss: 0.0008: 100%|██████████| 1062/1062 [00:22<00:00, 48.19it/s]\n"
          ]
        },
        {
          "output_type": "stream",
          "name": "stdout",
          "text": [
            "Checkpoint saved at: /content/drive/MyDrive/ATNLP/crispy_fortnight/17_12_2024_transformer_exp2_epoch_50.pth\n"
          ]
        },
        {
          "output_type": "stream",
          "name": "stderr",
          "text": [
            "Epoch [30/50], Loss: 0.0026: 100%|██████████| 1062/1062 [00:22<00:00, 47.90it/s]\n"
          ]
        },
        {
          "output_type": "stream",
          "name": "stdout",
          "text": [
            "Checkpoint saved at: /content/drive/MyDrive/ATNLP/crispy_fortnight/17_12_2024_transformer_exp2_epoch_50.pth\n"
          ]
        },
        {
          "output_type": "stream",
          "name": "stderr",
          "text": [
            "Epoch [31/50], Loss: 0.0025: 100%|██████████| 1062/1062 [00:22<00:00, 48.21it/s]\n"
          ]
        },
        {
          "output_type": "stream",
          "name": "stdout",
          "text": [
            "Checkpoint saved at: /content/drive/MyDrive/ATNLP/crispy_fortnight/17_12_2024_transformer_exp2_epoch_50.pth\n"
          ]
        },
        {
          "output_type": "stream",
          "name": "stderr",
          "text": [
            "Epoch [32/50], Loss: 0.0004: 100%|██████████| 1062/1062 [00:22<00:00, 48.21it/s]\n"
          ]
        },
        {
          "output_type": "stream",
          "name": "stdout",
          "text": [
            "Checkpoint saved at: /content/drive/MyDrive/ATNLP/crispy_fortnight/17_12_2024_transformer_exp2_epoch_50.pth\n"
          ]
        },
        {
          "output_type": "stream",
          "name": "stderr",
          "text": [
            "Epoch [33/50], Loss: 0.0129: 100%|██████████| 1062/1062 [00:22<00:00, 48.01it/s]\n"
          ]
        },
        {
          "output_type": "stream",
          "name": "stdout",
          "text": [
            "Checkpoint saved at: /content/drive/MyDrive/ATNLP/crispy_fortnight/17_12_2024_transformer_exp2_epoch_50.pth\n"
          ]
        },
        {
          "output_type": "stream",
          "name": "stderr",
          "text": [
            "Epoch [34/50], Loss: 0.0001: 100%|██████████| 1062/1062 [00:22<00:00, 47.60it/s]\n"
          ]
        },
        {
          "output_type": "stream",
          "name": "stdout",
          "text": [
            "Checkpoint saved at: /content/drive/MyDrive/ATNLP/crispy_fortnight/17_12_2024_transformer_exp2_epoch_50.pth\n"
          ]
        },
        {
          "output_type": "stream",
          "name": "stderr",
          "text": [
            "Epoch [35/50], Loss: 0.0003: 100%|██████████| 1062/1062 [00:21<00:00, 48.33it/s]\n"
          ]
        },
        {
          "output_type": "stream",
          "name": "stdout",
          "text": [
            "Checkpoint saved at: /content/drive/MyDrive/ATNLP/crispy_fortnight/17_12_2024_transformer_exp2_epoch_50.pth\n"
          ]
        },
        {
          "output_type": "stream",
          "name": "stderr",
          "text": [
            "Epoch [36/50], Loss: 0.0002: 100%|██████████| 1062/1062 [00:22<00:00, 47.96it/s]\n"
          ]
        },
        {
          "output_type": "stream",
          "name": "stdout",
          "text": [
            "Checkpoint saved at: /content/drive/MyDrive/ATNLP/crispy_fortnight/17_12_2024_transformer_exp2_epoch_50.pth\n"
          ]
        },
        {
          "output_type": "stream",
          "name": "stderr",
          "text": [
            "Epoch [37/50], Loss: 0.0267: 100%|██████████| 1062/1062 [00:22<00:00, 47.90it/s]\n"
          ]
        },
        {
          "output_type": "stream",
          "name": "stdout",
          "text": [
            "Checkpoint saved at: /content/drive/MyDrive/ATNLP/crispy_fortnight/17_12_2024_transformer_exp2_epoch_50.pth\n"
          ]
        },
        {
          "output_type": "stream",
          "name": "stderr",
          "text": [
            "Epoch [38/50], Loss: 0.0003: 100%|██████████| 1062/1062 [00:22<00:00, 47.92it/s]\n"
          ]
        },
        {
          "output_type": "stream",
          "name": "stdout",
          "text": [
            "Checkpoint saved at: /content/drive/MyDrive/ATNLP/crispy_fortnight/17_12_2024_transformer_exp2_epoch_50.pth\n"
          ]
        },
        {
          "output_type": "stream",
          "name": "stderr",
          "text": [
            "Epoch [39/50], Loss: 0.0002: 100%|██████████| 1062/1062 [00:21<00:00, 48.44it/s]\n"
          ]
        },
        {
          "output_type": "stream",
          "name": "stdout",
          "text": [
            "Checkpoint saved at: /content/drive/MyDrive/ATNLP/crispy_fortnight/17_12_2024_transformer_exp2_epoch_50.pth\n"
          ]
        },
        {
          "output_type": "stream",
          "name": "stderr",
          "text": [
            "Epoch [40/50], Loss: 0.0005: 100%|██████████| 1062/1062 [00:22<00:00, 47.87it/s]\n"
          ]
        },
        {
          "output_type": "stream",
          "name": "stdout",
          "text": [
            "Checkpoint saved at: /content/drive/MyDrive/ATNLP/crispy_fortnight/17_12_2024_transformer_exp2_epoch_50.pth\n"
          ]
        },
        {
          "output_type": "stream",
          "name": "stderr",
          "text": [
            "Epoch [41/50], Loss: 0.0002: 100%|██████████| 1062/1062 [00:22<00:00, 48.10it/s]\n"
          ]
        },
        {
          "output_type": "stream",
          "name": "stdout",
          "text": [
            "Checkpoint saved at: /content/drive/MyDrive/ATNLP/crispy_fortnight/17_12_2024_transformer_exp2_epoch_50.pth\n"
          ]
        },
        {
          "output_type": "stream",
          "name": "stderr",
          "text": [
            "Epoch [42/50], Loss: 0.0009: 100%|██████████| 1062/1062 [00:21<00:00, 48.29it/s]\n"
          ]
        },
        {
          "output_type": "stream",
          "name": "stdout",
          "text": [
            "Checkpoint saved at: /content/drive/MyDrive/ATNLP/crispy_fortnight/17_12_2024_transformer_exp2_epoch_50.pth\n"
          ]
        },
        {
          "output_type": "stream",
          "name": "stderr",
          "text": [
            "Epoch [43/50], Loss: 0.0004: 100%|██████████| 1062/1062 [00:22<00:00, 48.08it/s]\n"
          ]
        },
        {
          "output_type": "stream",
          "name": "stdout",
          "text": [
            "Checkpoint saved at: /content/drive/MyDrive/ATNLP/crispy_fortnight/17_12_2024_transformer_exp2_epoch_50.pth\n"
          ]
        },
        {
          "output_type": "stream",
          "name": "stderr",
          "text": [
            "Epoch [44/50], Loss: 0.0001: 100%|██████████| 1062/1062 [00:22<00:00, 48.04it/s]\n"
          ]
        },
        {
          "output_type": "stream",
          "name": "stdout",
          "text": [
            "Checkpoint saved at: /content/drive/MyDrive/ATNLP/crispy_fortnight/17_12_2024_transformer_exp2_epoch_50.pth\n"
          ]
        },
        {
          "output_type": "stream",
          "name": "stderr",
          "text": [
            "Epoch [45/50], Loss: 0.0002: 100%|██████████| 1062/1062 [00:22<00:00, 47.80it/s]\n"
          ]
        },
        {
          "output_type": "stream",
          "name": "stdout",
          "text": [
            "Checkpoint saved at: /content/drive/MyDrive/ATNLP/crispy_fortnight/17_12_2024_transformer_exp2_epoch_50.pth\n"
          ]
        },
        {
          "output_type": "stream",
          "name": "stderr",
          "text": [
            "Epoch [46/50], Loss: 0.0001: 100%|██████████| 1062/1062 [00:21<00:00, 48.32it/s]\n"
          ]
        },
        {
          "output_type": "stream",
          "name": "stdout",
          "text": [
            "Checkpoint saved at: /content/drive/MyDrive/ATNLP/crispy_fortnight/17_12_2024_transformer_exp2_epoch_50.pth\n"
          ]
        },
        {
          "output_type": "stream",
          "name": "stderr",
          "text": [
            "Epoch [47/50], Loss: 0.0001: 100%|██████████| 1062/1062 [00:22<00:00, 47.85it/s]\n"
          ]
        },
        {
          "output_type": "stream",
          "name": "stdout",
          "text": [
            "Checkpoint saved at: /content/drive/MyDrive/ATNLP/crispy_fortnight/17_12_2024_transformer_exp2_epoch_50.pth\n"
          ]
        },
        {
          "output_type": "stream",
          "name": "stderr",
          "text": [
            "Epoch [48/50], Loss: 0.0009: 100%|██████████| 1062/1062 [00:22<00:00, 47.81it/s]\n"
          ]
        },
        {
          "output_type": "stream",
          "name": "stdout",
          "text": [
            "Checkpoint saved at: /content/drive/MyDrive/ATNLP/crispy_fortnight/17_12_2024_transformer_exp2_epoch_50.pth\n"
          ]
        },
        {
          "output_type": "stream",
          "name": "stderr",
          "text": [
            "Epoch [49/50], Loss: 0.0003: 100%|██████████| 1062/1062 [00:22<00:00, 47.88it/s]\n"
          ]
        },
        {
          "output_type": "stream",
          "name": "stdout",
          "text": [
            "Checkpoint saved at: /content/drive/MyDrive/ATNLP/crispy_fortnight/17_12_2024_transformer_exp2_epoch_50.pth\n"
          ]
        },
        {
          "output_type": "stream",
          "name": "stderr",
          "text": [
            "Epoch [50/50], Loss: 0.0001: 100%|██████████| 1062/1062 [00:22<00:00, 48.18it/s]\n"
          ]
        },
        {
          "output_type": "stream",
          "name": "stdout",
          "text": [
            "Checkpoint saved at: /content/drive/MyDrive/ATNLP/crispy_fortnight/17_12_2024_transformer_exp2_epoch_50.pth\n"
          ]
        },
        {
          "output_type": "display_data",
          "data": {
            "text/plain": [
              "<IPython.core.display.HTML object>"
            ],
            "text/html": [
              "\n",
              "    <style>\n",
              "        .wandb-row {\n",
              "            display: flex;\n",
              "            flex-direction: row;\n",
              "            flex-wrap: wrap;\n",
              "            justify-content: flex-start;\n",
              "            width: 100%;\n",
              "        }\n",
              "        .wandb-col {\n",
              "            display: flex;\n",
              "            flex-direction: column;\n",
              "            flex-basis: 100%;\n",
              "            flex: 1;\n",
              "            padding: 10px;\n",
              "        }\n",
              "    </style>\n",
              "<div class=\"wandb-row\"><div class=\"wandb-col\"><h3>Run history:</h3><br/><table class=\"wandb\"><tr><td>Epoch Loss</td><td>█▃▂▂▁▁▁▁▁▁▁▁▁▁▁▁▁▁▁▁▁▁▁▁▁▁▁▁▁▁▁▁▁▁▁▁▁▁▁▁</td></tr><tr><td>Step Loss</td><td>█▃▃▃▃▁▁▁▁▁▁▁▁▁▁▁▁▁▁▁▁▁▁▁▁▁▁▁▁▁▁▁▁▁▁▁▁▁▁▂</td></tr></table><br/></div><div class=\"wandb-col\"><h3>Run summary:</h3><br/><table class=\"wandb\"><tr><td>Epoch Loss</td><td>0.00202</td></tr><tr><td>Step Loss</td><td>6e-05</td></tr></table><br/></div></div>"
            ]
          },
          "metadata": {}
        },
        {
          "output_type": "display_data",
          "data": {
            "text/plain": [
              "<IPython.core.display.HTML object>"
            ],
            "text/html": [
              " View run <strong style=\"color:#cdcd00\">experiment_2_50_epochs</strong> at: <a href='https://wandb.ai/jan-ljubas/transformer_training/runs/cmvg49s2' target=\"_blank\">https://wandb.ai/jan-ljubas/transformer_training/runs/cmvg49s2</a><br/> View project at: <a href='https://wandb.ai/jan-ljubas/transformer_training' target=\"_blank\">https://wandb.ai/jan-ljubas/transformer_training</a><br/>Synced 5 W&B file(s), 0 media file(s), 0 artifact file(s) and 0 other file(s)"
            ]
          },
          "metadata": {}
        },
        {
          "output_type": "display_data",
          "data": {
            "text/plain": [
              "<IPython.core.display.HTML object>"
            ],
            "text/html": [
              "Find logs at: <code>./wandb/run-20241217_191249-cmvg49s2/logs</code>"
            ]
          },
          "metadata": {}
        }
      ],
      "source": [
        "optimizer = optim.AdamW(model.parameters(), lr=LEARNING_RATE)\n",
        "criterion = nn.CrossEntropyLoss(ignore_index=word2idx_tgt['<PAD>'])\n",
        "\n",
        "# Training loop\n",
        "num_epochs = 50  # Updated to 75 epochs\n",
        "losses = []\n",
        "\n",
        "# Initialize wandb\n",
        "wandb.init(project=\"transformer_training\", name=f\"experiment_2_{num_epochs}_epochs\")  # Use appropriate project and run names\n",
        "wandb.config = {\n",
        "    \"learning_rate\": LEARNING_RATE,\n",
        "    \"epochs\": num_epochs,\n",
        "    \"batch_size\": train_loader.batch_size,\n",
        "    \"gradient_clip\": GRAD_CLIP\n",
        "}\n",
        "\n",
        "for epoch in range(num_epochs):\n",
        "    model.train()\n",
        "    epoch_loss = 0\n",
        "\n",
        "    for step, (src, tgt) in (pbar := tqdm(enumerate(train_loader), total=len(train_loader))):\n",
        "        src, tgt = src.to(device), tgt.to(device)\n",
        "\n",
        "        optimizer.zero_grad()\n",
        "\n",
        "        # output = model(src, tgt)\n",
        "        output = model(src, tgt[:, :-1])\n",
        "        output_dim = output.shape[-1]\n",
        "\n",
        "        output = output.contiguous().view(-1, output_dim)\n",
        "        tgt = tgt[:, 1:].contiguous().view(-1)\n",
        "\n",
        "        loss = criterion(output, tgt)\n",
        "        loss.backward()\n",
        "\n",
        "        # Gradient clipping\n",
        "        torch.nn.utils.clip_grad_norm_(model.parameters(), GRAD_CLIP)\n",
        "\n",
        "        wandb.log({\"Step Loss\": loss.item()})\n",
        "        pbar.set_description(f'Epoch [{epoch+1}/{num_epochs}], Loss: {loss:.4f}')\n",
        "\n",
        "        optimizer.step()\n",
        "        epoch_loss += loss.item()\n",
        "\n",
        "    avg_epoch_loss = epoch_loss / len(train_loader)\n",
        "    losses.append(avg_epoch_loss)\n",
        "\n",
        "    # Log average epoch loss to wandb\n",
        "    wandb.log({\"Epoch Loss\": avg_epoch_loss})\n",
        "\n",
        "    # Save model\n",
        "    checkpoint_path = f\"/content/drive/MyDrive/ATNLP/crispy_fortnight/17_12_2024_transformer_exp2_epoch_{num_epochs}.pth\"\n",
        "    torch.save({\n",
        "        'epoch': epoch + 1,\n",
        "        'model_state_dict': model.state_dict(),\n",
        "        'optimizer_state_dict': optimizer.state_dict(),\n",
        "        'losses': losses,  # Save losses up to the current epoch\n",
        "    }, checkpoint_path)\n",
        "    print(f\"Checkpoint saved at: {checkpoint_path}\")\n",
        "\n",
        "wandb.finish()\n"
      ]
    },
    {
      "cell_type": "code",
      "execution_count": 16,
      "metadata": {
        "colab": {
          "base_uri": "https://localhost:8080/",
          "height": 559
        },
        "id": "Ccqu_3AaBs8w",
        "outputId": "b4aad928-e1e1-4dca-8db5-4388290b8231"
      },
      "outputs": [
        {
          "output_type": "display_data",
          "data": {
            "text/plain": [
              "<IPython.core.display.HTML object>"
            ],
            "text/html": [
              "Tracking run with wandb version 0.18.7"
            ]
          },
          "metadata": {}
        },
        {
          "output_type": "display_data",
          "data": {
            "text/plain": [
              "<IPython.core.display.HTML object>"
            ],
            "text/html": [
              "Run data is saved locally in <code>/content/wandb/run-20241217_193121-ksu7t7by</code>"
            ]
          },
          "metadata": {}
        },
        {
          "output_type": "display_data",
          "data": {
            "text/plain": [
              "<IPython.core.display.HTML object>"
            ],
            "text/html": [
              "Syncing run <strong><a href='https://wandb.ai/jan-ljubas/transformer_training/runs/ksu7t7by' target=\"_blank\">/content/drive/MyDrive/ATNLP/crispy_fortnight/17_12_2024_transformer_exp2_epoch_50.pth</a></strong> to <a href='https://wandb.ai/jan-ljubas/transformer_training' target=\"_blank\">Weights & Biases</a> (<a href='https://wandb.me/developer-guide' target=\"_blank\">docs</a>)<br/>"
            ]
          },
          "metadata": {}
        },
        {
          "output_type": "display_data",
          "data": {
            "text/plain": [
              "<IPython.core.display.HTML object>"
            ],
            "text/html": [
              " View project at <a href='https://wandb.ai/jan-ljubas/transformer_training' target=\"_blank\">https://wandb.ai/jan-ljubas/transformer_training</a>"
            ]
          },
          "metadata": {}
        },
        {
          "output_type": "display_data",
          "data": {
            "text/plain": [
              "<IPython.core.display.HTML object>"
            ],
            "text/html": [
              " View run at <a href='https://wandb.ai/jan-ljubas/transformer_training/runs/ksu7t7by' target=\"_blank\">https://wandb.ai/jan-ljubas/transformer_training/runs/ksu7t7by</a>"
            ]
          },
          "metadata": {}
        },
        {
          "output_type": "display_data",
          "data": {
            "text/plain": [
              "<Figure size 640x480 with 1 Axes>"
            ],
            "image/png": "[encoded data removed]"
          },
          "metadata": {}
        }
      ],
      "source": [
        "import matplotlib.pyplot as plt\n",
        "# plt.figure(1)\n",
        "# plt.plot(losses)\n",
        "\n",
        "wandb.init(project=\"transformer_training\", name=f\"experiment_2_{num_epochs}_epochs_plot\")  # Use appropriate project and run names\n",
        "\n",
        "# Plot and log the loss curve\n",
        "plt.plot(range(1, len(losses) + 1), losses, label=\"Training Loss\")\n",
        "plt.xlabel(\"Epoch\")\n",
        "plt.ylabel(\"Loss\")\n",
        "plt.title(\"Training Loss Curve\")\n",
        "plt.legend()\n",
        "plt.savefig(\"loss_curve.png\")  # Save the plot locally\n",
        "\n",
        "# Log the plot to wandb\n",
        "wandb.log({\"Loss Curve\": wandb.Image(\"loss_curve.png\")})\n"
      ]
    },
    {
      "cell_type": "code",
      "execution_count": 8,
      "metadata": {
        "id": "L_9AQFYoBs8w"
      },
      "outputs": [],
      "source": [
        "# Reverse the word-to-index mapping\n",
        "idx2word_src = {idx: w for w, idx in word2idx_src.items()}\n",
        "idx2word_tgt = {idx: w for w, idx in word2idx_tgt.items()}\n",
        "\n",
        "def decode_indices(indices, idx2word):\n",
        "    return ' '.join(idx2word[idx] for idx in indices if idx in idx2word and idx != word2idx_src['<PAD>'])"
      ]
    },
    {
      "cell_type": "code",
      "execution_count": 9,
      "metadata": {
        "colab": {
          "base_uri": "https://localhost:8080/"
        },
        "id": "sGSvdE5dBs8w",
        "outputId": "8daf409d-389d-47f5-c396-eaad32e1831a"
      },
      "outputs": [
        {
          "output_type": "stream",
          "name": "stdout",
          "text": [
            "7\n",
            "4\n"
          ]
        }
      ],
      "source": [
        "print(word2idx_tgt['<SOS>'])\n",
        "print(word2idx_tgt['<EOS>'])"
      ]
    },
    {
      "cell_type": "code",
      "source": [
        "checkpoint_path = \"/content/drive/MyDrive/ATNLP/crispy_fortnight/17_12_2024_transformer_exp2_epoch_50.pth\""
      ],
      "metadata": {
        "id": "n2GZtBosBQZf"
      },
      "execution_count": 17,
      "outputs": []
    },
    {
      "cell_type": "code",
      "execution_count": 18,
      "metadata": {
        "id": "gG_NQeWsBs8x"
      },
      "outputs": [],
      "source": [
        "# EXPLANATION: I had to make length functions thta return the length of the sequence without the special tokens to get the keys for the dictionaries\n",
        "# One of them uses the word2idx_src and the other uses the word2idx_tgt to remove the special tokens and return the length\n",
        "\n",
        "def length_tgt(seq):\n",
        "    pad_token = word2idx_tgt['<PAD>']\n",
        "    sos_token = word2idx_tgt['<SOS>']\n",
        "    eos_token = word2idx_tgt['<EOS>']\n",
        "\n",
        "    # seq is a tensor of numbers clean it form all pad, sos, or eos tokens\n",
        "    seq = seq[seq != pad_token]\n",
        "    seq = seq[seq != sos_token]\n",
        "    seq = seq[seq != eos_token]\n",
        "\n",
        "    return len(seq)\n",
        "\n",
        "\n",
        "def length_src(seq):\n",
        "    pad_token = word2idx_src['<PAD>']\n",
        "    eos_token = word2idx_src['<EOS>']\n",
        "\n",
        "    # seq is a tensor of numbers clean it form all pad, sos, or eos tokens\n",
        "    seq = seq[seq != pad_token]\n",
        "    seq = seq[seq != eos_token]\n",
        "\n",
        "    return len(seq)\n",
        "\n",
        "\n",
        "# decoded_sentences = [idx2word_src[w] for w in [ 6,  5, 11, 14,  8,  0,  0,  0,  0,  0]]\n",
        "# print(decoded_sentences)\n",
        "\n",
        "# print(length_src(torch.tensor([ 6,  5, 11, 14,  8,  0,  0,  0,  0,  0])))"
      ]
    },
    {
      "cell_type": "markdown",
      "metadata": {
        "id": "SQmDJrPjBs8x"
      },
      "source": [
        "## Without oracle"
      ]
    },
    {
      "cell_type": "code",
      "execution_count": 19,
      "metadata": {
        "colab": {
          "base_uri": "https://localhost:8080/",
          "height": 542
        },
        "id": "7CVVHo0mBs8x",
        "outputId": "02cc4581-537f-4112-a55d-99eee75f29f5"
      },
      "outputs": [
        {
          "output_type": "display_data",
          "data": {
            "text/plain": [
              "<IPython.core.display.HTML object>"
            ],
            "text/html": [
              "Finishing last run (ID:ksu7t7by) before initializing another..."
            ]
          },
          "metadata": {}
        },
        {
          "output_type": "display_data",
          "data": {
            "text/plain": [
              "<IPython.core.display.HTML object>"
            ],
            "text/html": [
              " View run <strong style=\"color:#cdcd00\">/content/drive/MyDrive/ATNLP/crispy_fortnight/17_12_2024_transformer_exp2_epoch_50.pth</strong> at: <a href='https://wandb.ai/jan-ljubas/transformer_training/runs/ksu7t7by' target=\"_blank\">https://wandb.ai/jan-ljubas/transformer_training/runs/ksu7t7by</a><br/> View project at: <a href='https://wandb.ai/jan-ljubas/transformer_training' target=\"_blank\">https://wandb.ai/jan-ljubas/transformer_training</a><br/>Synced 5 W&B file(s), 0 media file(s), 0 artifact file(s) and 1 other file(s)"
            ]
          },
          "metadata": {}
        },
        {
          "output_type": "display_data",
          "data": {
            "text/plain": [
              "<IPython.core.display.HTML object>"
            ],
            "text/html": [
              "Find logs at: <code>./wandb/run-20241217_193121-ksu7t7by/logs</code>"
            ]
          },
          "metadata": {}
        },
        {
          "output_type": "display_data",
          "data": {
            "text/plain": [
              "<IPython.core.display.HTML object>"
            ],
            "text/html": [
              "Successfully finished last run (ID:ksu7t7by). Initializing new run:<br/>"
            ]
          },
          "metadata": {}
        },
        {
          "output_type": "display_data",
          "data": {
            "text/plain": [
              "<IPython.core.display.HTML object>"
            ],
            "text/html": [
              "Tracking run with wandb version 0.18.7"
            ]
          },
          "metadata": {}
        },
        {
          "output_type": "display_data",
          "data": {
            "text/plain": [
              "<IPython.core.display.HTML object>"
            ],
            "text/html": [
              "Run data is saved locally in <code>/content/wandb/run-20241217_193123-1lmyrx67</code>"
            ]
          },
          "metadata": {}
        },
        {
          "output_type": "display_data",
          "data": {
            "text/plain": [
              "<IPython.core.display.HTML object>"
            ],
            "text/html": [
              "Syncing run <strong><a href='https://wandb.ai/jan-ljubas/transformer_testing/runs/1lmyrx67' target=\"_blank\">test_results_17_12_2024_transformer_exp2_{num_epochs}</a></strong> to <a href='https://wandb.ai/jan-ljubas/transformer_testing' target=\"_blank\">Weights & Biases</a> (<a href='https://wandb.me/developer-guide' target=\"_blank\">docs</a>)<br/>"
            ]
          },
          "metadata": {}
        },
        {
          "output_type": "display_data",
          "data": {
            "text/plain": [
              "<IPython.core.display.HTML object>"
            ],
            "text/html": [
              " View project at <a href='https://wandb.ai/jan-ljubas/transformer_testing' target=\"_blank\">https://wandb.ai/jan-ljubas/transformer_testing</a>"
            ]
          },
          "metadata": {}
        },
        {
          "output_type": "display_data",
          "data": {
            "text/plain": [
              "<IPython.core.display.HTML object>"
            ],
            "text/html": [
              " View run at <a href='https://wandb.ai/jan-ljubas/transformer_testing/runs/1lmyrx67' target=\"_blank\">https://wandb.ai/jan-ljubas/transformer_testing/runs/1lmyrx67</a>"
            ]
          },
          "metadata": {}
        },
        {
          "output_type": "stream",
          "name": "stderr",
          "text": [
            "<ipython-input-19-a9c8f458317b>:9: FutureWarning: You are using `torch.load` with `weights_only=False` (the current default value), which uses the default pickle module implicitly. It is possible to construct malicious pickle data which will execute arbitrary code during unpickling (See https://github.com/pytorch/pytorch/blob/main/SECURITY.md#untrusted-models for more details). In a future release, the default value for `weights_only` will be flipped to `True`. This limits the functions that could be executed during unpickling. Arbitrary objects will no longer be allowed to be loaded via this mode unless they are explicitly allowlisted by the user via `torch.serialization.add_safe_globals`. We recommend you start setting `weights_only=True` for any use case where you don't have full control of the loaded file. Please open an issue on GitHub for any issues related to this experimental feature.\n",
            "  ckp = torch.load(checkpoint_path)\n"
          ]
        },
        {
          "output_type": "stream",
          "name": "stdout",
          "text": [
            "command_tokenavgs_avg = {8: 0.619983918714386, 9: 0.5530390984779368, 4: 0.625, 7: 0.5819428616650798, 6: 0.6140625000000005}\n",
            "gt_tokenavgs_avg = {24: 0.8601190476190474, 25: 0.7352678571428559, 26: 0.5860126201923052, 27: 0.5749834656084651, 28: 0.5783641581632646, 30: 0.5550925925925919, 32: 0.5733119419642857, 33: 0.426728219696969, 36: 0.43055555555555586, 40: 0.44414062499999896, 48: 0.2622070312500003}\n",
            "tkn_lvl_acc = 0.5856570816631425\n",
            "seq_lvl acc = 0.0\n"
          ]
        },
        {
          "output_type": "display_data",
          "data": {
            "text/plain": [
              "<IPython.core.display.HTML object>"
            ],
            "text/html": [
              "\n",
              "    <style>\n",
              "        .wandb-row {\n",
              "            display: flex;\n",
              "            flex-direction: row;\n",
              "            flex-wrap: wrap;\n",
              "            justify-content: flex-start;\n",
              "            width: 100%;\n",
              "        }\n",
              "        .wandb-col {\n",
              "            display: flex;\n",
              "            flex-direction: column;\n",
              "            flex-basis: 100%;\n",
              "            flex: 1;\n",
              "            padding: 10px;\n",
              "        }\n",
              "    </style>\n",
              "<div class=\"wandb-row\"><div class=\"wandb-col\"><h3>Run history:</h3><br/><table class=\"wandb\"><tr><td>Sequence-Level Accuracy</td><td>▁</td></tr><tr><td>Token-Level Accuracy</td><td>▁</td></tr></table><br/></div><div class=\"wandb-col\"><h3>Run summary:</h3><br/><table class=\"wandb\"><tr><td>Sequence-Level Accuracy</td><td>0</td></tr><tr><td>Token-Level Accuracy</td><td>0.58566</td></tr></table><br/></div></div>"
            ]
          },
          "metadata": {}
        },
        {
          "output_type": "display_data",
          "data": {
            "text/plain": [
              "<IPython.core.display.HTML object>"
            ],
            "text/html": [
              " View run <strong style=\"color:#cdcd00\">test_results_17_12_2024_transformer_exp2_{num_epochs}</strong> at: <a href='https://wandb.ai/jan-ljubas/transformer_testing/runs/1lmyrx67' target=\"_blank\">https://wandb.ai/jan-ljubas/transformer_testing/runs/1lmyrx67</a><br/> View project at: <a href='https://wandb.ai/jan-ljubas/transformer_testing' target=\"_blank\">https://wandb.ai/jan-ljubas/transformer_testing</a><br/>Synced 5 W&B file(s), 0 media file(s), 4 artifact file(s) and 2 other file(s)"
            ]
          },
          "metadata": {}
        },
        {
          "output_type": "display_data",
          "data": {
            "text/plain": [
              "<IPython.core.display.HTML object>"
            ],
            "text/html": [
              "Find logs at: <code>./wandb/run-20241217_193123-1lmyrx67/logs</code>"
            ]
          },
          "metadata": {}
        }
      ],
      "source": [
        "#EXPLANATION: This is the same as when you have last seen it I only changed the calculation of the lengths of the sequences to use as keys\n",
        "#checkpoint_path = \"transformer_exp2_test.pth\"\n",
        "\n",
        "\n",
        "# Initialize wandb for testing\n",
        "wandb.init(project=\"transformer_testing\", name=f\"test_results_17_12_2024_transformer_exp2_{num_epochs}\")\n",
        "\n",
        "# Load model checkpoint\n",
        "ckp = torch.load(checkpoint_path)\n",
        "model.load_state_dict(ckp['model_state_dict'])\n",
        "model.to(device)\n",
        "model.eval()\n",
        "\n",
        "# Metrics initialization\n",
        "avg_token = []\n",
        "avg_seq = []\n",
        "gt_token_avgs = {}\n",
        "command_token_avgs = {}\n",
        "\n",
        "n_batches = len(test_loader)\n",
        "\n",
        "# Loop through the test data\n",
        "for src_batch, tgt_batch in test_loader:\n",
        "    for src, tgt in zip(src_batch, tgt_batch):\n",
        "        len_gt = length_tgt(tgt)\n",
        "        len_command = length_src(src)\n",
        "        if len_command == 3 or len_command == 5:\n",
        "            print(src)\n",
        "\n",
        "        src = src.unsqueeze(0).to(device)\n",
        "        true_tgt = tgt.unsqueeze(0).to(device)\n",
        "        tgt = torch.tensor([[word2idx_tgt['<SOS>']]]).to(device)\n",
        "\n",
        "        iterations = MAX_LEN - 1\n",
        "        pred_sequence = [tgt.item()]\n",
        "\n",
        "        # Generate predictions\n",
        "        for i in range(iterations):\n",
        "            with torch.no_grad():\n",
        "                output = model.forward(src, tgt)\n",
        "                predictions = nn.functional.softmax(output[:, -1, :], dim=-1)\n",
        "                next_token = predictions.argmax(-1).item()\n",
        "\n",
        "                pred_sequence.append(next_token)\n",
        "                tgt = torch.tensor(pred_sequence).unsqueeze(0).to(device)\n",
        "\n",
        "                # Stop if end of sequence\n",
        "                if next_token == word2idx_tgt['<EOS>']:\n",
        "                    break\n",
        "\n",
        "        # Calculate metrics\n",
        "        tok_lvl_acc = token_lvl_accuracy(true_tgt, tgt)\n",
        "        seq_lvl_acc = sequence_level_accuracy(true_tgt, tgt)\n",
        "        avg_token.append(tok_lvl_acc)\n",
        "        avg_seq.append(seq_lvl_acc)\n",
        "\n",
        "        if len_gt in gt_token_avgs:\n",
        "            gt_token_avgs[len_gt].append(tok_lvl_acc)\n",
        "        else:\n",
        "            gt_token_avgs[len_gt] = [tok_lvl_acc]\n",
        "\n",
        "        if len_command in command_token_avgs:\n",
        "            command_token_avgs[len_command].append(tok_lvl_acc)\n",
        "        else:\n",
        "            command_token_avgs[len_command] = [tok_lvl_acc]\n",
        "\n",
        "\n",
        "\n",
        "command_tokenavgs_avg = {k: sum(v) / len(v) for k, v in command_token_avgs.items()}\n",
        "gt_tokenavgs_avg = {k: sum(v) / len(v) for k, v in gt_token_avgs.items()}\n",
        "\n",
        "tkn_lvl_acc = sum(avg_token) / len(avg_token)\n",
        "seq_lvl_acc = sum(avg_seq) / len(avg_seq)\n",
        "\n",
        "wandb.log({\n",
        "    \"Token-Level Accuracy\": tkn_lvl_acc,\n",
        "    \"Sequence-Level Accuracy\": seq_lvl_acc,\n",
        "    \"Command Token Length Averages\": command_tokenavgs_avg,\n",
        "    \"GT Token Length Averages\": gt_tokenavgs_avg,\n",
        "})\n",
        "\n",
        "print(f\"command_tokenavgs_avg = {command_tokenavgs_avg}\")\n",
        "print(f\"gt_tokenavgs_avg = {gt_tokenavgs_avg}\")\n",
        "print(f\"tkn_lvl_acc = {tkn_lvl_acc}\")\n",
        "print(f\"seq_lvl acc = {seq_lvl_acc}\")\n",
        "\n",
        "command_table = [[k, sum(v) / len(v)] for k, v in command_token_avgs.items()]\n",
        "gt_table = [[k, sum(v) / len(v)] for k, v in gt_token_avgs.items()]\n",
        "\n",
        "wandb.log({\n",
        "    \"Command Token Length Accuracies\": wandb.Table(columns=[\"Length\", \"Accuracy\"], data=command_table),\n",
        "    \"GT Token Length Accuracies\": wandb.Table(columns=[\"Length\", \"Accuracy\"], data=gt_table)\n",
        "})\n",
        "\n",
        "wandb.finish()"
      ]
    },
    {
      "cell_type": "code",
      "execution_count": 20,
      "metadata": {
        "colab": {
          "base_uri": "https://localhost:8080/"
        },
        "id": "haTwnIm_Bs8x",
        "outputId": "1241b34b-0ea9-4243-f7b8-afe91549a1b3"
      },
      "outputs": [
        {
          "output_type": "stream",
          "name": "stdout",
          "text": [
            "dict_keys([8, 9, 4, 7, 6])\n",
            "dict_keys([24, 25, 26, 27, 28, 30, 32, 33, 36, 40, 48])\n",
            "command_tokenavgs_avg = {8: 0.619983918714386, 9: 0.5530390984779368, 4: 0.625, 7: 0.5819428616650798, 6: 0.6140625000000005}\n",
            "gt_tokenavgs_avg = {24: 0.8601190476190474, 25: 0.7352678571428559, 26: 0.5860126201923052, 27: 0.5749834656084651, 28: 0.5783641581632646, 30: 0.5550925925925919, 32: 0.5733119419642857, 33: 0.426728219696969, 36: 0.43055555555555586, 40: 0.44414062499999896, 48: 0.2622070312500003}\n",
            "tkn_lvl_acc = 0.5856570816631425\n",
            "seq_lvl acc = 0.0\n"
          ]
        }
      ],
      "source": [
        "#EXPLANATION: This prints out all relevant data we need for the results and plots\n",
        "# (also prints out the keys for the dictionaries not necessary but to sanity check)\n",
        "print(command_token_avgs.keys())\n",
        "print(gt_token_avgs.keys())\n",
        "\n",
        "command_tokenavgs_avg = {k: sum(v) / len(v) for k, v in command_token_avgs.items()}\n",
        "gt_tokenavgs_avg = {k: sum(v) / len(v) for k, v in gt_token_avgs.items()}\n",
        "\n",
        "#TODO FOR JAN: Paste the printouts below to the first cell below Plotting without oracle\n",
        "print(f\"command_tokenavgs_avg = {command_tokenavgs_avg}\")\n",
        "print(f\"gt_tokenavgs_avg = {gt_tokenavgs_avg}\")\n",
        "\n",
        "print(f\"tkn_lvl_acc = {sum(avg_token) / len(avg_token)}\")\n",
        "print(f\"seq_lvl acc = {sum(avg_seq) / len(avg_seq)}\")"
      ]
    },
    {
      "cell_type": "markdown",
      "metadata": {
        "id": "AjtLWTfnBs8x"
      },
      "source": [
        "## Oracle"
      ]
    },
    {
      "cell_type": "code",
      "execution_count": 21,
      "metadata": {
        "colab": {
          "base_uri": "https://localhost:8080/",
          "height": 368
        },
        "id": "pgXYjcT1Bs8x",
        "outputId": "2b930da9-fcd5-4a2d-c1db-f1e2b97b5907"
      },
      "outputs": [
        {
          "output_type": "display_data",
          "data": {
            "text/plain": [
              "<IPython.core.display.HTML object>"
            ],
            "text/html": [
              "Tracking run with wandb version 0.18.7"
            ]
          },
          "metadata": {}
        },
        {
          "output_type": "display_data",
          "data": {
            "text/plain": [
              "<IPython.core.display.HTML object>"
            ],
            "text/html": [
              "Run data is saved locally in <code>/content/wandb/run-20241217_193739-lnvtr44a</code>"
            ]
          },
          "metadata": {}
        },
        {
          "output_type": "display_data",
          "data": {
            "text/plain": [
              "<IPython.core.display.HTML object>"
            ],
            "text/html": [
              "Syncing run <strong><a href='https://wandb.ai/jan-ljubas/transformer_testing/runs/lnvtr44a' target=\"_blank\">test_results_with_oracle_17_12_2024_transformer_exp2_50</a></strong> to <a href='https://wandb.ai/jan-ljubas/transformer_testing' target=\"_blank\">Weights & Biases</a> (<a href='https://wandb.me/developer-guide' target=\"_blank\">docs</a>)<br/>"
            ]
          },
          "metadata": {}
        },
        {
          "output_type": "display_data",
          "data": {
            "text/plain": [
              "<IPython.core.display.HTML object>"
            ],
            "text/html": [
              " View project at <a href='https://wandb.ai/jan-ljubas/transformer_testing' target=\"_blank\">https://wandb.ai/jan-ljubas/transformer_testing</a>"
            ]
          },
          "metadata": {}
        },
        {
          "output_type": "display_data",
          "data": {
            "text/plain": [
              "<IPython.core.display.HTML object>"
            ],
            "text/html": [
              " View run at <a href='https://wandb.ai/jan-ljubas/transformer_testing/runs/lnvtr44a' target=\"_blank\">https://wandb.ai/jan-ljubas/transformer_testing/runs/lnvtr44a</a>"
            ]
          },
          "metadata": {}
        },
        {
          "output_type": "stream",
          "name": "stderr",
          "text": [
            "<ipython-input-21-b2d157a9abdc>:12: FutureWarning: You are using `torch.load` with `weights_only=False` (the current default value), which uses the default pickle module implicitly. It is possible to construct malicious pickle data which will execute arbitrary code during unpickling (See https://github.com/pytorch/pytorch/blob/main/SECURITY.md#untrusted-models for more details). In a future release, the default value for `weights_only` will be flipped to `True`. This limits the functions that could be executed during unpickling. Arbitrary objects will no longer be allowed to be loaded via this mode unless they are explicitly allowlisted by the user via `torch.serialization.add_safe_globals`. We recommend you start setting `weights_only=True` for any use case where you don't have full control of the loaded file. Please open an issue on GitHub for any issues related to this experimental feature.\n",
            "  ckp = torch.load(checkpoint_path)\n"
          ]
        },
        {
          "output_type": "display_data",
          "data": {
            "text/plain": [
              "<IPython.core.display.HTML object>"
            ],
            "text/html": [
              "\n",
              "    <style>\n",
              "        .wandb-row {\n",
              "            display: flex;\n",
              "            flex-direction: row;\n",
              "            flex-wrap: wrap;\n",
              "            justify-content: flex-start;\n",
              "            width: 100%;\n",
              "        }\n",
              "        .wandb-col {\n",
              "            display: flex;\n",
              "            flex-direction: column;\n",
              "            flex-basis: 100%;\n",
              "            flex: 1;\n",
              "            padding: 10px;\n",
              "        }\n",
              "    </style>\n",
              "<div class=\"wandb-row\"><div class=\"wandb-col\"><h3>Run history:</h3><br/><table class=\"wandb\"><tr><td>Sequence-Level Accuracy</td><td>▁</td></tr><tr><td>Token-Level Accuracy</td><td>▁</td></tr></table><br/></div><div class=\"wandb-col\"><h3>Run summary:</h3><br/><table class=\"wandb\"><tr><td>Sequence-Level Accuracy</td><td>0.26709</td></tr><tr><td>Token-Level Accuracy</td><td>0.75619</td></tr></table><br/></div></div>"
            ]
          },
          "metadata": {}
        },
        {
          "output_type": "display_data",
          "data": {
            "text/plain": [
              "<IPython.core.display.HTML object>"
            ],
            "text/html": [
              " View run <strong style=\"color:#cdcd00\">test_results_with_oracle_17_12_2024_transformer_exp2_50</strong> at: <a href='https://wandb.ai/jan-ljubas/transformer_testing/runs/lnvtr44a' target=\"_blank\">https://wandb.ai/jan-ljubas/transformer_testing/runs/lnvtr44a</a><br/> View project at: <a href='https://wandb.ai/jan-ljubas/transformer_testing' target=\"_blank\">https://wandb.ai/jan-ljubas/transformer_testing</a><br/>Synced 5 W&B file(s), 0 media file(s), 0 artifact file(s) and 0 other file(s)"
            ]
          },
          "metadata": {}
        },
        {
          "output_type": "display_data",
          "data": {
            "text/plain": [
              "<IPython.core.display.HTML object>"
            ],
            "text/html": [
              "Find logs at: <code>./wandb/run-20241217_193739-lnvtr44a/logs</code>"
            ]
          },
          "metadata": {}
        }
      ],
      "source": [
        "#EXPLANATION: here we added the oracle to the code. If the model puts out an <EOS> token before the ground truth sequence ends\n",
        "# it will choose the second most probable token instead of the <EOS> token.\n",
        "# This is done by checking if the predicted sequence is shorter than the ground truth sequence.\n",
        "# Further, we need to collect more data this time. We additonal collect the sequence level accuracies for the ground truth and the command sequences.\n",
        "\n",
        "\n",
        "\n",
        "# Initialize wandb for testing\n",
        "wandb.init(project=\"transformer_testing\", name=f\"test_results_with_oracle_17_12_2024_transformer_exp2_{num_epochs}\")\n",
        "\n",
        "\n",
        "ckp = torch.load(checkpoint_path)\n",
        "model.load_state_dict(ckp['model_state_dict'])\n",
        "total_tokens = 0\n",
        "correct_tokens = 0\n",
        "\n",
        "src, tgt = next(iter(test_loader))\n",
        "# print(src.shape, tgt.shape)\n",
        "\n",
        "avg_token = []\n",
        "avg_seq = []\n",
        "gt_token_avgs = {}\n",
        "command_token_avgs = {}\n",
        "gt_seq_avgs = {}\n",
        "command_seq_avgs = {}\n",
        "\n",
        "n_batches = len(test_loader)\n",
        "# l = 0\n",
        "for src_batch, tgt_batch in test_loader:\n",
        "    for src, tgt in zip(src_batch, tgt_batch):\n",
        "        len_gt = length_tgt(tgt)\n",
        "        len_command = length_src(src)\n",
        "\n",
        "        src = src.unsqueeze(0).to(device)\n",
        "        true_tgt = tgt.unsqueeze(0).to(device)\n",
        "        tgt = torch.tensor([[word2idx_tgt['<SOS>']]]).to(device)\n",
        "\n",
        "        iterations = MAX_LEN - 1\n",
        "        pred_sequence = [tgt.item()]\n",
        "        # print(tgt.shape)\n",
        "        # print(src.shape, true_tgt.shape)\n",
        "\n",
        "        for i in range(iterations):\n",
        "            with torch.no_grad():\n",
        "                output = model.forward(src, tgt)\n",
        "                predictions = nn.functional.softmax(output[:, -1, :], dim=-1)\n",
        "                next_token = predictions.argmax(-1).item()\n",
        "\n",
        "                #EXPLANATION: Oracle implementation\n",
        "                if next_token == word2idx_tgt['<EOS>'] and len(pred_sequence) < len_gt + 1:\n",
        "                    next_token = predictions.argsort(-1, descending=True).squeeze()[1].item()\n",
        "\n",
        "                pred_sequence.append(next_token)\n",
        "                tgt = torch.tensor(pred_sequence).unsqueeze(0).to(device)\n",
        "\n",
        "\n",
        "                # Stop if end of sequence\n",
        "                if next_token == word2idx_tgt['<EOS>']:\n",
        "                    break\n",
        "\n",
        "        tok_lvl_acc = token_lvl_accuracy(true_tgt, tgt)\n",
        "        seq_lvl_acc = sequence_level_accuracy(true_tgt, tgt)\n",
        "        avg_token.append(tok_lvl_acc)\n",
        "        avg_seq.append(seq_lvl_acc)\n",
        "\n",
        "        if len_gt in gt_token_avgs:\n",
        "            gt_token_avgs[len_gt].append(tok_lvl_acc)\n",
        "        else:\n",
        "            gt_token_avgs[len_gt] =[tok_lvl_acc]\n",
        "\n",
        "        if len_command in command_token_avgs:\n",
        "            command_token_avgs[len_command].append(tok_lvl_acc)\n",
        "        else:\n",
        "            command_token_avgs[len_command] =[tok_lvl_acc]\n",
        "\n",
        "        if len_gt in gt_seq_avgs:\n",
        "            gt_seq_avgs[len_gt].append(seq_lvl_acc)\n",
        "        else:\n",
        "            gt_seq_avgs[len_gt] = [seq_lvl_acc]\n",
        "\n",
        "        if len_command in command_seq_avgs:\n",
        "            command_seq_avgs[len_command].append(seq_lvl_acc)\n",
        "        else:\n",
        "            command_seq_avgs[len_command] =[seq_lvl_acc]\n",
        "\n",
        "\n",
        "\n",
        "\n",
        "# Compute averages\n",
        "command_tokenavgs_avg = {k: sum(v) / len(v) for k, v in command_token_avgs.items()}\n",
        "gt_tokenavgs_avg = {k: sum(v) / len(v) for k, v in gt_token_avgs.items()}\n",
        "command_seqavgs_avg = {k: sum(v) / len(v) for k, v in command_seq_avgs.items()}\n",
        "gt_seqavgs_avg = {k: sum(v) / len(v) for k, v in gt_seq_avgs.items()}\n",
        "\n",
        "# Overall accuracies\n",
        "tkn_lvl_acc = sum(avg_token) / len(avg_token)\n",
        "seq_lvl_acc = sum(avg_seq) / len(avg_seq)\n",
        "\n",
        "# Log results to wandb\n",
        "wandb.log({\n",
        "    \"Token-Level Accuracy\": tkn_lvl_acc,\n",
        "    \"Sequence-Level Accuracy\": seq_lvl_acc,\n",
        "    \"Command Token Length Averages\": command_tokenavgs_avg,\n",
        "    \"GT Token Length Averages\": gt_tokenavgs_avg,\n",
        "    \"Command Sequence Length Averages\": command_seqavgs_avg,\n",
        "    \"GT Sequence Length Averages\": gt_seqavgs_avg,\n",
        "})\n",
        "\n",
        "# Log custom tables for detailed analysis\n",
        "command_token_table = [[k, sum(v) / len(v)] for k, v in command_token_avgs.items()]\n",
        "gt_token_table = [[k, sum(v) / len(v)] for k, v in gt_token_avgs.items()]\n",
        "command_seq_table = [[k, sum(v) / len(v)] for k, v in command_seq_avgs.items()]\n",
        "gt_seq_table = [[k, sum(v) / len(v)] for k, v in gt_seq_avgs.items()]\n",
        "\n",
        "# wandb.log({\n",
        "#     \"Command Token Length Accuracies\": wandb.Table(columns=[\"Length\", \"Accuracy\"], data=command_token_table),\n",
        "#     \"GT Token Length Accuracies\": wandb.Table(columns=[\"Length\", \"Accuracy\"], data=gt_token_table),\n",
        "#     \"Command Sequence Length Accuracies\": wandb.Table(columns=[\"Length\", \"Accuracy\"], data=command_seq_table),\n",
        "#     \"GT Sequence Length Accuracies\": wandb.Table(columns=[\"Length\", \"Accuracy\"], data=gt_seq_table),\n",
        "# })\n",
        "\n",
        "\n",
        "# Finish wandb run\n",
        "wandb.finish()"
      ]
    },
    {
      "cell_type": "code",
      "execution_count": 22,
      "metadata": {
        "id": "otfkDiFPBs8y",
        "colab": {
          "base_uri": "https://localhost:8080/"
        },
        "outputId": "e6b3e485-d307-421a-8372-d936d3e165c7"
      },
      "outputs": [
        {
          "output_type": "stream",
          "name": "stdout",
          "text": [
            "dict_keys([8, 9, 4, 7, 6])\n",
            "dict_keys([24, 25, 26, 27, 28, 30, 32, 33, 36, 40, 48])\n",
            "command_tokenavgs_avg = {8: 0.792556097325861, 9: 0.7163712445859739, 4: 0.6979166666666667, 7: 0.7748768872499734, 6: 0.7593303571428573}\n",
            "gt_tokenavgs_avg = {24: 0.7090183068494792, 25: 0.707059553368971, 26: 0.8004473824786332, 27: 0.7579744808101221, 28: 0.773878139308856, 30: 0.7745228714245546, 32: 0.8210417050777561, 33: 0.5737114875959093, 36: 0.8333333333333336, 40: 0.7866864423861353, 48: 0.7625520833333322}\n",
            "command_seqavgs_avg = {8: 0.3580729166666667, 9: 0.17643540669856458, 4: 0.0, 7: 0.2847222222222222, 6: 0.296875}\n",
            "gt_seqavgs_avg = {24: 0.017857142857142856, 25: 0.14508928571428573, 26: 0.330078125, 27: 0.35044642857142855, 28: 0.24553571428571427, 30: 0.3541666666666667, 32: 0.38169642857142855, 33: 0.0, 36: 0.5, 40: 0.51953125, 48: 0.0}\n",
            "tkn_lvl_acc = 0.7561851001387492\n",
            "seq_lvl_acc = 0.2670918367346939\n"
          ]
        }
      ],
      "source": [
        "#EXPLANATION: print out of data for the results and plots (+keys)\n",
        "print(command_token_avgs.keys())\n",
        "print(gt_token_avgs.keys())\n",
        "\n",
        "command_tokenavgs_avg = {k: sum(v) / len(v) for k, v in command_token_avgs.items()}\n",
        "gt_tokenavgs_avg = {k: sum(v) / len(v) for k, v in gt_token_avgs.items()}\n",
        "\n",
        "command_seqavgs_avg = {k: sum(v) / len(v) for k, v in command_seq_avgs.items()}\n",
        "gt_seqavgs_avg = {k: sum(v) / len(v) for k, v in gt_seq_avgs.items()}\n",
        "\n",
        "#TODO FOR JAN: Paste the printouts below to the first cell below Plotting with oracle\n",
        "\n",
        "print(f\"command_tokenavgs_avg = {command_tokenavgs_avg}\")\n",
        "print(f\"gt_tokenavgs_avg = {gt_tokenavgs_avg}\")\n",
        "\n",
        "print(f\"command_seqavgs_avg = {command_seqavgs_avg}\")\n",
        "print(f\"gt_seqavgs_avg = {gt_seqavgs_avg}\")\n",
        "\n",
        "print(f\"tkn_lvl_acc = {sum(avg_token) / len(avg_token)}\")\n",
        "print(f\"seq_lvl_acc = {sum(avg_seq) / len(avg_seq)}\")"
      ]
    },
    {
      "cell_type": "markdown",
      "metadata": {
        "id": "5mVv_-0GBs8y"
      },
      "source": [
        "## Plotting"
      ]
    },
    {
      "cell_type": "markdown",
      "metadata": {
        "id": "FBDJS3fmBs8y"
      },
      "source": [
        "### Plotting with oracle"
      ]
    },
    {
      "cell_type": "code",
      "execution_count": 25,
      "metadata": {
        "id": "m50Tqi7ABs8y"
      },
      "outputs": [],
      "source": [
        "#TODO FOR JAN: Paste them here\n",
        "\n",
        "# dict_keys([8, 9, 4, 7, 6])\n",
        "# dict_keys([24, 25, 26, 27, 28, 30, 32, 33, 36, 40, 48])\n",
        "command_tokenavgs_avg = {8: 0.792556097325861, 9: 0.7163712445859739, 4: 0.6979166666666667, 7: 0.7748768872499734, 6: 0.7593303571428573}\n",
        "gt_tokenavgs_avg = {24: 0.7090183068494792, 25: 0.707059553368971, 26: 0.8004473824786332, 27: 0.7579744808101221, 28: 0.773878139308856, 30: 0.7745228714245546, 32: 0.8210417050777561, 33: 0.5737114875959093, 36: 0.8333333333333336, 40: 0.7866864423861353, 48: 0.7625520833333322}\n",
        "command_seqavgs_avg = {8: 0.3580729166666667, 9: 0.17643540669856458, 4: 0.0, 7: 0.2847222222222222, 6: 0.296875}\n",
        "gt_seqavgs_avg = {24: 0.017857142857142856, 25: 0.14508928571428573, 26: 0.330078125, 27: 0.35044642857142855, 28: 0.24553571428571427, 30: 0.3541666666666667, 32: 0.38169642857142855, 33: 0.0, 36: 0.5, 40: 0.51953125, 48: 0.0}\n",
        "tkn_lvl_acc = 0.7561851001387492\n",
        "seq_lvl_acc = 0.2670918367346939"
      ]
    },
    {
      "cell_type": "code",
      "execution_count": 26,
      "metadata": {
        "id": "sOfKz4RVBs8y",
        "colab": {
          "base_uri": "https://localhost:8080/",
          "height": 976
        },
        "outputId": "4d923f72-1ec3-409a-c41c-b7dff321ad52"
      },
      "outputs": [
        {
          "output_type": "execute_result",
          "data": {
            "text/plain": [
              "[<matplotlib.axis.XTick at 0x7f79293d6680>,\n",
              " <matplotlib.axis.XTick at 0x7f79293d6fe0>,\n",
              " <matplotlib.axis.XTick at 0x7f7928d526e0>,\n",
              " <matplotlib.axis.XTick at 0x7f7901f79b40>,\n",
              " <matplotlib.axis.XTick at 0x7f7901f7a5f0>,\n",
              " <matplotlib.axis.XTick at 0x7f7901f7b0a0>]"
            ]
          },
          "metadata": {},
          "execution_count": 26
        },
        {
          "output_type": "display_data",
          "data": {
            "text/plain": [
              "<Figure size 1000x1000 with 2 Axes>"
            ],
            "image/png": "[encoded data removed]"
          },
          "metadata": {}
        }
      ],
      "source": [
        "#token plots\n",
        "fig, axs = plt.subplots(2, 1, figsize=(10, 10))\n",
        "\n",
        "# plot the average accuracy for each command length\n",
        "axs[0].bar(list(command_tokenavgs_avg.keys()), list(command_tokenavgs_avg.values()))\n",
        "axs[0].set_xlabel(\"Command Length (in words)\")\n",
        "axs[0].set_ylabel(\"Accuracy on New Commands\")\n",
        "axs[0].set_title(\"Token-Level Accuracy by Command Length\")\n",
        "axs[0].set_xticks([4, 6, 7, 8, 9])\n",
        "\n",
        "# plot the average accuracy for each ground-truth sequence length\n",
        "axs[1].bar(list(gt_tokenavgs_avg.keys()), list(gt_tokenavgs_avg.values()))\n",
        "axs[1].set_xlabel(\"Ground-Truth Action Sequence Length (in words)\")\n",
        "axs[1].set_ylabel(\"Accuracy on New Commands (%)\")\n",
        "axs[1].set_title(\"Token-Level Accuracy by Action Sequence Length\")\n",
        "axs[1].set_xticks([25, 30, 35, 40, 45, 50])\n"
      ]
    },
    {
      "cell_type": "code",
      "execution_count": 27,
      "metadata": {
        "id": "UHQqv4zABs8z",
        "colab": {
          "base_uri": "https://localhost:8080/",
          "height": 976
        },
        "outputId": "e0dd550e-d08c-421e-97d2-0e4d0d9a5d65"
      },
      "outputs": [
        {
          "output_type": "execute_result",
          "data": {
            "text/plain": [
              "[<matplotlib.axis.XTick at 0x7f7901e1cfd0>,\n",
              " <matplotlib.axis.XTick at 0x7f7901e1cfa0>,\n",
              " <matplotlib.axis.XTick at 0x7f7901e1c7f0>,\n",
              " <matplotlib.axis.XTick at 0x7f7901e847c0>,\n",
              " <matplotlib.axis.XTick at 0x7f7901e84fa0>,\n",
              " <matplotlib.axis.XTick at 0x7f7901e85a50>]"
            ]
          },
          "metadata": {},
          "execution_count": 27
        },
        {
          "output_type": "display_data",
          "data": {
            "text/plain": [
              "<Figure size 1000x1000 with 2 Axes>"
            ],
            "image/png": "[encoded data removed]"
          },
          "metadata": {}
        }
      ],
      "source": [
        "#sequence plots\n",
        "\n",
        "fig, axs = plt.subplots(2, 1, figsize=(10, 10))\n",
        "\n",
        "# plot the average accuracy for each command length\n",
        "axs[0].bar(list(command_seqavgs_avg.keys()), list(command_seqavgs_avg.values()))\n",
        "axs[0].set_xlabel(\"Command Length (in words)\")\n",
        "axs[0].set_ylabel(\"Accuracy on New Commands\")\n",
        "axs[0].set_title(\"Sequence-Level Accuracy by Command Length\")\n",
        "axs[0].set_xticks([4, 6, 7, 8, 9])\n",
        "\n",
        "# plot the average accuracy for each ground-truth sequence length\n",
        "axs[1].bar(list(gt_seqavgs_avg.keys()), list(gt_seqavgs_avg.values()))\n",
        "axs[1].set_xlabel(\"Ground-Truth Action Sequence Length (in words)\")\n",
        "axs[1].set_ylabel(\"Accuracy on New Commands (%)\")\n",
        "axs[1].set_title(\"Sequence-Level Accuracy by Action Sequence Length\")\n",
        "axs[1].set_xticks([25, 30, 35, 40, 45, 50])\n"
      ]
    },
    {
      "cell_type": "markdown",
      "metadata": {
        "id": "8TpwWaFUBs8z"
      },
      "source": [
        "### Plotting without oracle"
      ]
    },
    {
      "cell_type": "code",
      "source": [
        "#TODO FOR JAN: Paste them here\n",
        "\n",
        "# dict_keys([8, 9, 4, 7, 6])\n",
        "# dict_keys([24, 25, 26, 27, 28, 30, 32, 33, 36, 40, 48])\n",
        "command_tokenavgs_avg = {8: 0.619983918714386, 9: 0.5530390984779368, 4: 0.625, 7: 0.5819428616650798, 6: 0.6140625000000005}\n",
        "gt_tokenavgs_avg = {24: 0.8601190476190474, 25: 0.7352678571428559, 26: 0.5860126201923052, 27: 0.5749834656084651, 28: 0.5783641581632646, 30: 0.5550925925925919, 32: 0.5733119419642857, 33: 0.426728219696969, 36: 0.43055555555555586, 40: 0.44414062499999896, 48: 0.2622070312500003}\n",
        "tkn_lvl_acc = 0.5856570816631425\n",
        "seq_lvl_acc = 0.0"
      ],
      "metadata": {
        "id": "kRSFZpSoJMwN"
      },
      "execution_count": 28,
      "outputs": []
    },
    {
      "cell_type": "code",
      "source": [
        "#token plots\n",
        "fig, axs = plt.subplots(2, 1, figsize=(10, 10))\n",
        "\n",
        "# plot the average accuracy for each command length\n",
        "axs[0].bar(list(command_tokenavgs_avg.keys()), list(command_tokenavgs_avg.values()))\n",
        "axs[0].set_xlabel(\"Command Length (in words)\")\n",
        "axs[0].set_ylabel(\"Accuracy on New Commands\")\n",
        "axs[0].set_title(\"Token-Level Accuracy by Command Length\")\n",
        "axs[0].set_xticks([4, 6, 7, 8, 9])\n",
        "\n",
        "# plot the average accuracy for each ground-truth sequence length\n",
        "axs[1].bar(list(gt_tokenavgs_avg.keys()), list(gt_tokenavgs_avg.values()))\n",
        "axs[1].set_xlabel(\"Ground-Truth Action Sequence Length (in words)\")\n",
        "axs[1].set_ylabel(\"Accuracy on New Commands (%)\")\n",
        "axs[1].set_title(\"Token-Level Accuracy by Action Sequence Length\")\n",
        "axs[1].set_xticks([25, 30, 35, 40, 45, 50])"
      ],
      "metadata": {
        "id": "yeyPuQRRJBIM",
        "outputId": "a6eb9de1-482e-443c-b2a4-61fbf5d91070",
        "colab": {
          "base_uri": "https://localhost:8080/",
          "height": 976
        }
      },
      "execution_count": 29,
      "outputs": [
        {
          "output_type": "execute_result",
          "data": {
            "text/plain": [
              "[<matplotlib.axis.XTick at 0x7f7901efe1a0>,\n",
              " <matplotlib.axis.XTick at 0x7f7901efe170>,\n",
              " <matplotlib.axis.XTick at 0x7f7901efd9c0>,\n",
              " <matplotlib.axis.XTick at 0x7f7901d59b10>,\n",
              " <matplotlib.axis.XTick at 0x7f7901d5a5c0>,\n",
              " <matplotlib.axis.XTick at 0x7f7901d5b070>]"
            ]
          },
          "metadata": {},
          "execution_count": 29
        },
        {
          "output_type": "display_data",
          "data": {
            "text/plain": [
              "<Figure size 1000x1000 with 2 Axes>"
            ],
            "image/png": "[encoded data removed]"
          },
          "metadata": {}
        }
      ]
    }
  ],
  "metadata": {
    "kernelspec": {
      "display_name": "Python 3",
      "name": "python3"
    },
    "language_info": {
      "codemirror_mode": {
        "name": "ipython",
        "version": 3
      },
      "file_extension": ".py",
      "mimetype": "text/x-python",
      "name": "python",
      "nbconvert_exporter": "python",
      "pygments_lexer": "ipython3",
      "version": "3.8.16"
    },
    "colab": {
      "provenance": [],
      "machine_shape": "hm",
      "gpuType": "A100"
    },
    "accelerator": "GPU",
    "widgets": {
      "application/vnd.jupyter.widget-state+json": {
        "760a3328b6e146d4af5d2f68e6ea6338": {
          "model_module": "@jupyter-widgets/controls",
          "model_name": "VBoxModel",
          "model_module_version": "1.5.0",
          "state": {
            "_dom_classes": [],
            "_model_module": "@jupyter-widgets/controls",
            "_model_module_version": "1.5.0",
            "_model_name": "VBoxModel",
            "_view_count": null,
            "_view_module": "@jupyter-widgets/controls",
            "_view_module_version": "1.5.0",
            "_view_name": "VBoxView",
            "box_style": "",
            "children": [
              "IPY_MODEL_c6953cf3d8d94a9992b3a1ee9c2913d0",
              "IPY_MODEL_9c579b9c5b054edf82df65e7b46e81ab"
            ],
            "layout": "IPY_MODEL_806209c2d0994b1dba2051bd9cc9b774"
          }
        },
        "c6953cf3d8d94a9992b3a1ee9c2913d0": {
          "model_module": "@jupyter-widgets/controls",
          "model_name": "LabelModel",
          "model_module_version": "1.5.0",
          "state": {
            "_dom_classes": [],
            "_model_module": "@jupyter-widgets/controls",
            "_model_module_version": "1.5.0",
            "_model_name": "LabelModel",
            "_view_count": null,
            "_view_module": "@jupyter-widgets/controls",
            "_view_module_version": "1.5.0",
            "_view_name": "LabelView",
            "description": "",
            "description_tooltip": null,
            "layout": "IPY_MODEL_2cc05d9561584520940d663c5374c08a",
            "placeholder": "​",
            "style": "IPY_MODEL_b472d0a1eb8a4686863ebc8e9b0b29dd",
            "value": "Waiting for wandb.init()...\r"
          }
        },
        "9c579b9c5b054edf82df65e7b46e81ab": {
          "model_module": "@jupyter-widgets/controls",
          "model_name": "FloatProgressModel",
          "model_module_version": "1.5.0",
          "state": {
            "_dom_classes": [],
            "_model_module": "@jupyter-widgets/controls",
            "_model_module_version": "1.5.0",
            "_model_name": "FloatProgressModel",
            "_view_count": null,
            "_view_module": "@jupyter-widgets/controls",
            "_view_module_version": "1.5.0",
            "_view_name": "ProgressView",
            "bar_style": "",
            "description": "",
            "description_tooltip": null,
            "layout": "IPY_MODEL_9635ecf1c0684e29904dce7feff80419",
            "max": 1,
            "min": 0,
            "orientation": "horizontal",
            "style": "IPY_MODEL_24625d6f24924bfd9caa5e77d404e0df",
            "value": 1
          }
        },
        "806209c2d0994b1dba2051bd9cc9b774": {
          "model_module": "@jupyter-widgets/base",
          "model_name": "LayoutModel",
          "model_module_version": "1.2.0",
          "state": {
            "_model_module": "@jupyter-widgets/base",
            "_model_module_version": "1.2.0",
            "_model_name": "LayoutModel",
            "_view_count": null,
            "_view_module": "@jupyter-widgets/base",
            "_view_module_version": "1.2.0",
            "_view_name": "LayoutView",
            "align_content": null,
            "align_items": null,
            "align_self": null,
            "border": null,
            "bottom": null,
            "display": null,
            "flex": null,
            "flex_flow": null,
            "grid_area": null,
            "grid_auto_columns": null,
            "grid_auto_flow": null,
            "grid_auto_rows": null,
            "grid_column": null,
            "grid_gap": null,
            "grid_row": null,
            "grid_template_areas": null,
            "grid_template_columns": null,
            "grid_template_rows": null,
            "height": null,
            "justify_content": null,
            "justify_items": null,
            "left": null,
            "margin": null,
            "max_height": null,
            "max_width": null,
            "min_height": null,
            "min_width": null,
            "object_fit": null,
            "object_position": null,
            "order": null,
            "overflow": null,
            "overflow_x": null,
            "overflow_y": null,
            "padding": null,
            "right": null,
            "top": null,
            "visibility": null,
            "width": null
          }
        },
        "2cc05d9561584520940d663c5374c08a": {
          "model_module": "@jupyter-widgets/base",
          "model_name": "LayoutModel",
          "model_module_version": "1.2.0",
          "state": {
            "_model_module": "@jupyter-widgets/base",
            "_model_module_version": "1.2.0",
            "_model_name": "LayoutModel",
            "_view_count": null,
            "_view_module": "@jupyter-widgets/base",
            "_view_module_version": "1.2.0",
            "_view_name": "LayoutView",
            "align_content": null,
            "align_items": null,
            "align_self": null,
            "border": null,
            "bottom": null,
            "display": null,
            "flex": null,
            "flex_flow": null,
            "grid_area": null,
            "grid_auto_columns": null,
            "grid_auto_flow": null,
            "grid_auto_rows": null,
            "grid_column": null,
            "grid_gap": null,
            "grid_row": null,
            "grid_template_areas": null,
            "grid_template_columns": null,
            "grid_template_rows": null,
            "height": null,
            "justify_content": null,
            "justify_items": null,
            "left": null,
            "margin": null,
            "max_height": null,
            "max_width": null,
            "min_height": null,
            "min_width": null,
            "object_fit": null,
            "object_position": null,
            "order": null,
            "overflow": null,
            "overflow_x": null,
            "overflow_y": null,
            "padding": null,
            "right": null,
            "top": null,
            "visibility": null,
            "width": null
          }
        },
        "b472d0a1eb8a4686863ebc8e9b0b29dd": {
          "model_module": "@jupyter-widgets/controls",
          "model_name": "DescriptionStyleModel",
          "model_module_version": "1.5.0",
          "state": {
            "_model_module": "@jupyter-widgets/controls",
            "_model_module_version": "1.5.0",
            "_model_name": "DescriptionStyleModel",
            "_view_count": null,
            "_view_module": "@jupyter-widgets/base",
            "_view_module_version": "1.2.0",
            "_view_name": "StyleView",
            "description_width": ""
          }
        },
        "9635ecf1c0684e29904dce7feff80419": {
          "model_module": "@jupyter-widgets/base",
          "model_name": "LayoutModel",
          "model_module_version": "1.2.0",
          "state": {
            "_model_module": "@jupyter-widgets/base",
            "_model_module_version": "1.2.0",
            "_model_name": "LayoutModel",
            "_view_count": null,
            "_view_module": "@jupyter-widgets/base",
            "_view_module_version": "1.2.0",
            "_view_name": "LayoutView",
            "align_content": null,
            "align_items": null,
            "align_self": null,
            "border": null,
            "bottom": null,
            "display": null,
            "flex": null,
            "flex_flow": null,
            "grid_area": null,
            "grid_auto_columns": null,
            "grid_auto_flow": null,
            "grid_auto_rows": null,
            "grid_column": null,
            "grid_gap": null,
            "grid_row": null,
            "grid_template_areas": null,
            "grid_template_columns": null,
            "grid_template_rows": null,
            "height": null,
            "justify_content": null,
            "justify_items": null,
            "left": null,
            "margin": null,
            "max_height": null,
            "max_width": null,
            "min_height": null,
            "min_width": null,
            "object_fit": null,
            "object_position": null,
            "order": null,
            "overflow": null,
            "overflow_x": null,
            "overflow_y": null,
            "padding": null,
            "right": null,
            "top": null,
            "visibility": null,
            "width": null
          }
        },
        "24625d6f24924bfd9caa5e77d404e0df": {
          "model_module": "@jupyter-widgets/controls",
          "model_name": "ProgressStyleModel",
          "model_module_version": "1.5.0",
          "state": {
            "_model_module": "@jupyter-widgets/controls",
            "_model_module_version": "1.5.0",
            "_model_name": "ProgressStyleModel",
            "_view_count": null,
            "_view_module": "@jupyter-widgets/base",
            "_view_module_version": "1.2.0",
            "_view_name": "StyleView",
            "bar_color": null,
            "description_width": ""
          }
        }
      }
    }
  },
  "nbformat": 4,
  "nbformat_minor": 0
}