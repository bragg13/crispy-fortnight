{
 "cells": [
  {
   "cell_type": "code",
   "execution_count": 1,
   "metadata": {},
   "outputs": [],
   "source": [
    "# %%\n",
    "import os\n",
    "import math\n",
    "import numpy as np\n",
    "import torch\n",
    "import torch.nn as nn\n",
    "from transformer import Transformer\n",
    "import pandas as pd\n",
    "from torch.utils.data import DataLoader, Dataset\n",
    "from torch.nn.utils.rnn import pad_sequence\n",
    "import torch.optim as optim\n",
    "from tqdm import tqdm\n",
    "\n",
    "# %%\n",
    "# Set device\n",
    "device = torch.device(\"cuda\" if torch.cuda.is_available() else \"cpu\")\n",
    "# device = torch.device('mps')\n",
    "\n",
    "# EXPERIMENT 2:\n",
    "EMB_DIM = 128\n",
    "N_LAYERS = 2\n",
    "N_HEADS = 8\n",
    "FORWARD_DIM = 256\n",
    "DROPOUT = 0.15\n",
    "LEARNING_RATE = 2e-4\n",
    "GRAD_CLIP = 1\n",
    "BATCH_SIZE = 16\n",
    "MAX_LEN = 128"
   ]
  },
  {
   "cell_type": "code",
   "execution_count": 2,
   "metadata": {},
   "outputs": [
    {
     "name": "stdout",
     "output_type": "stream",
     "text": [
      "On cpu\n"
     ]
    }
   ],
   "source": [
    "print(f\"On {device}\")"
   ]
  },
  {
   "cell_type": "code",
   "execution_count": 3,
   "metadata": {},
   "outputs": [],
   "source": [
    "# Task 0: DataLoader and Preprocessing\n",
    "class TasksData(Dataset):\n",
    "    def __init__(self, data_dir, file, transform=None):\n",
    "        self.data_dir = data_dir\n",
    "        self.file = file\n",
    "        text_file = os.path.join(data_dir, file)\n",
    "\n",
    "        data_dict = {\"src\": [], \"tgt\": []}\n",
    "\n",
    "        with open(text_file, 'r') as f:\n",
    "            lines = f.readlines()\n",
    "            for line in lines:\n",
    "                src = line.split('OUT:')[0]\n",
    "                src = src.split('IN:')[1].strip()\n",
    "                tgt = line.split('OUT:')[1].strip()\n",
    "\n",
    "                data_dict['src'].append(src)\n",
    "                data_dict['tgt'].append(tgt)\n",
    "\n",
    "        self.data = pd.DataFrame(data_dict)\n",
    "\n",
    "\n",
    "    def __len__(self):\n",
    "        return len(self.data)\n",
    "\n",
    "    def __getitem__(self, idx):\n",
    "        src = self.data['src'].iloc[idx] + ' <EOS>'\n",
    "        tgt = '<SOS> ' + self.data['tgt'].iloc[idx] + ' <EOS>'\n",
    "        return src, tgt\n",
    "\n",
    "def create_vocab(dataset):\n",
    "    vocab = set()\n",
    "\n",
    "    for sample in dataset:\n",
    "        vocab.update(sample.split())\n",
    "    return vocab\n",
    "\n",
    "# %%\n",
    "# creating datasets\n",
    "train_data = TasksData(data_dir='data/experiment2', file='tasks_train_length.txt')\n",
    "test_data = TasksData(data_dir='data/experiment2', file='tasks_test_length.txt')\n",
    "\n",
    "#creating source and target vocab\n",
    "src_train_data = [src for src, tgt in train_data]\n",
    "vocab_train_src = create_vocab(src_train_data)\n",
    "\n",
    "tgt_train_data = [tgt for src, tgt in train_data]\n",
    "vocab_train_tgt = create_vocab(tgt_train_data)\n",
    "\n",
    "# we need to do word2idx to map the words to indexes. Bc the input for nn.Embedding has to be numbers\n",
    "# since nn.Embdding has different weights in input andoutput embedding the same index will not be encoded to the same vector\n",
    "word2idx_src = {w: idx + 1 for (idx, w) in enumerate(vocab_train_src)}\n",
    "word2idx_src['<PAD>'] = 0\n",
    "\n",
    "word2idx_tgt= {w: idx + 1 for (idx, w) in enumerate(vocab_train_tgt)}\n",
    "word2idx_tgt['<PAD>'] = 0\n",
    "\n",
    "def custom_collate_fn(batch):\n",
    "    #input: batch of sentences\n",
    "    # tokenize, word2idx, pad\n",
    "    padded_src = pad_sequence([torch.tensor([word2idx_src[w] for w in src.split()]) for src, tgt in batch], batch_first=True, padding_value=0).to(device)\n",
    "    padded_tgt = pad_sequence([torch.tensor([word2idx_tgt[w] for w in tgt.split()]) for src, tgt in batch], batch_first=True, padding_value=0).to(device)\n",
    "\n",
    "    return padded_src, padded_tgt\n",
    "\n",
    "# %%\n",
    "# create dataloaders\n",
    "train_loader = DataLoader(train_data, batch_size=BATCH_SIZE, shuffle=True, collate_fn=custom_collate_fn)\n",
    "test_loader = DataLoader(test_data, batch_size=BATCH_SIZE, shuffle=False, collate_fn=custom_collate_fn)"
   ]
  },
  {
   "cell_type": "code",
   "execution_count": 4,
   "metadata": {},
   "outputs": [],
   "source": [
    "# define the model\n",
    "model = Transformer(\n",
    "    src_vocab_size=len(word2idx_src),\n",
    "    tgt_vocab_size=len(word2idx_tgt),\n",
    "    src_pad_idx=word2idx_src['<PAD>'],\n",
    "    tgt_pad_idx=word2idx_tgt['<PAD>'],\n",
    "    emb_dim=EMB_DIM,\n",
    "    num_layers=N_LAYERS,\n",
    "    num_heads=N_HEADS,\n",
    "    forward_dim=FORWARD_DIM,\n",
    "    dropout=DROPOUT,\n",
    "    max_len=MAX_LEN,\n",
    ").to(device)"
   ]
  },
  {
   "cell_type": "markdown",
   "metadata": {},
   "source": [
    "## ACCURACY FUNCTIONS"
   ]
  },
  {
   "cell_type": "code",
   "execution_count": 5,
   "metadata": {},
   "outputs": [],
   "source": [
    "def token_lvl_accuracy(gt, pred):\n",
    "    \"\"\"\n",
    "    gt = ground truth sequence\n",
    "    pred = predicted sequence\n",
    "    \"\"\"\n",
    "    correct = 0\n",
    "    \n",
    "    # get start and end\n",
    "    eos_idx = word2idx_tgt['<EOS>']\n",
    "    sos_idx = word2idx_tgt['<SOS>']\n",
    "    # print(eos_idx)\n",
    "    # print(sos_idx)\n",
    "    pred = pred[-1]\n",
    "\n",
    "\n",
    "    gt = gt[-1]\n",
    "\n",
    "    # index of <SOS> and <EOS> tokens of the predicted sequence\n",
    "    pred_start = 0\n",
    "    pred_end = len(pred) if (eos_idx not in pred) else (pred == eos_idx).nonzero(as_tuple=True)[0].item()\n",
    "\n",
    "    # index of <SOS> and <EOS> tokens of the ground truth sequence\n",
    "    gt_start = (gt == sos_idx).nonzero(as_tuple=True)[0].item()\n",
    "    gt_end = (gt == eos_idx).nonzero(as_tuple=True)[0].item()\n",
    "\n",
    "    # slicing\n",
    "    gt = gt[gt_start+1 : gt_end]\n",
    "    pred = pred[pred_start+1 : pred_end]\n",
    "\n",
    "    longer = gt if len(gt) > len(pred) else pred\n",
    "    shorter = pred if len(gt) > len(pred) else gt\n",
    "\n",
    "    longest_len = len(longer)\n",
    "\n",
    "    shorter = torch.nn.functional.pad(shorter, (0, longest_len - len(shorter)), \"constant\", 0)\n",
    "\n",
    "    correct = sum(longer == shorter)\n",
    "    # print(longer)\n",
    "    # print(shorter)\n",
    "    # print(correct)\n",
    "    return int(correct) / len(shorter) # same length as longer\n",
    "\n",
    "\n",
    "def sequence_level_accuracy(gt, pred):\n",
    "\n",
    "    pred = pred[-1]\n",
    "    gt = gt[-1]\n",
    "\n",
    "    if len(gt) != len(pred):\n",
    "        return 0\n",
    "\n",
    "    if sum(gt == pred) == len(gt):\n",
    "        return 1\n",
    "\n",
    "    return 0\n"
   ]
  },
  {
   "cell_type": "markdown",
   "metadata": {},
   "source": [
    "## TRAINING"
   ]
  },
  {
   "cell_type": "code",
   "execution_count": 6,
   "metadata": {},
   "outputs": [
    {
     "name": "stderr",
     "output_type": "stream",
     "text": [
      "  0%|          | 0/1062 [00:00<?, ?it/s]"
     ]
    },
    {
     "name": "stderr",
     "output_type": "stream",
     "text": [
      "/home/jarl/UniStuff/ATNLP/crispy-fortnight/transformer.py:187: UserWarning: The use of `x.T` on tensors of dimension other than 2 to reverse their shape is deprecated and it will throw an error in a future release. Consider `x.mT` to transpose batches of matrices or `x.permute(*torch.arange(x.ndim - 1, -1, -1))` to reverse the dimensions of a tensor. (Triggered internally at /croot/pytorch_1681837265408/work/aten/src/ATen/native/TensorShape.cpp:3277.)\n",
      "  K_transposed = K.T.permute(3, 1, 0, 2)\n",
      "Epoch [1/1], Loss: 0.5721: 100%|██████████| 1062/1062 [02:56<00:00,  6.01it/s]\n"
     ]
    }
   ],
   "source": [
    "optimizer = optim.AdamW(model.parameters(), lr=LEARNING_RATE)\n",
    "criterion = nn.CrossEntropyLoss(ignore_index=word2idx_tgt['<PAD>'])\n",
    "\n",
    "# Training loop\n",
    "num_epochs = 1\n",
    "losses = []\n",
    "accuraacy = []\n",
    "for epoch in range(num_epochs):\n",
    "    model.train()\n",
    "    epoch_loss = 0\n",
    "\n",
    "    for step, (src, tgt) in (pbar := tqdm(enumerate(train_loader), total=len(train_loader))):\n",
    "        src, tgt = src.to(device), tgt.to(device)\n",
    "\n",
    "        optimizer.zero_grad()\n",
    "\n",
    "        # output = model(src, tgt)\n",
    "        output = model(src, tgt[:, :-1])\n",
    "        output_dim = output.shape[-1]\n",
    "\n",
    "        output = output.contiguous().view(-1, output_dim)\n",
    "        tgt = tgt[:, 1:].contiguous().view(-1)\n",
    "\n",
    "        loss = criterion(output, tgt)\n",
    "        loss.backward()\n",
    "\n",
    "        # Gradient clipping\n",
    "        torch.nn.utils.clip_grad_norm_(model.parameters(), GRAD_CLIP)\n",
    "\n",
    "        pbar.set_description(f'Epoch [{epoch+1}/{num_epochs}], Loss: {loss:.4f}')\n",
    "\n",
    "        optimizer.step()\n",
    "        epoch_loss += loss.item()\n",
    "    avg_epoch_loss = epoch_loss / len(train_loader)\n",
    "    losses.append(avg_epoch_loss)\n",
    "checkpoint_path = f\"transformer_exp1_15.pth\"\n",
    "torch.save(\n",
    "    {'model_state_dict': model.state_dict(),\n",
    "    'optimizer_state_dict': optimizer.state_dict(),\n",
    "}, checkpoint_path)\n"
   ]
  },
  {
   "cell_type": "code",
   "execution_count": 7,
   "metadata": {},
   "outputs": [
    {
     "data": {
      "text/plain": [
       "[<matplotlib.lines.Line2D at 0x7e6e303fbe50>]"
      ]
     },
     "execution_count": 7,
     "metadata": {},
     "output_type": "execute_result"
    },
    {
     "data": {
      "image/png": "[encoded data removed]",
      "text/plain": [
       "<Figure size 640x480 with 1 Axes>"
      ]
     },
     "metadata": {},
     "output_type": "display_data"
    }
   ],
   "source": [
    "import matplotlib.pyplot as plt\n",
    "plt.figure(1)\n",
    "plt.plot(losses)"
   ]
  },
  {
   "cell_type": "code",
   "execution_count": 8,
   "metadata": {},
   "outputs": [],
   "source": [
    "# Reverse the word-to-index mapping\n",
    "idx2word_src = {idx: w for w, idx in word2idx_src.items()}\n",
    "idx2word_tgt = {idx: w for w, idx in word2idx_tgt.items()}\n",
    "\n",
    "def decode_indices(indices, idx2word):\n",
    "    return ' '.join(idx2word[idx] for idx in indices if idx in idx2word and idx != word2idx_src['<PAD>'])"
   ]
  },
  {
   "cell_type": "markdown",
   "metadata": {},
   "source": [
    "## TESTING"
   ]
  },
  {
   "cell_type": "code",
   "execution_count": 11,
   "metadata": {},
   "outputs": [
    {
     "name": "stdout",
     "output_type": "stream",
     "text": [
      "torch.Size([16, 10])\n",
      "tensor([[ 2,  5, 11,  4,  3,  2,  5, 10,  8,  0]])\n",
      "ground t: tensor([[8, 2, 5, 2, 5, 2, 5, 2, 5, 2, 5, 2, 5, 2, 5, 2, 5, 3, 5, 3, 5, 3, 5, 3,\n",
      "         5, 6]])\n",
      "predicted: tensor([[8, 3, 5, 3, 5, 3, 5, 3, 5, 3, 5, 3, 5, 3, 5, 3, 5, 3, 5, 3, 5, 3, 5, 3,\n",
      "         5, 3, 5, 3, 5, 3, 5, 3, 5, 3, 5, 3, 5, 3, 5, 3, 5, 3, 5, 3, 5, 3, 5, 3,\n",
      "         5, 3, 5, 3, 5, 3, 5, 3, 5, 3, 5, 3, 5, 3, 5, 3, 5, 3, 5, 3, 5, 3, 5, 3,\n",
      "         5, 3, 5, 3, 5, 3, 5, 3, 5, 3, 5, 3, 5, 3, 5, 3, 5, 3, 5, 3, 5, 3, 5, 3,\n",
      "         5, 3, 5, 3, 5, 3, 5, 3, 5, 3, 5, 3, 5, 3, 5, 3, 5, 3, 5, 3, 5, 3, 5, 3,\n",
      "         5, 3, 5, 3, 5, 3, 5, 3]])\n",
      "0.12598425196850394\n"
     ]
    }
   ],
   "source": [
    "checkpoint_path = f\"transformer_exp2_test.pth\"\n",
    "ckp = torch.load(checkpoint_path)\n",
    "model.load_state_dict(ckp['model_state_dict'])\n",
    "total_tokens = 0\n",
    "correct_tokens = 0\n",
    "\n",
    "def inference(input_seq: str):\n",
    "    model.eval()\n",
    "    pass\n",
    "\n",
    "model.eval()\n",
    "\n",
    "src, true_tgt = next(iter(test_loader))\n",
    "print(src.shape)\n",
    "src = src[0].unsqueeze(0).to(device)\n",
    "true_tgt = true_tgt[0].unsqueeze(0).to(device)\n",
    "# src, true_tgt = next(iter(test_loader))[0][0].unsqueeze(0).to(device)\n",
    "\n",
    "print(src)\n",
    "tgt = torch.tensor([[word2idx_tgt['<SOS>']]]).to(device)\n",
    "# tgt = torch.tensor([[word2idx_tgt['<SOS>']]]).to(device)\n",
    "\n",
    "# print(f'tgt {tgt.shape}')\n",
    "# print(f'src {src.shape}')\n",
    "iterations = MAX_LEN - 1\n",
    "pred_sequence = [tgt.item()]\n",
    "# print(pred_sequence)\n",
    "\n",
    "for i in range(iterations):\n",
    "    with torch.no_grad():\n",
    "        # print(tgt)\n",
    "        output = model.forward(src, tgt)\n",
    "        predictions = nn.functional.softmax(output[:, -1, :], dim=-1)\n",
    "        # print(\"argmax:\", predictions.argmax(-1).shape)\n",
    "        next_token = predictions.argmax(-1).item()\n",
    "\n",
    "\n",
    "        # next_token_tensor = torch.tensor([[next_token]]).to(device)\n",
    "        # tgt = torch.cat([tgt, next_token_tensor], dim=1)\n",
    "        \n",
    "        pred_sequence.append(next_token)\n",
    "        tgt = torch.tensor(pred_sequence).unsqueeze(0).to(device)\n",
    "\n",
    "        if next_token == word2idx_tgt['<EOS>']:\n",
    "            break\n",
    "        \n",
    "        # print(tgt.shape)\n",
    "        # print(\"tgt\", tgt)\n",
    "\n",
    "print(f'ground t: {true_tgt}')\n",
    "print(f'predicted: {tgt}')\n",
    "print(token_lvl_accuracy(true_tgt, tgt))\n"
   ]
  },
  {
   "cell_type": "code",
   "execution_count": null,
   "metadata": {},
   "outputs": [
    {
     "name": "stdout",
     "output_type": "stream",
     "text": [
      "1\n",
      "4\n"
     ]
    }
   ],
   "source": [
    "print(word2idx_tgt['<SOS>'])\n",
    "print(word2idx_tgt['<EOS>'])"
   ]
  },
  {
   "cell_type": "markdown",
   "metadata": {},
   "source": [
    "# BATCH INFERENCE"
   ]
  },
  {
   "cell_type": "code",
   "execution_count": 33,
   "metadata": {},
   "outputs": [
    {
     "name": "stdout",
     "output_type": "stream",
     "text": [
      "1 / 245\n",
      "2 / 245\n",
      "3 / 245\n",
      "4 / 245\n"
     ]
    },
    {
     "ename": "KeyboardInterrupt",
     "evalue": "",
     "output_type": "error",
     "traceback": [
      "\u001b[0;31m---------------------------------------------------------------------------\u001b[0m",
      "\u001b[0;31mKeyboardInterrupt\u001b[0m                         Traceback (most recent call last)",
      "Cell \u001b[0;32mIn[33], line 37\u001b[0m\n\u001b[1;32m     35\u001b[0m \u001b[38;5;28;01mfor\u001b[39;00m i \u001b[38;5;129;01min\u001b[39;00m \u001b[38;5;28mrange\u001b[39m(iterations):\n\u001b[1;32m     36\u001b[0m     \u001b[38;5;28;01mwith\u001b[39;00m torch\u001b[38;5;241m.\u001b[39mno_grad():\n\u001b[0;32m---> 37\u001b[0m         output \u001b[38;5;241m=\u001b[39m \u001b[43mmodel\u001b[49m\u001b[38;5;241;43m.\u001b[39;49m\u001b[43mforward\u001b[49m\u001b[43m(\u001b[49m\u001b[43msrc\u001b[49m\u001b[43m,\u001b[49m\u001b[43m \u001b[49m\u001b[43mtgt\u001b[49m\u001b[43m)\u001b[49m\n\u001b[1;32m     38\u001b[0m         predictions \u001b[38;5;241m=\u001b[39m nn\u001b[38;5;241m.\u001b[39mfunctional\u001b[38;5;241m.\u001b[39msoftmax(output[:, \u001b[38;5;241m-\u001b[39m\u001b[38;5;241m1\u001b[39m, :], dim\u001b[38;5;241m=\u001b[39m\u001b[38;5;241m-\u001b[39m\u001b[38;5;241m1\u001b[39m)\n\u001b[1;32m     39\u001b[0m         next_token \u001b[38;5;241m=\u001b[39m predictions\u001b[38;5;241m.\u001b[39margmax(\u001b[38;5;241m-\u001b[39m\u001b[38;5;241m1\u001b[39m)\u001b[38;5;241m.\u001b[39mitem()\n",
      "File \u001b[0;32m~/UniStuff/ATNLP/crispy-fortnight/transformer.py:567\u001b[0m, in \u001b[0;36mTransformer.forward\u001b[0;34m(self, src, tgt)\u001b[0m\n\u001b[1;32m    564\u001b[0m src_mask \u001b[38;5;241m=\u001b[39m \u001b[38;5;28mself\u001b[39m\u001b[38;5;241m.\u001b[39mcreate_src_mask(src)\n\u001b[1;32m    565\u001b[0m tgt_mask \u001b[38;5;241m=\u001b[39m \u001b[38;5;28mself\u001b[39m\u001b[38;5;241m.\u001b[39mcreate_tgt_mask(tgt)\n\u001b[0;32m--> 567\u001b[0m encoder_out \u001b[38;5;241m=\u001b[39m \u001b[38;5;28;43mself\u001b[39;49m\u001b[38;5;241;43m.\u001b[39;49m\u001b[43mencoder\u001b[49m\u001b[43m(\u001b[49m\u001b[43msrc\u001b[49m\u001b[43m,\u001b[49m\u001b[43m \u001b[49m\u001b[43msrc_mask\u001b[49m\u001b[43m)\u001b[49m\u001b[38;5;241m.\u001b[39mto(device)\n\u001b[1;32m    568\u001b[0m decoder_out \u001b[38;5;241m=\u001b[39m \u001b[38;5;28mself\u001b[39m\u001b[38;5;241m.\u001b[39mdecoder(tgt, encoder_out, src_mask, tgt_mask)\n\u001b[1;32m    570\u001b[0m \u001b[38;5;28;01mreturn\u001b[39;00m decoder_out\n",
      "File \u001b[0;32m~/anaconda3/lib/python3.8/site-packages/torch/nn/modules/module.py:1194\u001b[0m, in \u001b[0;36mModule._call_impl\u001b[0;34m(self, *input, **kwargs)\u001b[0m\n\u001b[1;32m   1190\u001b[0m \u001b[38;5;66;03m# If we don't have any hooks, we want to skip the rest of the logic in\u001b[39;00m\n\u001b[1;32m   1191\u001b[0m \u001b[38;5;66;03m# this function, and just call forward.\u001b[39;00m\n\u001b[1;32m   1192\u001b[0m \u001b[38;5;28;01mif\u001b[39;00m \u001b[38;5;129;01mnot\u001b[39;00m (\u001b[38;5;28mself\u001b[39m\u001b[38;5;241m.\u001b[39m_backward_hooks \u001b[38;5;129;01mor\u001b[39;00m \u001b[38;5;28mself\u001b[39m\u001b[38;5;241m.\u001b[39m_forward_hooks \u001b[38;5;129;01mor\u001b[39;00m \u001b[38;5;28mself\u001b[39m\u001b[38;5;241m.\u001b[39m_forward_pre_hooks \u001b[38;5;129;01mor\u001b[39;00m _global_backward_hooks\n\u001b[1;32m   1193\u001b[0m         \u001b[38;5;129;01mor\u001b[39;00m _global_forward_hooks \u001b[38;5;129;01mor\u001b[39;00m _global_forward_pre_hooks):\n\u001b[0;32m-> 1194\u001b[0m     \u001b[38;5;28;01mreturn\u001b[39;00m \u001b[43mforward_call\u001b[49m\u001b[43m(\u001b[49m\u001b[38;5;241;43m*\u001b[39;49m\u001b[38;5;28;43minput\u001b[39;49m\u001b[43m,\u001b[49m\u001b[43m \u001b[49m\u001b[38;5;241;43m*\u001b[39;49m\u001b[38;5;241;43m*\u001b[39;49m\u001b[43mkwargs\u001b[49m\u001b[43m)\u001b[49m\n\u001b[1;32m   1195\u001b[0m \u001b[38;5;66;03m# Do not call functions when jit is used\u001b[39;00m\n\u001b[1;32m   1196\u001b[0m full_backward_hooks, non_full_backward_hooks \u001b[38;5;241m=\u001b[39m [], []\n",
      "File \u001b[0;32m~/UniStuff/ATNLP/crispy-fortnight/transformer.py:359\u001b[0m, in \u001b[0;36mEncoder.forward\u001b[0;34m(self, x, mask)\u001b[0m\n\u001b[1;32m    354\u001b[0m \u001b[38;5;66;03m# z.to(device)\u001b[39;00m\n\u001b[1;32m    355\u001b[0m \u001b[38;5;66;03m#print(f\"embeddings (after dropout) shape {z.shape}\")\u001b[39;00m\n\u001b[1;32m    356\u001b[0m \n\u001b[1;32m    357\u001b[0m \u001b[38;5;66;03m# pass through trasnformer blocks\u001b[39;00m\n\u001b[1;32m    358\u001b[0m \u001b[38;5;28;01mfor\u001b[39;00m i, block \u001b[38;5;129;01min\u001b[39;00m \u001b[38;5;28menumerate\u001b[39m(\u001b[38;5;28mself\u001b[39m\u001b[38;5;241m.\u001b[39mt_blocks):\n\u001b[0;32m--> 359\u001b[0m     z \u001b[38;5;241m=\u001b[39m \u001b[43mblock\u001b[49m\u001b[38;5;241;43m.\u001b[39;49m\u001b[43mforward\u001b[49m\u001b[43m(\u001b[49m\u001b[43mquery\u001b[49m\u001b[38;5;241;43m=\u001b[39;49m\u001b[43mz\u001b[49m\u001b[43m,\u001b[49m\u001b[43m \u001b[49m\u001b[43mkey\u001b[49m\u001b[38;5;241;43m=\u001b[39;49m\u001b[43mz\u001b[49m\u001b[43m,\u001b[49m\u001b[43m \u001b[49m\u001b[43mvalue\u001b[49m\u001b[38;5;241;43m=\u001b[39;49m\u001b[43mz\u001b[49m\u001b[43m,\u001b[49m\u001b[43m \u001b[49m\u001b[43mmask\u001b[49m\u001b[38;5;241;43m=\u001b[39;49m\u001b[43mmask\u001b[49m\u001b[43m)\u001b[49m\n\u001b[1;32m    360\u001b[0m     \u001b[38;5;66;03m#print(f\"z shape {z.shape}\")\u001b[39;00m\n\u001b[1;32m    361\u001b[0m \n\u001b[1;32m    362\u001b[0m \u001b[38;5;66;03m#print(f'last output: {z.shape}')\u001b[39;00m\n\u001b[1;32m    363\u001b[0m \u001b[38;5;28;01mreturn\u001b[39;00m z\n",
      "File \u001b[0;32m~/UniStuff/ATNLP/crispy-fortnight/transformer.py:263\u001b[0m, in \u001b[0;36mTransformerBlock.forward\u001b[0;34m(self, query, key, value, mask)\u001b[0m\n\u001b[1;32m    261\u001b[0m x \u001b[38;5;241m=\u001b[39m query\n\u001b[1;32m    262\u001b[0m \u001b[38;5;66;03m# with torch.no_grad():\u001b[39;00m\n\u001b[0;32m--> 263\u001b[0m query, key, value, output \u001b[38;5;241m=\u001b[39m \u001b[38;5;28;43mself\u001b[39;49m\u001b[38;5;241;43m.\u001b[39;49m\u001b[43mmultiheadAttention\u001b[49m\u001b[43m(\u001b[49m\u001b[43mquery\u001b[49m\u001b[43m,\u001b[49m\u001b[43m \u001b[49m\u001b[43mkey\u001b[49m\u001b[43m,\u001b[49m\u001b[43m \u001b[49m\u001b[43mvalue\u001b[49m\u001b[43m,\u001b[49m\u001b[43m \u001b[49m\u001b[43mmask\u001b[49m\u001b[43m)\u001b[49m\n\u001b[1;32m    265\u001b[0m \u001b[38;5;66;03m# Add X_in to output\u001b[39;00m\n\u001b[1;32m    266\u001b[0m pre_norm_1 \u001b[38;5;241m=\u001b[39m \u001b[38;5;28mself\u001b[39m\u001b[38;5;241m.\u001b[39mdropout(x \u001b[38;5;241m+\u001b[39m output)\n",
      "File \u001b[0;32m~/anaconda3/lib/python3.8/site-packages/torch/nn/modules/module.py:1194\u001b[0m, in \u001b[0;36mModule._call_impl\u001b[0;34m(self, *input, **kwargs)\u001b[0m\n\u001b[1;32m   1190\u001b[0m \u001b[38;5;66;03m# If we don't have any hooks, we want to skip the rest of the logic in\u001b[39;00m\n\u001b[1;32m   1191\u001b[0m \u001b[38;5;66;03m# this function, and just call forward.\u001b[39;00m\n\u001b[1;32m   1192\u001b[0m \u001b[38;5;28;01mif\u001b[39;00m \u001b[38;5;129;01mnot\u001b[39;00m (\u001b[38;5;28mself\u001b[39m\u001b[38;5;241m.\u001b[39m_backward_hooks \u001b[38;5;129;01mor\u001b[39;00m \u001b[38;5;28mself\u001b[39m\u001b[38;5;241m.\u001b[39m_forward_hooks \u001b[38;5;129;01mor\u001b[39;00m \u001b[38;5;28mself\u001b[39m\u001b[38;5;241m.\u001b[39m_forward_pre_hooks \u001b[38;5;129;01mor\u001b[39;00m _global_backward_hooks\n\u001b[1;32m   1193\u001b[0m         \u001b[38;5;129;01mor\u001b[39;00m _global_forward_hooks \u001b[38;5;129;01mor\u001b[39;00m _global_forward_pre_hooks):\n\u001b[0;32m-> 1194\u001b[0m     \u001b[38;5;28;01mreturn\u001b[39;00m \u001b[43mforward_call\u001b[49m\u001b[43m(\u001b[49m\u001b[38;5;241;43m*\u001b[39;49m\u001b[38;5;28;43minput\u001b[39;49m\u001b[43m,\u001b[49m\u001b[43m \u001b[49m\u001b[38;5;241;43m*\u001b[39;49m\u001b[38;5;241;43m*\u001b[39;49m\u001b[43mkwargs\u001b[49m\u001b[43m)\u001b[49m\n\u001b[1;32m   1195\u001b[0m \u001b[38;5;66;03m# Do not call functions when jit is used\u001b[39;00m\n\u001b[1;32m   1196\u001b[0m full_backward_hooks, non_full_backward_hooks \u001b[38;5;241m=\u001b[39m [], []\n",
      "File \u001b[0;32m~/UniStuff/ATNLP/crispy-fortnight/transformer.py:189\u001b[0m, in \u001b[0;36mMultiHeadAttention.forward\u001b[0;34m(self, query, key, value, mask)\u001b[0m\n\u001b[1;32m    186\u001b[0m Q_permute \u001b[38;5;241m=\u001b[39m Q\u001b[38;5;241m.\u001b[39mpermute(\u001b[38;5;241m0\u001b[39m, \u001b[38;5;241m2\u001b[39m, \u001b[38;5;241m1\u001b[39m, \u001b[38;5;241m3\u001b[39m)\n\u001b[1;32m    187\u001b[0m K_transposed \u001b[38;5;241m=\u001b[39m K\u001b[38;5;241m.\u001b[39mT\u001b[38;5;241m.\u001b[39mpermute(\u001b[38;5;241m3\u001b[39m, \u001b[38;5;241m1\u001b[39m, \u001b[38;5;241m0\u001b[39m, \u001b[38;5;241m2\u001b[39m)\n\u001b[0;32m--> 189\u001b[0m key_out \u001b[38;5;241m=\u001b[39m \u001b[43mtorch\u001b[49m\u001b[38;5;241;43m.\u001b[39;49m\u001b[43mmatmul\u001b[49m\u001b[43m(\u001b[49m\u001b[43mQ_permute\u001b[49m\u001b[43m,\u001b[49m\u001b[43m \u001b[49m\u001b[43mK_transposed\u001b[49m\u001b[43m)\u001b[49m \u001b[38;5;241m/\u001b[39m np\u001b[38;5;241m.\u001b[39msqrt(d_k) \u001b[38;5;66;03m# This is now a torch.Tensor object\u001b[39;00m\n\u001b[1;32m    190\u001b[0m \u001b[38;5;66;03m# #print(attention_score)\u001b[39;00m\n\u001b[1;32m    191\u001b[0m \u001b[38;5;66;03m##print(key_out.shape)\u001b[39;00m\n\u001b[1;32m    192\u001b[0m \u001b[38;5;66;03m# TODO: masking\u001b[39;00m\n\u001b[1;32m    193\u001b[0m \u001b[38;5;28;01mif\u001b[39;00m mask \u001b[38;5;129;01mis\u001b[39;00m \u001b[38;5;129;01mnot\u001b[39;00m \u001b[38;5;28;01mNone\u001b[39;00m:\n",
      "\u001b[0;31mKeyboardInterrupt\u001b[0m: "
     ]
    }
   ],
   "source": [
    "checkpoint_path = \"transformer_exp2_test.pth\"\n",
    "ckp = torch.load(checkpoint_path)\n",
    "model.load_state_dict(ckp['model_state_dict'])\n",
    "total_tokens = 0\n",
    "correct_tokens = 0\n",
    "\n",
    "src, tgt = next(iter(test_loader))\n",
    "# print(src.shape, tgt.shape)\n",
    "\n",
    "gt_avgs = {}\n",
    "command_avgs = {}\n",
    "\n",
    "# avg_token = []\n",
    "# avg_seq = []\n",
    "\n",
    "n_batches = len(test_loader)\n",
    "counter = 0\n",
    "# l = 0\n",
    "for src_batch, tgt_batch in test_loader:\n",
    "#     # if l > 5:\n",
    "#     #     break\n",
    "    for src, tgt in zip(src_batch, tgt_batch):\n",
    "        len_gt = len(tgt)\n",
    "        len_command = len(src)\n",
    "\n",
    "        src = src.unsqueeze(0).to(device)\n",
    "        true_tgt = tgt.unsqueeze(0).to(device)\n",
    "        tgt = torch.tensor([[word2idx_tgt['<SOS>']]]).to(device)\n",
    "        \n",
    "        iterations = MAX_LEN - 1\n",
    "        pred_sequence = [tgt.item()]\n",
    "        # print(tgt.shape)\n",
    "        # print(src.shape, true_tgt.shape)\n",
    "\n",
    "        for i in range(iterations):\n",
    "            with torch.no_grad():\n",
    "                output = model.forward(src, tgt)\n",
    "                predictions = nn.functional.softmax(output[:, -1, :], dim=-1)\n",
    "                next_token = predictions.argmax(-1).item()\n",
    "\n",
    "                pred_sequence.append(next_token)\n",
    "                tgt = torch.tensor(pred_sequence).unsqueeze(0).to(device)\n",
    "                \n",
    "                # Stop if end of sequence\n",
    "                if next_token == word2idx_tgt['<EOS>']:\n",
    "                    break                \n",
    "\n",
    "        tok_lvl_acc = token_lvl_accuracy(true_tgt, tgt)\n",
    "        if len_gt in gt_avgs:\n",
    "            gt_avgs[len_gt].append(tok_lvl_acc)\n",
    "        else:\n",
    "            gt_avgs[len_gt] =[tok_lvl_acc]\n",
    "            \n",
    "        if len_command in command_avgs:\n",
    "            command_avgs[len_command].append(tok_lvl_acc)\n",
    "        else:\n",
    "            command_avgs[len_command] =[tok_lvl_acc]\n",
    "    \n",
    "    counter += 1\n",
    "    print(counter, \"/\", n_batches)\n",
    "        \n",
    "        "
   ]
  },
  {
   "cell_type": "code",
   "execution_count": 26,
   "metadata": {},
   "outputs": [
    {
     "name": "stdout",
     "output_type": "stream",
     "text": [
      "{10: [0.12598425196850394, 0.12598425196850394, 0.12598425196850394, 0.07575757575757576, 0.15748031496062992, 0.16666666666666666, 0.1889763779527559, 0.15748031496062992, 0.15748031496062992, 0.4583333333333333, 0.12598425196850394, 0.16666666666666666, 0.21333333333333335, 0.12598425196850394, 0.1889763779527559, 0.12598425196850394, 0.12598425196850394, 0.1889763779527559, 0.24242424242424243, 0.9166666666666666, 0.1889763779527559, 0.15748031496062992, 0.5416666666666666, 0.4166666666666667, 0.12598425196850394, 0.09448818897637795, 0.12598425196850394, 0.16535433070866143, 0.09448818897637795, 0.6666666666666666, 0.7083333333333334, 0.15748031496062992, 0.12598425196850394, 0.21333333333333335, 0.12598425196850394, 0.12598425196850394, 0.15748031496062992, 0.625, 0.12598425196850394, 0.12598425196850394, 0.18110236220472442, 0.1415929203539823, 0.1889763779527559, 0.1889763779527559, 0.13636363636363635, 0.15748031496062992, 0.15748031496062992, 0.12598425196850394, 0.21333333333333335, 0.10619469026548672, 0.15748031496062992, 0.15748031496062992, 0.1415929203539823, 0.06299212598425197, 0.9166666666666666, 0.15748031496062992, 0.09448818897637795, 0.12598425196850394, 0.18181818181818182, 0.1889763779527559, 0.12598425196850394, 0.12598425196850394, 0.625, 0.1889763779527559, 0.06299212598425197, 0.625, 0.15748031496062992, 0.09448818897637795, 0.15748031496062992, 0.21818181818181817, 0.1889763779527559, 0.12598425196850394, 0.15748031496062992, 0.9166666666666666, 0.9166666666666666, 0.10236220472440945, 0.15748031496062992, 0.06299212598425197, 0.15748031496062992, 0.7916666666666666, 0.2, 0.15748031496062992, 0.12121212121212122, 0.5833333333333334, 0.15748031496062992, 0.24242424242424243, 0.15748031496062992, 0.12121212121212122, 0.09448818897637795, 0.1889763779527559, 0.15748031496062992, 0.09448818897637795, 0.15748031496062992, 0.15748031496062992, 0.75, 0.14960629921259844]}\n",
      "{26: [0.12598425196850394, 0.12598425196850394, 0.12598425196850394, 0.07575757575757576, 0.15748031496062992, 0.16666666666666666, 0.1889763779527559, 0.15748031496062992, 0.15748031496062992, 0.4583333333333333, 0.12598425196850394, 0.16666666666666666, 0.21333333333333335, 0.12598425196850394, 0.1889763779527559, 0.12598425196850394, 0.12598425196850394, 0.1889763779527559, 0.24242424242424243, 0.9166666666666666, 0.1889763779527559, 0.15748031496062992, 0.5416666666666666, 0.4166666666666667, 0.12598425196850394, 0.09448818897637795, 0.12598425196850394, 0.16535433070866143, 0.09448818897637795, 0.6666666666666666, 0.7083333333333334, 0.15748031496062992, 0.12598425196850394, 0.21333333333333335, 0.12598425196850394, 0.12598425196850394, 0.15748031496062992, 0.625, 0.12598425196850394, 0.12598425196850394, 0.18110236220472442, 0.1415929203539823, 0.1889763779527559, 0.1889763779527559, 0.13636363636363635, 0.15748031496062992, 0.15748031496062992, 0.12598425196850394, 0.21333333333333335, 0.10619469026548672, 0.15748031496062992, 0.15748031496062992, 0.1415929203539823, 0.06299212598425197, 0.9166666666666666, 0.15748031496062992, 0.09448818897637795, 0.12598425196850394, 0.18181818181818182, 0.1889763779527559, 0.12598425196850394, 0.12598425196850394, 0.625, 0.1889763779527559, 0.06299212598425197, 0.625, 0.15748031496062992, 0.09448818897637795, 0.15748031496062992, 0.21818181818181817, 0.1889763779527559, 0.12598425196850394, 0.15748031496062992, 0.9166666666666666, 0.9166666666666666, 0.10236220472440945, 0.15748031496062992, 0.06299212598425197, 0.15748031496062992, 0.7916666666666666, 0.2, 0.15748031496062992, 0.12121212121212122, 0.5833333333333334, 0.15748031496062992, 0.24242424242424243, 0.15748031496062992, 0.12121212121212122, 0.09448818897637795, 0.1889763779527559, 0.15748031496062992, 0.09448818897637795, 0.15748031496062992, 0.15748031496062992, 0.75, 0.14960629921259844]}\n"
     ]
    }
   ],
   "source": [
    "print(command_avgs)\n",
    "print(gt_avgs)"
   ]
  },
  {
   "cell_type": "code",
   "execution_count": 31,
   "metadata": {},
   "outputs": [
    {
     "name": "stdout",
     "output_type": "stream",
     "text": [
      "{10: 0.23398753480998394}\n",
      "{26: 0.23398753480998394}\n"
     ]
    },
    {
     "data": {
      "image/png": "[encoded data removed]",
      "text/plain": [
       "<Figure size 640x480 with 1 Axes>"
      ]
     },
     "metadata": {},
     "output_type": "display_data"
    }
   ],
   "source": [
    "# in command_avgs the key is the length of the command and the value is the list of accuracies for that length\n",
    "# plot the average accuracy for each command length\n",
    "\n",
    "command_avgs_avg = {k: sum(v) / len(v) for k, v in command_avgs.items()}\n",
    "gt_avgs_avg = {k: sum(v) / len(v) for k, v in gt_avgs.items()}\n",
    "print(command_avgs_avg)\n",
    "print(gt_avgs_avg)\n",
    "\n",
    "plt.figure(2)\n",
    "plt.bar(list(command_avgs_avg.keys()), list(command_avgs_avg.values()))\n",
    "plt.xlabel(\"Command Length\")\n",
    "plt.ylabel(\"Average Token Level Accuracy\")\n",
    "plt.title(\"Average Token Level Accuracy per Command Length\")\n",
    "plt.xticks([4, 6, 7, 8, 9])\n",
    "plt.show()"
   ]
  },
  {
   "cell_type": "code",
   "execution_count": 30,
   "metadata": {},
   "outputs": [
    {
     "data": {
      "image/png": "[encoded data removed]",
      "text/plain": [
       "<Figure size 640x480 with 1 Axes>"
      ]
     },
     "metadata": {},
     "output_type": "display_data"
    }
   ],
   "source": [
    "plt.figure(2)\n",
    "plt.bar(list(gt_avgs_avg.keys()), list(gt_avgs_avg.values()))\n",
    "plt.xlabel(\"Ground-Truth Action Sequence Length (in words)\")\n",
    "plt.ylabel(\"Accuracy on New Commands (%)\")\n",
    "plt.title(\"Token-Level Accuracy by Action Sequence Length\")\n",
    "plt.xticks([25, 30, 35, 40, 45, 50])\n",
    "plt.show()"
   ]
  },
  {
   "cell_type": "code",
   "execution_count": null,
   "metadata": {},
   "outputs": [],
   "source": []
  }
 ],
 "metadata": {
  "kernelspec": {
   "display_name": "base",
   "language": "python",
   "name": "python3"
  },
  "language_info": {
   "codemirror_mode": {
    "name": "ipython",
    "version": 3
   },
   "file_extension": ".py",
   "mimetype": "text/x-python",
   "name": "python",
   "nbconvert_exporter": "python",
   "pygments_lexer": "ipython3",
   "version": "3.8.16"
  }
 },
 "nbformat": 4,
 "nbformat_minor": 2
}
