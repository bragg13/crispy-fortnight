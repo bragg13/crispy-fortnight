{
 "cells": [
  {
   "cell_type": "code",
   "execution_count": 1,
   "metadata": {},
   "outputs": [],
   "source": [
    "# %%\n",
    "import os\n",
    "import math\n",
    "import numpy as np\n",
    "import torch\n",
    "import torch.nn as nn\n",
    "from transformer import Transformer\n",
    "import pandas as pd\n",
    "from torch.utils.data import DataLoader, Dataset\n",
    "from torch.nn.utils.rnn import pad_sequence\n",
    "import torch.optim as optim\n",
    "from tqdm import tqdm\n",
    "\n",
    "# %%\n",
    "# Set device\n",
    "device = torch.device(\"cuda\" if torch.cuda.is_available() else \"cpu\")\n",
    "# device = torch.device('mps')\n",
    "\n",
    "# EXPERIMENT 2:\n",
    "EMB_DIM = 128\n",
    "N_LAYERS = 2\n",
    "N_HEADS = 8\n",
    "FORWARD_DIM = 256\n",
    "DROPOUT = 0.15\n",
    "LEARNING_RATE = 2e-4\n",
    "GRAD_CLIP = 1\n",
    "BATCH_SIZE = 16\n",
    "MAX_LEN = 128"
   ]
  },
  {
   "cell_type": "code",
   "execution_count": 2,
   "metadata": {},
   "outputs": [
    {
     "name": "stdout",
     "output_type": "stream",
     "text": [
      "On cpu\n"
     ]
    }
   ],
   "source": [
    "print(f\"On {device}\")"
   ]
  },
  {
   "cell_type": "code",
   "execution_count": 3,
   "metadata": {},
   "outputs": [],
   "source": [
    "# Task 0: DataLoader and Preprocessing\n",
    "class TasksData(Dataset):\n",
    "    def __init__(self, data_dir, file, transform=None):\n",
    "        self.data_dir = data_dir\n",
    "        self.file = file\n",
    "        text_file = os.path.join(data_dir, file)\n",
    "\n",
    "        data_dict = {\"src\": [], \"tgt\": []}\n",
    "\n",
    "        with open(text_file, 'r') as f:\n",
    "            lines = f.readlines()\n",
    "            for line in lines:\n",
    "                src = line.split('OUT:')[0]\n",
    "                src = src.split('IN:')[1].strip()\n",
    "                tgt = line.split('OUT:')[1].strip()\n",
    "\n",
    "                data_dict['src'].append(src)\n",
    "                data_dict['tgt'].append(tgt)\n",
    "\n",
    "        self.data = pd.DataFrame(data_dict)\n",
    "\n",
    "\n",
    "    def __len__(self):\n",
    "        return len(self.data)\n",
    "\n",
    "    def __getitem__(self, idx):\n",
    "        src = self.data['src'].iloc[idx] + ' <EOS>'\n",
    "        tgt = '<SOS> ' + self.data['tgt'].iloc[idx] + ' <EOS>'\n",
    "        return src, tgt\n",
    "\n",
    "def create_vocab(dataset):\n",
    "    vocab = set()\n",
    "\n",
    "    for sample in dataset:\n",
    "        vocab.update(sample.split())\n",
    "    return vocab\n",
    "\n",
    "# %%\n",
    "# creating datasets\n",
    "train_data = TasksData(data_dir='data/experiment2', file='tasks_train_length.txt')\n",
    "test_data = TasksData(data_dir='data/experiment2', file='tasks_test_length.txt')\n",
    "\n",
    "#creating source and target vocab\n",
    "src_train_data = [src for src, tgt in train_data]\n",
    "vocab_train_src = create_vocab(src_train_data)\n",
    "\n",
    "tgt_train_data = [tgt for src, tgt in train_data]\n",
    "vocab_train_tgt = create_vocab(tgt_train_data)\n",
    "\n",
    "# we need to do word2idx to map the words to indexes. Bc the input for nn.Embedding has to be numbers\n",
    "# since nn.Embdding has different weights in input andoutput embedding the same index will not be encoded to the same vector\n",
    "word2idx_src = {w: idx + 1 for (idx, w) in enumerate(vocab_train_src)}\n",
    "word2idx_src['<PAD>'] = 0\n",
    "\n",
    "word2idx_tgt= {w: idx + 1 for (idx, w) in enumerate(vocab_train_tgt)}\n",
    "word2idx_tgt['<PAD>'] = 0\n",
    "\n",
    "def custom_collate_fn(batch):\n",
    "    #input: batch of sentences\n",
    "    # tokenize, word2idx, pad\n",
    "    padded_src = pad_sequence([torch.tensor([word2idx_src[w] for w in src.split()]) for src, tgt in batch], batch_first=True, padding_value=0).to(device)\n",
    "    padded_tgt = pad_sequence([torch.tensor([word2idx_tgt[w] for w in tgt.split()]) for src, tgt in batch], batch_first=True, padding_value=0).to(device)\n",
    "\n",
    "    return padded_src, padded_tgt\n",
    "\n",
    "# %%\n",
    "# create dataloaders\n",
    "train_loader = DataLoader(train_data, batch_size=BATCH_SIZE, shuffle=True, collate_fn=custom_collate_fn)\n",
    "test_loader = DataLoader(test_data, batch_size=BATCH_SIZE, shuffle=False, collate_fn=custom_collate_fn)"
   ]
  },
  {
   "cell_type": "code",
   "execution_count": 4,
   "metadata": {},
   "outputs": [],
   "source": [
    "# define the model\n",
    "model = Transformer(\n",
    "    src_vocab_size=len(word2idx_src),\n",
    "    tgt_vocab_size=len(word2idx_tgt),\n",
    "    src_pad_idx=word2idx_src['<PAD>'],\n",
    "    tgt_pad_idx=word2idx_tgt['<PAD>'],\n",
    "    emb_dim=EMB_DIM,\n",
    "    num_layers=N_LAYERS,\n",
    "    num_heads=N_HEADS,\n",
    "    forward_dim=FORWARD_DIM,\n",
    "    dropout=DROPOUT,\n",
    "    max_len=MAX_LEN,\n",
    ").to(device)"
   ]
  },
  {
   "cell_type": "markdown",
   "metadata": {},
   "source": [
    "## ACCURACY FUNCTIONS"
   ]
  },
  {
   "cell_type": "code",
   "execution_count": null,
   "metadata": {},
   "outputs": [],
   "source": [
    "def token_lvl_accuracy(gt, pred):\n",
    "    \"\"\"\n",
    "    gt = ground truth sequence\n",
    "    pred = predicted sequence\n",
    "    \"\"\"\n",
    "    correct = 0\n",
    "    \n",
    "    # get start and end\n",
    "    eos_idx = word2idx_tgt['<EOS>']\n",
    "    sos_idx = word2idx_tgt['<SOS>']\n",
    "    # print(eos_idx)\n",
    "    # print(sos_idx)\n",
    "    pred = pred[-1]\n",
    "\n",
    "\n",
    "    gt = gt[-1]\n",
    "\n",
    "    # index of <SOS> and <EOS> tokens of the predicted sequence\n",
    "    pred_start = 0\n",
    "    pred_end = len(pred) if (eos_idx not in pred) else (pred == eos_idx).nonzero(as_tuple=True)[0].item()\n",
    "\n",
    "    # index of <SOS> and <EOS> tokens of the ground truth sequence\n",
    "    gt_start = (gt == sos_idx).nonzero(as_tuple=True)[0].item()\n",
    "    gt_end = (gt == eos_idx).nonzero(as_tuple=True)[0].item()\n",
    "\n",
    "    # slicing\n",
    "    gt = gt[gt_start+1 : gt_end]\n",
    "    pred = pred[pred_start+1 : pred_end]\n",
    "\n",
    "    longer = gt if len(gt) > len(pred) else pred\n",
    "    shorter = pred if len(gt) > len(pred) else gt\n",
    "\n",
    "    longest_len = len(longer)\n",
    "\n",
    "    shorter = torch.nn.functional.pad(shorter, (0, longest_len - len(shorter)), \"constant\", 0)\n",
    "\n",
    "    correct = sum(longer == shorter)\n",
    "    # print(longer)\n",
    "    # print(shorter)\n",
    "    # print(correct)\n",
    "    return int(correct) / len(shorter) # same length as longer\n",
    "\n",
    "\n",
    "def sequence_level_accuracy(gt, pred):\n",
    "\n",
    "    # get start and end\n",
    "    eos_idx = word2idx_tgt['<EOS>']\n",
    "    sos_idx = word2idx_tgt['<SOS>']\n",
    "    # print(eos_idx)\n",
    "    # print(sos_idx)\n",
    "    pred = pred[-1]\n",
    "    gt = gt[-1]\n",
    "\n",
    "    # index of <SOS> and <EOS> tokens of the predicted sequence\n",
    "    pred_start = 0\n",
    "    pred_end = len(pred) if (eos_idx not in pred) else (pred == eos_idx).nonzero(as_tuple=True)[0].item()\n",
    "\n",
    "    # index of <SOS> and <EOS> tokens of the ground truth sequence\n",
    "    gt_start = (gt == sos_idx).nonzero(as_tuple=True)[0].item()\n",
    "    gt_end = (gt == eos_idx).nonzero(as_tuple=True)[0].item()\n",
    "\n",
    "    # slicing\n",
    "    gt = gt[gt_start+1 : gt_end]\n",
    "    pred = pred[pred_start+1 : pred_end]\n",
    "\n",
    "    if len(gt) != len(pred):\n",
    "        return 0\n",
    "\n",
    "    if sum(gt == pred) == len(gt):\n",
    "        return 1\n",
    "\n",
    "    return 0\n"
   ]
  },
  {
   "cell_type": "markdown",
   "metadata": {},
   "source": [
    "## TRAINING"
   ]
  },
  {
   "cell_type": "code",
   "execution_count": null,
   "metadata": {},
   "outputs": [
    {
     "name": "stderr",
     "output_type": "stream",
     "text": [
      "  0%|          | 0/1062 [00:00<?, ?it/s]"
     ]
    },
    {
     "name": "stderr",
     "output_type": "stream",
     "text": [
      "/home/jarl/UniStuff/ATNLP/crispy-fortnight/transformer.py:187: UserWarning: The use of `x.T` on tensors of dimension other than 2 to reverse their shape is deprecated and it will throw an error in a future release. Consider `x.mT` to transpose batches of matrices or `x.permute(*torch.arange(x.ndim - 1, -1, -1))` to reverse the dimensions of a tensor. (Triggered internally at /croot/pytorch_1681837265408/work/aten/src/ATen/native/TensorShape.cpp:3277.)\n",
      "  K_transposed = K.T.permute(3, 1, 0, 2)\n",
      "Epoch [1/1], Loss: 0.5721: 100%|██████████| 1062/1062 [02:56<00:00,  6.01it/s]\n"
     ]
    }
   ],
   "source": [
    "optimizer = optim.AdamW(model.parameters(), lr=LEARNING_RATE)\n",
    "criterion = nn.CrossEntropyLoss(ignore_index=word2idx_tgt['<PAD>'])\n",
    "\n",
    "# Training loop\n",
    "num_epochs = 50\n",
    "losses = []\n",
    "accuraacy = []\n",
    "for epoch in range(num_epochs):\n",
    "    model.train()\n",
    "    epoch_loss = 0\n",
    "\n",
    "    for step, (src, tgt) in (pbar := tqdm(enumerate(train_loader), total=len(train_loader))):\n",
    "        src, tgt = src.to(device), tgt.to(device)\n",
    "\n",
    "        optimizer.zero_grad()\n",
    "\n",
    "        # output = model(src, tgt)\n",
    "        output = model(src, tgt[:, :-1])\n",
    "        output_dim = output.shape[-1]\n",
    "\n",
    "        output = output.contiguous().view(-1, output_dim)\n",
    "        tgt = tgt[:, 1:].contiguous().view(-1)\n",
    "\n",
    "        loss = criterion(output, tgt)\n",
    "        loss.backward()\n",
    "\n",
    "        # Gradient clipping\n",
    "        torch.nn.utils.clip_grad_norm_(model.parameters(), GRAD_CLIP)\n",
    "\n",
    "        pbar.set_description(f'Epoch [{epoch+1}/{num_epochs}], Loss: {loss:.4f}')\n",
    "\n",
    "        optimizer.step()\n",
    "        epoch_loss += loss.item()\n",
    "    avg_epoch_loss = epoch_loss / len(train_loader)\n",
    "    losses.append(avg_epoch_loss)\n",
    "checkpoint_path = f\"transformer_exp1_15.pth\"\n",
    "torch.save(\n",
    "    {'model_state_dict': model.state_dict(),\n",
    "    'optimizer_state_dict': optimizer.state_dict(),\n",
    "}, checkpoint_path)\n"
   ]
  },
  {
   "cell_type": "code",
   "execution_count": 7,
   "metadata": {},
   "outputs": [
    {
     "data": {
      "text/plain": [
       "[<matplotlib.lines.Line2D at 0x7e6e303fbe50>]"
      ]
     },
     "execution_count": 7,
     "metadata": {},
     "output_type": "execute_result"
    },
    {
     "data": {
      "image/png": "[encoded data removed]",
      "text/plain": [
       "<Figure size 640x480 with 1 Axes>"
      ]
     },
     "metadata": {},
     "output_type": "display_data"
    }
   ],
   "source": [
    "import matplotlib.pyplot as plt\n",
    "plt.figure(1)\n",
    "plt.plot(losses)"
   ]
  },
  {
   "cell_type": "code",
   "execution_count": 8,
   "metadata": {},
   "outputs": [],
   "source": [
    "# Reverse the word-to-index mapping\n",
    "idx2word_src = {idx: w for w, idx in word2idx_src.items()}\n",
    "idx2word_tgt = {idx: w for w, idx in word2idx_tgt.items()}\n",
    "\n",
    "def decode_indices(indices, idx2word):\n",
    "    return ' '.join(idx2word[idx] for idx in indices if idx in idx2word and idx != word2idx_src['<PAD>'])"
   ]
  },
  {
   "cell_type": "code",
   "execution_count": null,
   "metadata": {},
   "outputs": [
    {
     "name": "stdout",
     "output_type": "stream",
     "text": [
      "1\n",
      "4\n"
     ]
    }
   ],
   "source": [
    "print(word2idx_tgt['<SOS>'])\n",
    "print(word2idx_tgt['<EOS>'])"
   ]
  },
  {
   "cell_type": "code",
   "execution_count": null,
   "metadata": {},
   "outputs": [],
   "source": [
    "# EXPLANATION: I had to make length functions thta return the length of the sequence without the special tokens to get the keys for the dictionaries\n",
    "# One of them uses the word2idx_src and the other uses the word2idx_tgt to remove the special tokens and return the length\n",
    "\n",
    "def length_tgt(seq):\n",
    "    pad_token = word2idx_tgt['<PAD>']\n",
    "    sos_token = word2idx_tgt['<SOS>']\n",
    "    eos_token = word2idx_tgt['<EOS>']\n",
    "    \n",
    "    # seq is a tensor of numbers clean it form all pad, sos, or eos tokens\n",
    "    seq = seq[seq != pad_token]\n",
    "    seq = seq[seq != sos_token]\n",
    "    seq = seq[seq != eos_token]\n",
    "    \n",
    "    return len(seq)\n",
    "\n",
    "\n",
    "def length_src(seq):\n",
    "    pad_token = word2idx_src['<PAD>']\n",
    "    eos_token = word2idx_src['<EOS>']\n",
    "    \n",
    "    # seq is a tensor of numbers clean it form all pad, sos, or eos tokens\n",
    "    seq = seq[seq != pad_token]\n",
    "    seq = seq[seq != eos_token]\n",
    "    \n",
    "    return len(seq)\n",
    "\n",
    "\n",
    "# decoded_sentences = [idx2word_src[w] for w in [ 6,  5, 11, 14,  8,  0,  0,  0,  0,  0]]\n",
    "# print(decoded_sentences)\n",
    "\n",
    "# print(length_src(torch.tensor([ 6,  5, 11, 14,  8,  0,  0,  0,  0,  0])))"
   ]
  },
  {
   "cell_type": "markdown",
   "metadata": {},
   "source": [
    "# Without oracle"
   ]
  },
  {
   "cell_type": "code",
   "execution_count": null,
   "metadata": {},
   "outputs": [],
   "source": [
    "#EXPLANATION: This is the same as when you have last seen it I only changed the calculation of the lengths of the sequences to use as keys\n",
    "#checkpoint_path = \"transformer_exp2_test.pth\"\n",
    "ckp = torch.load(checkpoint_path)\n",
    "model.load_state_dict(ckp['model_state_dict'])\n",
    "total_tokens = 0\n",
    "correct_tokens = 0\n",
    "\n",
    "src, tgt = next(iter(test_loader))\n",
    "# print(src.shape, tgt.shape)\n",
    "\n",
    "avg_token = []\n",
    "avg_seq = []\n",
    "gt_token_avgs = {}\n",
    "command_token_avgs = {}\n",
    "\n",
    "# avg_token = []\n",
    "# avg_seq = []\n",
    "\n",
    "n_batches = len(test_loader)\n",
    "\n",
    "for src_batch, tgt_batch in test_loader:\n",
    "    \n",
    "    for src, tgt in zip(src_batch, tgt_batch):\n",
    "        len_gt = length_tgt(tgt)\n",
    "        len_command = length_src(src)\n",
    "        if len_command == 3 or len_command == 5:\n",
    "            print(src)\n",
    "\n",
    "        src = src.unsqueeze(0).to(device)\n",
    "        true_tgt = tgt.unsqueeze(0).to(device)\n",
    "        tgt = torch.tensor([[word2idx_tgt['<SOS>']]]).to(device)\n",
    "        \n",
    "        iterations = MAX_LEN - 1\n",
    "        pred_sequence = [tgt.item()]\n",
    "        # print(tgt.shape)\n",
    "        # print(src.shape, true_tgt.shape)\n",
    "\n",
    "        for i in range(iterations):\n",
    "            with torch.no_grad():\n",
    "                output = model.forward(src, tgt)\n",
    "                predictions = nn.functional.softmax(output[:, -1, :], dim=-1)\n",
    "                next_token = predictions.argmax(-1).item()\n",
    "\n",
    "                pred_sequence.append(next_token)\n",
    "                tgt = torch.tensor(pred_sequence).unsqueeze(0).to(device)\n",
    "                \n",
    "                # Stop if end of sequence\n",
    "                if next_token == word2idx_tgt['<EOS>']:\n",
    "                    break                \n",
    "\n",
    "        tok_lvl_acc = token_lvl_accuracy(true_tgt, tgt)\n",
    "        seq_lvl_acc = sequence_level_accuracy(true_tgt, tgt)\n",
    "        avg_token.append(tok_lvl_acc)\n",
    "        avg_seq.append(seq_lvl_acc)\n",
    "\n",
    "        if len_gt in gt_token_avgs:\n",
    "            gt_token_avgs[len_gt].append(tok_lvl_acc)\n",
    "        else:\n",
    "            gt_token_avgs[len_gt] =[tok_lvl_acc]\n",
    "            \n",
    "        if len_command in command_token_avgs:\n",
    "            command_token_avgs[len_command].append(tok_lvl_acc)\n",
    "        else:\n",
    "            command_token_avgs[len_command] =[tok_lvl_acc]    \n",
    "        \n",
    "        "
   ]
  },
  {
   "cell_type": "code",
   "execution_count": null,
   "metadata": {},
   "outputs": [
    {
     "name": "stdout",
     "output_type": "stream",
     "text": [
      "dict_keys([8, 9])\n",
      "dict_keys([24])\n",
      "{8: 0.16777481049134588, 9: 0.16866141732283466}\n",
      "{24: 0.16794104927225006}\n",
      "Token level accuracy: 0.16794104927225006\n",
      "Sequence level accuracy: 0.0\n"
     ]
    }
   ],
   "source": [
    "#EXPLANATION: This prints out all relevant data we need for the results and plots \n",
    "# (also prints out the keys for the dictionaries not necessary but to sanity check)\n",
    "print(command_token_avgs.keys())\n",
    "print(gt_token_avgs.keys())    \n",
    "\n",
    "command_tokenavgs_avg = {k: sum(v) / len(v) for k, v in command_token_avgs.items()}\n",
    "gt_tokenavgs_avg = {k: sum(v) / len(v) for k, v in gt_token_avgs.items()}\n",
    "\n",
    "#TODO FOR JAN: Paste the printouts below to the first cell below Plotting without oracle\n",
    "print(f\"command_tokenavgs_avg = {command_tokenavgs_avg}\")\n",
    "print(f\"gt_tokenavgs_avg = {gt_tokenavgs_avg}\")\n",
    "\n",
    "print(f\"tkn_lvl_acc = {sum(avg_token) / len(avg_token)}\")\n",
    "print(f\"seq_lvl acc = {sum(avg_seq) / len(avg_seq)}\")"
   ]
  },
  {
   "cell_type": "markdown",
   "metadata": {},
   "source": [
    "## Oracle"
   ]
  },
  {
   "cell_type": "code",
   "execution_count": null,
   "metadata": {},
   "outputs": [],
   "source": [
    "#EXPLANATION: here we added the oracle to the code. If the model puts out an <EOS> token before the ground truth sequence ends\n",
    "# it will choose the second most probable token instead of the <EOS> token.\n",
    "# This is done by checking if the predicted sequence is shorter than the ground truth sequence.\n",
    "# Further, we need to collect more data this time. We additonal collect the sequence level accuracies for the ground truth and the command sequences. \n",
    "\n",
    "#checkpoint_path = \"transformer_exp2_test.pth\"\n",
    "ckp = torch.load(checkpoint_path)\n",
    "model.load_state_dict(ckp['model_state_dict'])\n",
    "total_tokens = 0\n",
    "correct_tokens = 0\n",
    "\n",
    "src, tgt = next(iter(test_loader))\n",
    "# print(src.shape, tgt.shape)\n",
    "\n",
    "avg_token = []\n",
    "avg_seq = []\n",
    "gt_token_avgs = {}\n",
    "command_token_avgs = {}\n",
    "gt_seq_avgs = {}\n",
    "command_seq_avgs = {}\n",
    "\n",
    "n_batches = len(test_loader)\n",
    "# l = 0\n",
    "for src_batch, tgt_batch in test_loader:\n",
    "    for src, tgt in zip(src_batch, tgt_batch):\n",
    "        len_gt = length_tgt(tgt)\n",
    "        len_command = length_src(src)\n",
    "\n",
    "        src = src.unsqueeze(0).to(device)\n",
    "        true_tgt = tgt.unsqueeze(0).to(device)\n",
    "        tgt = torch.tensor([[word2idx_tgt['<SOS>']]]).to(device)\n",
    "        \n",
    "        iterations = MAX_LEN - 1\n",
    "        pred_sequence = [tgt.item()]\n",
    "        # print(tgt.shape)\n",
    "        # print(src.shape, true_tgt.shape)\n",
    "\n",
    "        for i in range(iterations):\n",
    "            with torch.no_grad():\n",
    "                output = model.forward(src, tgt)\n",
    "                predictions = nn.functional.softmax(output[:, -1, :], dim=-1)\n",
    "                next_token = predictions.argmax(-1).item()\n",
    "                \n",
    "                #EXPLANATION: Oracle implementation                \n",
    "                if next_token == word2idx_tgt['<EOS>'] and len(pred_sequence) < len_gt + 1:\n",
    "                    next_token = predictions.argsort(-1, descending=True).squeeze()[1].item()\n",
    "                    \n",
    "                pred_sequence.append(next_token)\n",
    "                tgt = torch.tensor(pred_sequence).unsqueeze(0).to(device)\n",
    "            \n",
    "                \n",
    "                # Stop if end of sequence\n",
    "                if next_token == word2idx_tgt['<EOS>']:\n",
    "                    break                \n",
    "\n",
    "        tok_lvl_acc = token_lvl_accuracy(true_tgt, tgt)\n",
    "        seq_lvl_acc = sequence_level_accuracy(true_tgt, tgt)\n",
    "        avg_token.append(tok_lvl_acc)\n",
    "        avg_seq.append(seq_lvl_acc)\n",
    "        \n",
    "        if len_gt in gt_token_avgs:\n",
    "            gt_token_avgs[len_gt].append(tok_lvl_acc)\n",
    "        else:\n",
    "            gt_token_avgs[len_gt] =[tok_lvl_acc]\n",
    "            \n",
    "        if len_command in command_token_avgs:\n",
    "            command_token_avgs[len_command].append(tok_lvl_acc)\n",
    "        else:\n",
    "            command_token_avgs[len_command] =[tok_lvl_acc]\n",
    "        \n",
    "        if len_gt in gt_seq_avgs:\n",
    "            gt_seq_avgs[len_gt].append(seq_lvl_acc)\n",
    "        else:\n",
    "            gt_seq_avgs[len_gt] = [seq_lvl_acc]\n",
    "            \n",
    "        if len_command in command_seq_avgs:\n",
    "            command_seq_avgs[len_command].append(seq_lvl_acc)\n",
    "        else:\n",
    "            command_seq_avgs[len_command] =[seq_lvl_acc]"
   ]
  },
  {
   "cell_type": "code",
   "execution_count": null,
   "metadata": {},
   "outputs": [
    {
     "ename": "NameError",
     "evalue": "name 'command_token_avgs' is not defined",
     "output_type": "error",
     "traceback": [
      "\u001b[0;31m---------------------------------------------------------------------------\u001b[0m",
      "\u001b[0;31mNameError\u001b[0m                                 Traceback (most recent call last)",
      "Cell \u001b[0;32mIn[4], line 1\u001b[0m\n\u001b[0;32m----> 1\u001b[0m \u001b[38;5;28mprint\u001b[39m(\u001b[43mcommand_token_avgs\u001b[49m\u001b[38;5;241m.\u001b[39mkeys())\n\u001b[1;32m      2\u001b[0m \u001b[38;5;28mprint\u001b[39m(gt_token_avgs\u001b[38;5;241m.\u001b[39mkeys())    \n\u001b[1;32m      4\u001b[0m command_tokenavgs_avg \u001b[38;5;241m=\u001b[39m {k: \u001b[38;5;28msum\u001b[39m(v) \u001b[38;5;241m/\u001b[39m \u001b[38;5;28mlen\u001b[39m(v) \u001b[38;5;28;01mfor\u001b[39;00m k, v \u001b[38;5;129;01min\u001b[39;00m command_token_avgs\u001b[38;5;241m.\u001b[39mitems()}\n",
      "\u001b[0;31mNameError\u001b[0m: name 'command_token_avgs' is not defined"
     ]
    }
   ],
   "source": [
    "#EXPLANATION: print out of data for the results and plots (+keys)\n",
    "print(command_token_avgs.keys())\n",
    "print(gt_token_avgs.keys())    \n",
    "\n",
    "command_tokenavgs_avg = {k: sum(v) / len(v) for k, v in command_token_avgs.items()}\n",
    "gt_tokenavgs_avg = {k: sum(v) / len(v) for k, v in gt_token_avgs.items()}\n",
    "\n",
    "command_seqavgs_avg = {k: sum(v) / len(v) for k, v in command_seq_avgs.items()}\n",
    "gt_seqavgs_avg = {k: sum(v) / len(v) for k, v in gt_seq_avgs.items()}\n",
    "\n",
    "#TODO FOR JAN: Paste the printouts below to the first cell below Plotting with oracle \n",
    "\n",
    "print(f\"command_tokenavgs_avg = {command_tokenavgs_avg}\")\n",
    "print(f\"gt_tokenavgs_avg = {gt_tokenavgs_avg}\")\n",
    "\n",
    "print(f\"command_seqavgs_avg = {command_seqavgs_avg}\")\n",
    "print(f\"gt_seqavgs_avg = {gt_seqavgs_avg}\")\n",
    "\n",
    "print(f\"tkn_lvl_acc = {sum(avg_token) / len(avg_token)}\")\n",
    "print(f\"seq_lvl_acc = {sum(avg_seq) / len(avg_seq)}\")"
   ]
  },
  {
   "cell_type": "markdown",
   "metadata": {},
   "source": [
    "## Plotting"
   ]
  },
  {
   "cell_type": "markdown",
   "metadata": {},
   "source": [
    "Plotting with oracle"
   ]
  },
  {
   "cell_type": "markdown",
   "metadata": {},
   "source": [
    "##"
   ]
  },
  {
   "cell_type": "code",
   "execution_count": null,
   "metadata": {},
   "outputs": [],
   "source": [
    "#TODO FOR JAN: Paste them here\n",
    "\n",
    "# dict_keys([8, 9, 7, 3, 6, 5])\n",
    "# dict_keys([24, 25, 26, 27, 28, 30, 32, 33, 36, 40, 48])\n",
    "# command_tokenavgs_avg = {8: 0.6997872084670901, 9: 0.685847075549836, 7: 0.7673854647961234, 3: 0.8691666666666665, 6: 0.7689884382228773, 5: 0.6838500319723386}\n",
    "# gt_tokenavgs_avg = {24: 0.7738561478434809, 25: 0.6041005387027976, 26: 0.7540051630501513, 27: 0.7349516674485894, 28: 0.7823963286686172, 30: 0.7669131460182892, 32: 0.7587093871302877, 33: 0.7187184583499463, 36: 0.7723759731898171, 40: 0.7152218868137427, 48: 0.7524735392955254}\n",
    "# command_seqavgs_avg = {8: 0.11430921052631579, 9: 0.005208333333333333, 7: 0.22432432432432434, 3: 0.5, 6: 0.2591145833333333, 5: 0.25}\n",
    "# gt_seqavgs_avg = {24: 0.09226190476190477, 25: 0.078125, 26: 0.25390625, 27: 0.27901785714285715, 28: 0.27901785714285715, 30: 0.2690972222222222, 32: 0.14955357142857142, 33: 0.19140625, 36: 0.125, 40: 0.0546875, 48: 0.0}\n",
    "# token_level_acc =  0.7374888862176663\n",
    "# sequence_level_acc: 0.18852040816326532"
   ]
  },
  {
   "cell_type": "code",
   "execution_count": null,
   "metadata": {},
   "outputs": [],
   "source": [
    "#token plots\n",
    "# fig, axs = plt.subplots(2, 1, figsize=(10, 10))\n",
    "\n",
    "# # plot the average accuracy for each command length\n",
    "# axs[0].bar(list(command_tokenavgs_avg.keys()), list(command_tokenavgs_avg.values()))\n",
    "# axs[0].set_xlabel(\"Command Length (in words)\")\n",
    "# axs[0].set_ylabel(\"Accuracy on New Commands\")\n",
    "# axs[0].set_title(\"Token-Level Accuracy by Command Length\")\n",
    "# axs[0].set_xticks([4, 6, 7, 8, 9])\n",
    "\n",
    "# # plot the average accuracy for each ground-truth sequence length\n",
    "# axs[1].bar(list(gt_tokenavgs_avg.keys()), list(gt_tokenavgs_avg.values()))\n",
    "# axs[1].set_xlabel(\"Ground-Truth Action Sequence Length (in words)\")\n",
    "# axs[1].set_ylabel(\"Accuracy on New Commands (%)\")\n",
    "# axs[1].set_title(\"Token-Level Accuracy by Action Sequence Length\")\n",
    "# axs[1].set_xticks([25, 30, 35, 40, 45, 50])\n"
   ]
  },
  {
   "cell_type": "code",
   "execution_count": 3,
   "metadata": {},
   "outputs": [],
   "source": [
    "#sequence plots\n",
    "\n",
    "# fig, axs = plt.subplots(2, 1, figsize=(10, 10))\n",
    "\n",
    "# # plot the average accuracy for each command length\n",
    "# axs[0].bar(list(command_seqavgs_avg.keys()), list(command_seqavgs_avg.values()))\n",
    "# axs[0].set_xlabel(\"Command Length (in words)\")\n",
    "# axs[0].set_ylabel(\"Accuracy on New Commands\")\n",
    "# axs[0].set_title(\"Sequence-Level Accuracy by Command Length\")\n",
    "# axs[0].set_xticks([4, 6, 7, 8, 9])\n",
    "\n",
    "# # plot the average accuracy for each ground-truth sequence length\n",
    "# axs[1].bar(list(gt_seqavgs_avg.keys()), list(gt_seqavgs_avg.values()))\n",
    "# axs[1].set_xlabel(\"Ground-Truth Action Sequence Length (in words)\")\n",
    "# axs[1].set_ylabel(\"Accuracy on New Commands (%)\")\n",
    "# axs[1].set_title(\"Sequence-Level Accuracy by Action Sequence Length\")\n",
    "# axs[1].set_xticks([25, 30, 35, 40, 45, 50])\n"
   ]
  },
  {
   "cell_type": "markdown",
   "metadata": {},
   "source": [
    "Plotting without oracle"
   ]
  },
  {
   "cell_type": "code",
   "execution_count": null,
   "metadata": {},
   "outputs": [],
   "source": [
    "#TODO FOR JAN: Paste them here\n",
    "\n",
    "# dict_keys([8, 9, 7, 3, 6, 5])\n",
    "# dict_keys([24, 25, 26, 27, 28, 30, 32, 33, 36, 40, 48])\n",
    "\n",
    "# command_avgs_avg = {8: 0.6230199421957834, 9: 0.7345682457010582, 7: 0.44055249508374283, 3: 0.4270833333333333, 6: 0.4297355769230738, 5: 0.4008506944444439}\n",
    "# gt_avgs_avg = {24: 0.8767727229780791, 25: 0.618293899524219, 26: 0.43359374999999883, 27: 0.4742063492063489, 28: 0.4733122860531186, 30: 0.41446759259259464, 32: 0.5496651785714286, 33: 0.41477272727272746, 36: 0.4509548611111111, 40: 0.4425781249999994, 48: 0.27587890625}\n",
    "# token_level_acc = 0.5068159217168267\n",
    "# seq_level_acc = 0.0"
   ]
  },
  {
   "cell_type": "code",
   "execution_count": null,
   "metadata": {},
   "outputs": [],
   "source": [
    "#token plots\n",
    "# fig, axs = plt.subplots(2, 1, figsize=(10, 10))\n",
    "\n",
    "# # plot the average accuracy for each command length\n",
    "# axs[0].bar(list(command_avgs_avg.keys()), list(command_avgs_avg.values()))\n",
    "# axs[0].set_xlabel(\"Command Length (in words)\")\n",
    "# axs[0].set_ylabel(\"Accuracy on New Commands\")\n",
    "# axs[0].set_title(\"Token-Level Accuracy by Command Length\")\n",
    "# axs[0].set_xticks([4, 6, 7, 8, 9])\n",
    "\n",
    "# # plot the average accuracy for each ground-truth sequence length\n",
    "# axs[1].bar(list(gt_avgs_avg.keys()), list(gt_avgs_avg.values()))\n",
    "# axs[1].set_xlabel(\"Ground-Truth Action Sequence Length (in words)\")\n",
    "# axs[1].set_ylabel(\"Accuracy on New Commands (%)\")\n",
    "# axs[1].set_title(\"Token-Level Accuracy by Action Sequence Length\")\n",
    "# axs[1].set_xticks([25, 30, 35, 40, 45, 50])"
   ]
  }
 ],
 "metadata": {
  "kernelspec": {
   "display_name": "base",
   "language": "python",
   "name": "python3"
  },
  "language_info": {
   "codemirror_mode": {
    "name": "ipython",
    "version": 3
   },
   "file_extension": ".py",
   "mimetype": "text/x-python",
   "name": "python",
   "nbconvert_exporter": "python",
   "pygments_lexer": "ipython3",
   "version": "3.8.16"
  }
 },
 "nbformat": 4,
 "nbformat_minor": 2
}
