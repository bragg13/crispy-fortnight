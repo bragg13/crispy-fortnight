{
  "cells": [
    {
      "cell_type": "code",
      "source": [
        "from google.colab import drive\n",
        "drive.mount('/content/drive')"
      ],
      "metadata": {
        "colab": {
          "base_uri": "https://localhost:8080/"
        },
        "id": "ebfdruxOBzV_",
        "outputId": "eb7a7d0b-00e9-4398-ea24-7b14ccc27092"
      },
      "execution_count": 1,
      "outputs": [
        {
          "output_type": "stream",
          "name": "stdout",
          "text": [
            "Mounted at /content/drive\n"
          ]
        }
      ]
    },
    {
      "cell_type": "code",
      "execution_count": 2,
      "metadata": {
        "id": "33eI9XrcBs8r"
      },
      "outputs": [],
      "source": [
        "# %%\n",
        "import os\n",
        "import math\n",
        "import numpy as np\n",
        "import torch\n",
        "import torch.nn as nn\n",
        "from drive.MyDrive.ATNLP.crispy_fortnight.transformer import Transformer\n",
        "import pandas as pd\n",
        "from torch.utils.data import DataLoader, Dataset\n",
        "from torch.nn.utils.rnn import pad_sequence\n",
        "import torch.optim as optim\n",
        "from tqdm import tqdm\n",
        "import wandb\n",
        "\n",
        "# %%\n",
        "# Set device\n",
        "device = torch.device(\"cuda\" if torch.cuda.is_available() else \"cpu\")\n",
        "# device = torch.device('mps')\n",
        "\n",
        "# EXPERIMENT 2:\n",
        "EMB_DIM = 128\n",
        "N_LAYERS = 2\n",
        "N_HEADS = 8\n",
        "FORWARD_DIM = 256\n",
        "DROPOUT = 0.15\n",
        "LEARNING_RATE = 2e-4\n",
        "GRAD_CLIP = 1\n",
        "BATCH_SIZE = 16\n",
        "MAX_LEN = 128"
      ]
    },
    {
      "cell_type": "code",
      "execution_count": 3,
      "metadata": {
        "colab": {
          "base_uri": "https://localhost:8080/"
        },
        "id": "Tlc_gOvbBs8t",
        "outputId": "9c112d15-be70-4aef-c2e6-ff766cbf1775"
      },
      "outputs": [
        {
          "output_type": "stream",
          "name": "stdout",
          "text": [
            "On cuda\n"
          ]
        }
      ],
      "source": [
        "print(f\"On {device}\")"
      ]
    },
    {
      "cell_type": "code",
      "execution_count": 4,
      "metadata": {
        "id": "pEyxBsCbBs8u"
      },
      "outputs": [],
      "source": [
        "# Task 0: DataLoader and Preprocessing\n",
        "class TasksData(Dataset):\n",
        "    def __init__(self, data_dir, file, transform=None):\n",
        "        self.data_dir = data_dir\n",
        "        self.file = file\n",
        "        text_file = os.path.join(data_dir, file)\n",
        "\n",
        "        data_dict = {\"src\": [], \"tgt\": []}\n",
        "\n",
        "        with open(text_file, 'r') as f:\n",
        "            lines = f.readlines()\n",
        "            for line in lines:\n",
        "                src = line.split('OUT:')[0]\n",
        "                src = src.split('IN:')[1].strip()\n",
        "                tgt = line.split('OUT:')[1].strip()\n",
        "\n",
        "                data_dict['src'].append(src)\n",
        "                data_dict['tgt'].append(tgt)\n",
        "\n",
        "        self.data = pd.DataFrame(data_dict)\n",
        "\n",
        "\n",
        "    def __len__(self):\n",
        "        return len(self.data)\n",
        "\n",
        "    def __getitem__(self, idx):\n",
        "        src = self.data['src'].iloc[idx] + ' <EOS>'\n",
        "        tgt = '<SOS> ' + self.data['tgt'].iloc[idx] + ' <EOS>'\n",
        "        return src, tgt\n",
        "\n",
        "def create_vocab(dataset):\n",
        "    vocab = set()\n",
        "\n",
        "    for sample in dataset:\n",
        "        vocab.update(sample.split())\n",
        "    return vocab\n",
        "\n",
        "# %%\n",
        "# creating datasets\n",
        "train_data = TasksData(data_dir='/content/drive/MyDrive/ATNLP/crispy_fortnight/data/experiment2', file='tasks_train_length.txt')\n",
        "test_data = TasksData(data_dir='/content/drive/MyDrive/ATNLP/crispy_fortnight/data/experiment2', file='tasks_test_length.txt')\n",
        "\n",
        "#creating source and target vocab\n",
        "src_train_data = [src for src, tgt in train_data]\n",
        "vocab_train_src = create_vocab(src_train_data)\n",
        "\n",
        "tgt_train_data = [tgt for src, tgt in train_data]\n",
        "vocab_train_tgt = create_vocab(tgt_train_data)\n",
        "\n",
        "# we need to do word2idx to map the words to indexes. Bc the input for nn.Embedding has to be numbers\n",
        "# since nn.Embdding has different weights in input andoutput embedding the same index will not be encoded to the same vector\n",
        "word2idx_src = {w: idx + 1 for (idx, w) in enumerate(vocab_train_src)}\n",
        "word2idx_src['<PAD>'] = 0\n",
        "\n",
        "word2idx_tgt= {w: idx + 1 for (idx, w) in enumerate(vocab_train_tgt)}\n",
        "word2idx_tgt['<PAD>'] = 0\n",
        "\n",
        "def custom_collate_fn(batch):\n",
        "    #input: batch of sentences\n",
        "    # tokenize, word2idx, pad\n",
        "    padded_src = pad_sequence([torch.tensor([word2idx_src[w] for w in src.split()]) for src, tgt in batch], batch_first=True, padding_value=0).to(device)\n",
        "    padded_tgt = pad_sequence([torch.tensor([word2idx_tgt[w] for w in tgt.split()]) for src, tgt in batch], batch_first=True, padding_value=0).to(device)\n",
        "\n",
        "    return padded_src, padded_tgt\n",
        "\n",
        "# %%\n",
        "# create dataloaders\n",
        "train_loader = DataLoader(train_data, batch_size=BATCH_SIZE, shuffle=True, collate_fn=custom_collate_fn)\n",
        "test_loader = DataLoader(test_data, batch_size=BATCH_SIZE, shuffle=False, collate_fn=custom_collate_fn)"
      ]
    },
    {
      "cell_type": "code",
      "execution_count": 5,
      "metadata": {
        "id": "xiHoAa5ABs8u"
      },
      "outputs": [],
      "source": [
        "# define the model\n",
        "model = Transformer(\n",
        "    src_vocab_size=len(word2idx_src),\n",
        "    tgt_vocab_size=len(word2idx_tgt),\n",
        "    src_pad_idx=word2idx_src['<PAD>'],\n",
        "    tgt_pad_idx=word2idx_tgt['<PAD>'],\n",
        "    emb_dim=EMB_DIM,\n",
        "    num_layers=N_LAYERS,\n",
        "    num_heads=N_HEADS,\n",
        "    forward_dim=FORWARD_DIM,\n",
        "    dropout=DROPOUT,\n",
        "    max_len=MAX_LEN,\n",
        ").to(device)"
      ]
    },
    {
      "cell_type": "markdown",
      "metadata": {
        "id": "KF-gNrL-Bs8v"
      },
      "source": [
        "## ACCURACY FUNCTIONS"
      ]
    },
    {
      "cell_type": "code",
      "execution_count": 6,
      "metadata": {
        "id": "1dmw_iiiBs8v"
      },
      "outputs": [],
      "source": [
        "def token_lvl_accuracy(gt, pred):\n",
        "    \"\"\"\n",
        "    gt = ground truth sequence\n",
        "    pred = predicted sequence\n",
        "    \"\"\"\n",
        "    correct = 0\n",
        "\n",
        "    # get start and end\n",
        "    eos_idx = word2idx_tgt['<EOS>']\n",
        "    sos_idx = word2idx_tgt['<SOS>']\n",
        "    # print(eos_idx)\n",
        "    # print(sos_idx)\n",
        "    pred = pred[-1]\n",
        "\n",
        "\n",
        "    gt = gt[-1]\n",
        "\n",
        "    # index of <SOS> and <EOS> tokens of the predicted sequence\n",
        "    pred_start = 0\n",
        "    pred_end = len(pred) if (eos_idx not in pred) else (pred == eos_idx).nonzero(as_tuple=True)[0].item()\n",
        "\n",
        "    # index of <SOS> and <EOS> tokens of the ground truth sequence\n",
        "    gt_start = (gt == sos_idx).nonzero(as_tuple=True)[0].item()\n",
        "    gt_end = (gt == eos_idx).nonzero(as_tuple=True)[0].item()\n",
        "\n",
        "    # slicing\n",
        "    gt = gt[gt_start+1 : gt_end]\n",
        "    pred = pred[pred_start+1 : pred_end]\n",
        "\n",
        "    longer = gt if len(gt) > len(pred) else pred\n",
        "    shorter = pred if len(gt) > len(pred) else gt\n",
        "\n",
        "    longest_len = len(longer)\n",
        "\n",
        "    shorter = torch.nn.functional.pad(shorter, (0, longest_len - len(shorter)), \"constant\", 0)\n",
        "\n",
        "    correct = sum(longer == shorter)\n",
        "    # print(longer)\n",
        "    # print(shorter)\n",
        "    # print(correct)\n",
        "    return int(correct) / len(shorter) # same length as longer\n",
        "\n",
        "\n",
        "def sequence_level_accuracy(gt, pred):\n",
        "\n",
        "    # get start and end\n",
        "    eos_idx = word2idx_tgt['<EOS>']\n",
        "    sos_idx = word2idx_tgt['<SOS>']\n",
        "    # print(eos_idx)\n",
        "    # print(sos_idx)\n",
        "    pred = pred[-1]\n",
        "    gt = gt[-1]\n",
        "\n",
        "    # index of <SOS> and <EOS> tokens of the predicted sequence\n",
        "    pred_start = 0\n",
        "    pred_end = len(pred) if (eos_idx not in pred) else (pred == eos_idx).nonzero(as_tuple=True)[0].item()\n",
        "\n",
        "    # index of <SOS> and <EOS> tokens of the ground truth sequence\n",
        "    gt_start = (gt == sos_idx).nonzero(as_tuple=True)[0].item()\n",
        "    gt_end = (gt == eos_idx).nonzero(as_tuple=True)[0].item()\n",
        "\n",
        "    # slicing\n",
        "    gt = gt[gt_start+1 : gt_end]\n",
        "    pred = pred[pred_start+1 : pred_end]\n",
        "\n",
        "    if len(gt) != len(pred):\n",
        "        return 0\n",
        "\n",
        "    if sum(gt == pred) == len(gt):\n",
        "        return 1\n",
        "\n",
        "    return 0\n"
      ]
    },
    {
      "cell_type": "markdown",
      "metadata": {
        "id": "1ejEXULfBs8v"
      },
      "source": [
        "## TRAINING"
      ]
    },
    {
      "cell_type": "code",
      "execution_count": 17,
      "metadata": {
        "colab": {
          "base_uri": "https://localhost:8080/",
          "height": 747
        },
        "id": "R4LRwsBfBs8w",
        "outputId": "70f088a8-a85f-4c26-f56c-ebaf0daeda3f"
      },
      "outputs": [
        {
          "output_type": "display_data",
          "data": {
            "text/plain": [
              "<IPython.core.display.HTML object>"
            ],
            "text/html": [
              "Tracking run with wandb version 0.18.7"
            ]
          },
          "metadata": {}
        },
        {
          "output_type": "display_data",
          "data": {
            "text/plain": [
              "<IPython.core.display.HTML object>"
            ],
            "text/html": [
              "Run data is saved locally in <code>/content/wandb/run-20241217_113533-uhpph07o</code>"
            ]
          },
          "metadata": {}
        },
        {
          "output_type": "display_data",
          "data": {
            "text/plain": [
              "<IPython.core.display.HTML object>"
            ],
            "text/html": [
              "Syncing run <strong><a href='https://wandb.ai/jan-ljubas/transformer_training/runs/uhpph07o' target=\"_blank\">experiment_2_25_epochs</a></strong> to <a href='https://wandb.ai/jan-ljubas/transformer_training' target=\"_blank\">Weights & Biases</a> (<a href='https://wandb.me/developer-guide' target=\"_blank\">docs</a>)<br/>"
            ]
          },
          "metadata": {}
        },
        {
          "output_type": "display_data",
          "data": {
            "text/plain": [
              "<IPython.core.display.HTML object>"
            ],
            "text/html": [
              " View project at <a href='https://wandb.ai/jan-ljubas/transformer_training' target=\"_blank\">https://wandb.ai/jan-ljubas/transformer_training</a>"
            ]
          },
          "metadata": {}
        },
        {
          "output_type": "display_data",
          "data": {
            "text/plain": [
              "<IPython.core.display.HTML object>"
            ],
            "text/html": [
              " View run at <a href='https://wandb.ai/jan-ljubas/transformer_training/runs/uhpph07o' target=\"_blank\">https://wandb.ai/jan-ljubas/transformer_training/runs/uhpph07o</a>"
            ]
          },
          "metadata": {}
        },
        {
          "output_type": "stream",
          "name": "stderr",
          "text": [
            "Epoch [1/25], Loss: 0.0001: 100%|██████████| 1062/1062 [00:21<00:00, 48.29it/s]\n",
            "Epoch [2/25], Loss: 0.0001: 100%|██████████| 1062/1062 [00:22<00:00, 47.46it/s]\n",
            "Epoch [3/25], Loss: 0.0002: 100%|██████████| 1062/1062 [00:22<00:00, 47.71it/s]\n",
            "Epoch [4/25], Loss: 0.0001: 100%|██████████| 1062/1062 [00:22<00:00, 47.59it/s]\n",
            "Epoch [5/25], Loss: 0.0001: 100%|██████████| 1062/1062 [00:22<00:00, 47.11it/s]\n",
            "Epoch [6/25], Loss: 0.0001: 100%|██████████| 1062/1062 [00:22<00:00, 47.70it/s]\n",
            "Epoch [7/25], Loss: 0.0003: 100%|██████████| 1062/1062 [00:22<00:00, 47.22it/s]\n",
            "Epoch [8/25], Loss: 0.0001: 100%|██████████| 1062/1062 [00:22<00:00, 47.66it/s]\n",
            "Epoch [9/25], Loss: 0.0433: 100%|██████████| 1062/1062 [00:22<00:00, 47.42it/s]\n",
            "Epoch [10/25], Loss: 0.0001: 100%|██████████| 1062/1062 [00:22<00:00, 48.11it/s]\n",
            "Epoch [11/25], Loss: 0.0003: 100%|██████████| 1062/1062 [00:21<00:00, 48.28it/s]\n",
            "Epoch [12/25], Loss: 0.0000: 100%|██████████| 1062/1062 [00:21<00:00, 48.33it/s]\n",
            "Epoch [13/25], Loss: 0.0005: 100%|██████████| 1062/1062 [00:22<00:00, 47.55it/s]\n",
            "Epoch [14/25], Loss: 0.0002: 100%|██████████| 1062/1062 [00:22<00:00, 47.83it/s]\n",
            "Epoch [15/25], Loss: 0.0001: 100%|██████████| 1062/1062 [00:22<00:00, 47.49it/s]\n",
            "Epoch [16/25], Loss: 0.0001: 100%|██████████| 1062/1062 [00:22<00:00, 47.76it/s]\n",
            "Epoch [17/25], Loss: 0.0002: 100%|██████████| 1062/1062 [00:22<00:00, 47.63it/s]\n",
            "Epoch [18/25], Loss: 0.0001: 100%|██████████| 1062/1062 [00:22<00:00, 48.25it/s]\n",
            "Epoch [19/25], Loss: 0.0000: 100%|██████████| 1062/1062 [00:22<00:00, 48.02it/s]\n",
            "Epoch [20/25], Loss: 0.0007: 100%|██████████| 1062/1062 [00:22<00:00, 48.05it/s]\n",
            "Epoch [21/25], Loss: 0.0003: 100%|██████████| 1062/1062 [00:22<00:00, 47.58it/s]\n",
            "Epoch [22/25], Loss: 0.0001: 100%|██████████| 1062/1062 [00:22<00:00, 47.97it/s]\n",
            "Epoch [23/25], Loss: 0.0001: 100%|██████████| 1062/1062 [00:22<00:00, 48.15it/s]\n",
            "Epoch [24/25], Loss: 0.0015: 100%|██████████| 1062/1062 [00:22<00:00, 48.01it/s]\n",
            "Epoch [25/25], Loss: 0.0001: 100%|██████████| 1062/1062 [00:21<00:00, 48.51it/s]\n"
          ]
        },
        {
          "output_type": "display_data",
          "data": {
            "text/plain": [
              "<IPython.core.display.HTML object>"
            ],
            "text/html": [
              "\n",
              "    <style>\n",
              "        .wandb-row {\n",
              "            display: flex;\n",
              "            flex-direction: row;\n",
              "            flex-wrap: wrap;\n",
              "            justify-content: flex-start;\n",
              "            width: 100%;\n",
              "        }\n",
              "        .wandb-col {\n",
              "            display: flex;\n",
              "            flex-direction: column;\n",
              "            flex-basis: 100%;\n",
              "            flex: 1;\n",
              "            padding: 10px;\n",
              "        }\n",
              "    </style>\n",
              "<div class=\"wandb-row\"><div class=\"wandb-col\"><h3>Run history:</h3><br/><table class=\"wandb\"><tr><td>Epoch Loss</td><td>▅▇▄▄▂▅▄▂█▁▃▃▃▃▆▂▇▄▂▁▅▅▅▃▂</td></tr><tr><td>Step Loss</td><td>▁▁▁▁▁▁▁▁▁▁▁▁▁▁█▁▁▁▁▁▁▁▁▁▁▁▁▁▁▁▁▁▁▁▁▃▁▁▃▂</td></tr></table><br/></div><div class=\"wandb-col\"><h3>Run summary:</h3><br/><table class=\"wandb\"><tr><td>Epoch Loss</td><td>0.00146</td></tr><tr><td>Step Loss</td><td>8e-05</td></tr></table><br/></div></div>"
            ]
          },
          "metadata": {}
        },
        {
          "output_type": "display_data",
          "data": {
            "text/plain": [
              "<IPython.core.display.HTML object>"
            ],
            "text/html": [
              " View run <strong style=\"color:#cdcd00\">experiment_2_25_epochs</strong> at: <a href='https://wandb.ai/jan-ljubas/transformer_training/runs/uhpph07o' target=\"_blank\">https://wandb.ai/jan-ljubas/transformer_training/runs/uhpph07o</a><br/> View project at: <a href='https://wandb.ai/jan-ljubas/transformer_training' target=\"_blank\">https://wandb.ai/jan-ljubas/transformer_training</a><br/>Synced 5 W&B file(s), 0 media file(s), 0 artifact file(s) and 0 other file(s)"
            ]
          },
          "metadata": {}
        },
        {
          "output_type": "display_data",
          "data": {
            "text/plain": [
              "<IPython.core.display.HTML object>"
            ],
            "text/html": [
              "Find logs at: <code>./wandb/run-20241217_113533-uhpph07o/logs</code>"
            ]
          },
          "metadata": {}
        }
      ],
      "source": [
        "optimizer = optim.AdamW(model.parameters(), lr=LEARNING_RATE)\n",
        "criterion = nn.CrossEntropyLoss(ignore_index=word2idx_tgt['<PAD>'])\n",
        "\n",
        "# Training loop\n",
        "num_epochs = 75  # Updated to 75 epochs\n",
        "checkpoint_interval = 25  # Save checkpoint every 25 epochs\n",
        "losses = []\n",
        "\n",
        "# Initialize wandb\n",
        "wandb.init(project=\"transformer_training\", name=f\"experiment_2_{num_epochs}_epochs\")  # Use appropriate project and run names\n",
        "wandb.config = {\n",
        "    \"learning_rate\": LEARNING_RATE,\n",
        "    \"epochs\": num_epochs,\n",
        "    \"batch_size\": train_loader.batch_size,\n",
        "    \"gradient_clip\": GRAD_CLIP\n",
        "}\n",
        "\n",
        "for epoch in range(num_epochs):\n",
        "    model.train()\n",
        "    epoch_loss = 0\n",
        "\n",
        "    for step, (src, tgt) in (pbar := tqdm(enumerate(train_loader), total=len(train_loader))):\n",
        "        src, tgt = src.to(device), tgt.to(device)\n",
        "\n",
        "        optimizer.zero_grad()\n",
        "\n",
        "        # output = model(src, tgt)\n",
        "        output = model(src, tgt[:, :-1])\n",
        "        output_dim = output.shape[-1]\n",
        "\n",
        "        output = output.contiguous().view(-1, output_dim)\n",
        "        tgt = tgt[:, 1:].contiguous().view(-1)\n",
        "\n",
        "        loss = criterion(output, tgt)\n",
        "        loss.backward()\n",
        "\n",
        "        # Gradient clipping\n",
        "        torch.nn.utils.clip_grad_norm_(model.parameters(), GRAD_CLIP)\n",
        "\n",
        "        wandb.log({\"Step Loss\": loss.item()})\n",
        "        pbar.set_description(f'Epoch [{epoch+1}/{num_epochs}], Loss: {loss:.4f}')\n",
        "\n",
        "        optimizer.step()\n",
        "        epoch_loss += loss.item()\n",
        "\n",
        "    avg_epoch_loss = epoch_loss / len(train_loader)\n",
        "    losses.append(avg_epoch_loss)\n",
        "\n",
        "    # Log average epoch loss to wandb\n",
        "    wandb.log({\"Epoch Loss\": avg_epoch_loss})\n",
        "\n",
        "    # Save checkpoint every 'checkpoint_interval' epochs\n",
        "    if (epoch + 1) % checkpoint_interval == 0 or (epoch + 1) == num_epochs:\n",
        "        checkpoint_path = f\"/content/drive/MyDrive/ATNLP/crispy_fortnight/17_12_2024_transformer_exp2_epoch_{epoch+1}.pth\"\n",
        "        torch.save({\n",
        "            'epoch': epoch + 1,\n",
        "            'model_state_dict': model.state_dict(),\n",
        "            'optimizer_state_dict': optimizer.state_dict(),\n",
        "            'losses': losses,  # Save losses up to the current epoch\n",
        "        }, checkpoint_path)\n",
        "        print(f\"Checkpoint saved at: {checkpoint_path}\")\n",
        "\n",
        "wandb.finish()\n"
      ]
    },
    {
      "cell_type": "code",
      "execution_count": 22,
      "metadata": {
        "collapsed": true,
        "colab": {
          "base_uri": "https://localhost:8080/",
          "height": 663
        },
        "id": "Ccqu_3AaBs8w",
        "outputId": "ec7f870c-9012-4d9d-d882-d7cf830892d8"
      },
      "outputs": [
        {
          "output_type": "display_data",
          "data": {
            "text/plain": [
              "<IPython.core.display.HTML object>"
            ],
            "text/html": [
              "Finishing last run (ID:x9e3tvtc) before initializing another..."
            ]
          },
          "metadata": {}
        },
        {
          "output_type": "display_data",
          "data": {
            "text/plain": [
              "<IPython.core.display.HTML object>"
            ],
            "text/html": [
              " View run <strong style=\"color:#cdcd00\">experiment_2_25_epochs_plot</strong> at: <a href='https://wandb.ai/jan-ljubas/transformer_training/runs/x9e3tvtc' target=\"_blank\">https://wandb.ai/jan-ljubas/transformer_training/runs/x9e3tvtc</a><br/> View project at: <a href='https://wandb.ai/jan-ljubas/transformer_training' target=\"_blank\">https://wandb.ai/jan-ljubas/transformer_training</a><br/>Synced 5 W&B file(s), 0 media file(s), 0 artifact file(s) and 1 other file(s)"
            ]
          },
          "metadata": {}
        },
        {
          "output_type": "display_data",
          "data": {
            "text/plain": [
              "<IPython.core.display.HTML object>"
            ],
            "text/html": [
              "Find logs at: <code>./wandb/run-20241217_114451-x9e3tvtc/logs</code>"
            ]
          },
          "metadata": {}
        },
        {
          "output_type": "display_data",
          "data": {
            "text/plain": [
              "<IPython.core.display.HTML object>"
            ],
            "text/html": [
              "Successfully finished last run (ID:x9e3tvtc). Initializing new run:<br/>"
            ]
          },
          "metadata": {}
        },
        {
          "output_type": "display_data",
          "data": {
            "text/plain": [
              "<IPython.core.display.HTML object>"
            ],
            "text/html": [
              "Tracking run with wandb version 0.18.7"
            ]
          },
          "metadata": {}
        },
        {
          "output_type": "display_data",
          "data": {
            "text/plain": [
              "<IPython.core.display.HTML object>"
            ],
            "text/html": [
              "Run data is saved locally in <code>/content/wandb/run-20241217_115551-6th162so</code>"
            ]
          },
          "metadata": {}
        },
        {
          "output_type": "display_data",
          "data": {
            "text/plain": [
              "<IPython.core.display.HTML object>"
            ],
            "text/html": [
              "Syncing run <strong><a href='https://wandb.ai/jan-ljubas/transformer_training/runs/6th162so' target=\"_blank\">experiment_2_25_epochs_plot</a></strong> to <a href='https://wandb.ai/jan-ljubas/transformer_training' target=\"_blank\">Weights & Biases</a> (<a href='https://wandb.me/developer-guide' target=\"_blank\">docs</a>)<br/>"
            ]
          },
          "metadata": {}
        },
        {
          "output_type": "display_data",
          "data": {
            "text/plain": [
              "<IPython.core.display.HTML object>"
            ],
            "text/html": [
              " View project at <a href='https://wandb.ai/jan-ljubas/transformer_training' target=\"_blank\">https://wandb.ai/jan-ljubas/transformer_training</a>"
            ]
          },
          "metadata": {}
        },
        {
          "output_type": "display_data",
          "data": {
            "text/plain": [
              "<IPython.core.display.HTML object>"
            ],
            "text/html": [
              " View run at <a href='https://wandb.ai/jan-ljubas/transformer_training/runs/6th162so' target=\"_blank\">https://wandb.ai/jan-ljubas/transformer_training/runs/6th162so</a>"
            ]
          },
          "metadata": {}
        },
        {
          "output_type": "display_data",
          "data": {
            "text/plain": [
              "<Figure size 640x480 with 1 Axes>"
            ],
            "image/png": "[encoded data removed]"
          },
          "metadata": {}
        }
      ],
      "source": [
        "import matplotlib.pyplot as plt\n",
        "# plt.figure(1)\n",
        "# plt.plot(losses)\n",
        "\n",
        "wandb.init(project=\"transformer_training\", name=f\"experiment_2_{num_epochs}_epochs_plot\")  # Use appropriate project and run names\n",
        "\n",
        "# Plot and log the loss curve\n",
        "plt.plot(range(1, len(losses) + 1), losses, label=\"Training Loss\")\n",
        "plt.xlabel(\"Epoch\")\n",
        "plt.ylabel(\"Loss\")\n",
        "plt.title(\"Training Loss Curve\")\n",
        "plt.legend()\n",
        "plt.savefig(\"loss_curve.png\")  # Save the plot locally\n",
        "\n",
        "# Log the plot to wandb\n",
        "wandb.log({\"Loss Curve\": wandb.Image(\"loss_curve.png\")})\n"
      ]
    },
    {
      "cell_type": "code",
      "execution_count": 23,
      "metadata": {
        "id": "L_9AQFYoBs8w"
      },
      "outputs": [],
      "source": [
        "# Reverse the word-to-index mapping\n",
        "idx2word_src = {idx: w for w, idx in word2idx_src.items()}\n",
        "idx2word_tgt = {idx: w for w, idx in word2idx_tgt.items()}\n",
        "\n",
        "def decode_indices(indices, idx2word):\n",
        "    return ' '.join(idx2word[idx] for idx in indices if idx in idx2word and idx != word2idx_src['<PAD>'])"
      ]
    },
    {
      "cell_type": "code",
      "execution_count": 24,
      "metadata": {
        "colab": {
          "base_uri": "https://localhost:8080/"
        },
        "id": "sGSvdE5dBs8w",
        "outputId": "35e7194a-86d3-4296-a443-5aeffa6ac4c6"
      },
      "outputs": [
        {
          "output_type": "stream",
          "name": "stdout",
          "text": [
            "6\n",
            "4\n"
          ]
        }
      ],
      "source": [
        "print(word2idx_tgt['<SOS>'])\n",
        "print(word2idx_tgt['<EOS>'])"
      ]
    },
    {
      "cell_type": "code",
      "execution_count": 25,
      "metadata": {
        "id": "gG_NQeWsBs8x"
      },
      "outputs": [],
      "source": [
        "# EXPLANATION: I had to make length functions thta return the length of the sequence without the special tokens to get the keys for the dictionaries\n",
        "# One of them uses the word2idx_src and the other uses the word2idx_tgt to remove the special tokens and return the length\n",
        "\n",
        "def length_tgt(seq):\n",
        "    pad_token = word2idx_tgt['<PAD>']\n",
        "    sos_token = word2idx_tgt['<SOS>']\n",
        "    eos_token = word2idx_tgt['<EOS>']\n",
        "\n",
        "    # seq is a tensor of numbers clean it form all pad, sos, or eos tokens\n",
        "    seq = seq[seq != pad_token]\n",
        "    seq = seq[seq != sos_token]\n",
        "    seq = seq[seq != eos_token]\n",
        "\n",
        "    return len(seq)\n",
        "\n",
        "\n",
        "def length_src(seq):\n",
        "    pad_token = word2idx_src['<PAD>']\n",
        "    eos_token = word2idx_src['<EOS>']\n",
        "\n",
        "    # seq is a tensor of numbers clean it form all pad, sos, or eos tokens\n",
        "    seq = seq[seq != pad_token]\n",
        "    seq = seq[seq != eos_token]\n",
        "\n",
        "    return len(seq)\n",
        "\n",
        "\n",
        "# decoded_sentences = [idx2word_src[w] for w in [ 6,  5, 11, 14,  8,  0,  0,  0,  0,  0]]\n",
        "# print(decoded_sentences)\n",
        "\n",
        "# print(length_src(torch.tensor([ 6,  5, 11, 14,  8,  0,  0,  0,  0,  0])))"
      ]
    },
    {
      "cell_type": "markdown",
      "metadata": {
        "id": "SQmDJrPjBs8x"
      },
      "source": [
        "# Without oracle"
      ]
    },
    {
      "cell_type": "code",
      "execution_count": 26,
      "metadata": {
        "colab": {
          "base_uri": "https://localhost:8080/",
          "height": 542
        },
        "id": "7CVVHo0mBs8x",
        "outputId": "3c0cc2fc-c853-4f13-c9ec-ebb90b995c81"
      },
      "outputs": [
        {
          "output_type": "display_data",
          "data": {
            "text/plain": [
              "<IPython.core.display.HTML object>"
            ],
            "text/html": [
              "Finishing last run (ID:6th162so) before initializing another..."
            ]
          },
          "metadata": {}
        },
        {
          "output_type": "display_data",
          "data": {
            "text/plain": [
              "<IPython.core.display.HTML object>"
            ],
            "text/html": [
              " View run <strong style=\"color:#cdcd00\">experiment_2_25_epochs_plot</strong> at: <a href='https://wandb.ai/jan-ljubas/transformer_training/runs/6th162so' target=\"_blank\">https://wandb.ai/jan-ljubas/transformer_training/runs/6th162so</a><br/> View project at: <a href='https://wandb.ai/jan-ljubas/transformer_training' target=\"_blank\">https://wandb.ai/jan-ljubas/transformer_training</a><br/>Synced 5 W&B file(s), 0 media file(s), 0 artifact file(s) and 1 other file(s)"
            ]
          },
          "metadata": {}
        },
        {
          "output_type": "display_data",
          "data": {
            "text/plain": [
              "<IPython.core.display.HTML object>"
            ],
            "text/html": [
              "Find logs at: <code>./wandb/run-20241217_115551-6th162so/logs</code>"
            ]
          },
          "metadata": {}
        },
        {
          "output_type": "display_data",
          "data": {
            "text/plain": [
              "<IPython.core.display.HTML object>"
            ],
            "text/html": [
              "Successfully finished last run (ID:6th162so). Initializing new run:<br/>"
            ]
          },
          "metadata": {}
        },
        {
          "output_type": "display_data",
          "data": {
            "text/plain": [
              "<IPython.core.display.HTML object>"
            ],
            "text/html": [
              "Tracking run with wandb version 0.18.7"
            ]
          },
          "metadata": {}
        },
        {
          "output_type": "display_data",
          "data": {
            "text/plain": [
              "<IPython.core.display.HTML object>"
            ],
            "text/html": [
              "Run data is saved locally in <code>/content/wandb/run-20241217_115608-cldlcwgn</code>"
            ]
          },
          "metadata": {}
        },
        {
          "output_type": "display_data",
          "data": {
            "text/plain": [
              "<IPython.core.display.HTML object>"
            ],
            "text/html": [
              "Syncing run <strong><a href='https://wandb.ai/jan-ljubas/transformer_testing/runs/cldlcwgn' target=\"_blank\">test_results_17_12_2024_transformer_exp2_{num_epochs}</a></strong> to <a href='https://wandb.ai/jan-ljubas/transformer_testing' target=\"_blank\">Weights & Biases</a> (<a href='https://wandb.me/developer-guide' target=\"_blank\">docs</a>)<br/>"
            ]
          },
          "metadata": {}
        },
        {
          "output_type": "display_data",
          "data": {
            "text/plain": [
              "<IPython.core.display.HTML object>"
            ],
            "text/html": [
              " View project at <a href='https://wandb.ai/jan-ljubas/transformer_testing' target=\"_blank\">https://wandb.ai/jan-ljubas/transformer_testing</a>"
            ]
          },
          "metadata": {}
        },
        {
          "output_type": "display_data",
          "data": {
            "text/plain": [
              "<IPython.core.display.HTML object>"
            ],
            "text/html": [
              " View run at <a href='https://wandb.ai/jan-ljubas/transformer_testing/runs/cldlcwgn' target=\"_blank\">https://wandb.ai/jan-ljubas/transformer_testing/runs/cldlcwgn</a>"
            ]
          },
          "metadata": {}
        },
        {
          "output_type": "stream",
          "name": "stderr",
          "text": [
            "<ipython-input-26-e0914f8db337>:9: FutureWarning: You are using `torch.load` with `weights_only=False` (the current default value), which uses the default pickle module implicitly. It is possible to construct malicious pickle data which will execute arbitrary code during unpickling (See https://github.com/pytorch/pytorch/blob/main/SECURITY.md#untrusted-models for more details). In a future release, the default value for `weights_only` will be flipped to `True`. This limits the functions that could be executed during unpickling. Arbitrary objects will no longer be allowed to be loaded via this mode unless they are explicitly allowlisted by the user via `torch.serialization.add_safe_globals`. We recommend you start setting `weights_only=True` for any use case where you don't have full control of the loaded file. Please open an issue on GitHub for any issues related to this experimental feature.\n",
            "  ckp = torch.load(checkpoint_path)\n"
          ]
        },
        {
          "output_type": "stream",
          "name": "stdout",
          "text": [
            "command_tokenavgs_avg = {8: 0.48172680786613253, 9: 0.5078497002233466, 4: 0.3333333333333333, 7: 0.3710972617917073, 6: 0.40000000000000036}\n",
            "gt_tokenavgs_avg = {24: 0.8772321428571429, 25: 0.638571428571426, 26: 0.3572716346153854, 27: 0.38624338624338667, 28: 0.45277069160997613, 30: 0.3953703703703726, 32: 0.48081752232142855, 33: 0.40530303030303083, 36: 0.43055555555555586, 40: 0.44062499999999927, 48: 0.23274739583333345}\n",
            "tkn_lvl_acc = 0.47364177681491787\n",
            "seq_lvl acc = 0.0\n"
          ]
        },
        {
          "output_type": "display_data",
          "data": {
            "text/plain": [
              "<IPython.core.display.HTML object>"
            ],
            "text/html": [
              "\n",
              "    <style>\n",
              "        .wandb-row {\n",
              "            display: flex;\n",
              "            flex-direction: row;\n",
              "            flex-wrap: wrap;\n",
              "            justify-content: flex-start;\n",
              "            width: 100%;\n",
              "        }\n",
              "        .wandb-col {\n",
              "            display: flex;\n",
              "            flex-direction: column;\n",
              "            flex-basis: 100%;\n",
              "            flex: 1;\n",
              "            padding: 10px;\n",
              "        }\n",
              "    </style>\n",
              "<div class=\"wandb-row\"><div class=\"wandb-col\"><h3>Run history:</h3><br/><table class=\"wandb\"><tr><td>Sequence-Level Accuracy</td><td>▁</td></tr><tr><td>Token-Level Accuracy</td><td>▁</td></tr></table><br/></div><div class=\"wandb-col\"><h3>Run summary:</h3><br/><table class=\"wandb\"><tr><td>Sequence-Level Accuracy</td><td>0</td></tr><tr><td>Token-Level Accuracy</td><td>0.47364</td></tr></table><br/></div></div>"
            ]
          },
          "metadata": {}
        },
        {
          "output_type": "display_data",
          "data": {
            "text/plain": [
              "<IPython.core.display.HTML object>"
            ],
            "text/html": [
              " View run <strong style=\"color:#cdcd00\">test_results_17_12_2024_transformer_exp2_{num_epochs}</strong> at: <a href='https://wandb.ai/jan-ljubas/transformer_testing/runs/cldlcwgn' target=\"_blank\">https://wandb.ai/jan-ljubas/transformer_testing/runs/cldlcwgn</a><br/> View project at: <a href='https://wandb.ai/jan-ljubas/transformer_testing' target=\"_blank\">https://wandb.ai/jan-ljubas/transformer_testing</a><br/>Synced 5 W&B file(s), 0 media file(s), 4 artifact file(s) and 2 other file(s)"
            ]
          },
          "metadata": {}
        },
        {
          "output_type": "display_data",
          "data": {
            "text/plain": [
              "<IPython.core.display.HTML object>"
            ],
            "text/html": [
              "Find logs at: <code>./wandb/run-20241217_115608-cldlcwgn/logs</code>"
            ]
          },
          "metadata": {}
        }
      ],
      "source": [
        "#EXPLANATION: This is the same as when you have last seen it I only changed the calculation of the lengths of the sequences to use as keys\n",
        "#checkpoint_path = \"transformer_exp2_test.pth\"\n",
        "\n",
        "\n",
        "# Initialize wandb for testing\n",
        "wandb.init(project=\"transformer_testing\", name=\"test_results_17_12_2024_transformer_exp2_{num_epochs}\")\n",
        "\n",
        "# Load model checkpoint\n",
        "ckp = torch.load(checkpoint_path)\n",
        "model.load_state_dict(ckp['model_state_dict'])\n",
        "model.to(device)\n",
        "model.eval()\n",
        "\n",
        "# Metrics initialization\n",
        "avg_token = []\n",
        "avg_seq = []\n",
        "gt_token_avgs = {}\n",
        "command_token_avgs = {}\n",
        "\n",
        "n_batches = len(test_loader)\n",
        "\n",
        "# Loop through the test data\n",
        "for src_batch, tgt_batch in test_loader:\n",
        "    for src, tgt in zip(src_batch, tgt_batch):\n",
        "        len_gt = length_tgt(tgt)\n",
        "        len_command = length_src(src)\n",
        "        if len_command == 3 or len_command == 5:\n",
        "            print(src)\n",
        "\n",
        "        src = src.unsqueeze(0).to(device)\n",
        "        true_tgt = tgt.unsqueeze(0).to(device)\n",
        "        tgt = torch.tensor([[word2idx_tgt['<SOS>']]]).to(device)\n",
        "\n",
        "        iterations = MAX_LEN - 1\n",
        "        pred_sequence = [tgt.item()]\n",
        "\n",
        "        # Generate predictions\n",
        "        for i in range(iterations):\n",
        "            with torch.no_grad():\n",
        "                output = model.forward(src, tgt)\n",
        "                predictions = nn.functional.softmax(output[:, -1, :], dim=-1)\n",
        "                next_token = predictions.argmax(-1).item()\n",
        "\n",
        "                pred_sequence.append(next_token)\n",
        "                tgt = torch.tensor(pred_sequence).unsqueeze(0).to(device)\n",
        "\n",
        "                # Stop if end of sequence\n",
        "                if next_token == word2idx_tgt['<EOS>']:\n",
        "                    break\n",
        "\n",
        "        # Calculate metrics\n",
        "        tok_lvl_acc = token_lvl_accuracy(true_tgt, tgt)\n",
        "        seq_lvl_acc = sequence_level_accuracy(true_tgt, tgt)\n",
        "        avg_token.append(tok_lvl_acc)\n",
        "        avg_seq.append(seq_lvl_acc)\n",
        "\n",
        "        if len_gt in gt_token_avgs:\n",
        "            gt_token_avgs[len_gt].append(tok_lvl_acc)\n",
        "        else:\n",
        "            gt_token_avgs[len_gt] = [tok_lvl_acc]\n",
        "\n",
        "        if len_command in command_token_avgs:\n",
        "            command_token_avgs[len_command].append(tok_lvl_acc)\n",
        "        else:\n",
        "            command_token_avgs[len_command] = [tok_lvl_acc]\n",
        "\n",
        "\n",
        "\n",
        "command_tokenavgs_avg = {k: sum(v) / len(v) for k, v in command_token_avgs.items()}\n",
        "gt_tokenavgs_avg = {k: sum(v) / len(v) for k, v in gt_token_avgs.items()}\n",
        "\n",
        "tkn_lvl_acc = sum(avg_token) / len(avg_token)\n",
        "seq_lvl_acc = sum(avg_seq) / len(avg_seq)\n",
        "\n",
        "wandb.log({\n",
        "    \"Token-Level Accuracy\": tkn_lvl_acc,\n",
        "    \"Sequence-Level Accuracy\": seq_lvl_acc,\n",
        "    \"Command Token Length Averages\": command_tokenavgs_avg,\n",
        "    \"GT Token Length Averages\": gt_tokenavgs_avg,\n",
        "})\n",
        "\n",
        "print(f\"command_tokenavgs_avg = {command_tokenavgs_avg}\")\n",
        "print(f\"gt_tokenavgs_avg = {gt_tokenavgs_avg}\")\n",
        "print(f\"tkn_lvl_acc = {tkn_lvl_acc}\")\n",
        "print(f\"seq_lvl acc = {seq_lvl_acc}\")\n",
        "\n",
        "command_table = [[k, sum(v) / len(v)] for k, v in command_token_avgs.items()]\n",
        "gt_table = [[k, sum(v) / len(v)] for k, v in gt_token_avgs.items()]\n",
        "\n",
        "wandb.log({\n",
        "    \"Command Token Length Accuracies\": wandb.Table(columns=[\"Length\", \"Accuracy\"], data=command_table),\n",
        "    \"GT Token Length Accuracies\": wandb.Table(columns=[\"Length\", \"Accuracy\"], data=gt_table)\n",
        "})\n",
        "\n",
        "wandb.finish()"
      ]
    },
    {
      "cell_type": "code",
      "execution_count": 27,
      "metadata": {
        "colab": {
          "base_uri": "https://localhost:8080/"
        },
        "id": "haTwnIm_Bs8x",
        "outputId": "9dd1627b-a647-45b2-8ba7-440bc3ba99b7"
      },
      "outputs": [
        {
          "output_type": "stream",
          "name": "stdout",
          "text": [
            "dict_keys([8, 9, 4, 7, 6])\n",
            "dict_keys([24, 25, 26, 27, 28, 30, 32, 33, 36, 40, 48])\n",
            "command_tokenavgs_avg = {8: 0.48172680786613253, 9: 0.5078497002233466, 4: 0.3333333333333333, 7: 0.3710972617917073, 6: 0.40000000000000036}\n",
            "gt_tokenavgs_avg = {24: 0.8772321428571429, 25: 0.638571428571426, 26: 0.3572716346153854, 27: 0.38624338624338667, 28: 0.45277069160997613, 30: 0.3953703703703726, 32: 0.48081752232142855, 33: 0.40530303030303083, 36: 0.43055555555555586, 40: 0.44062499999999927, 48: 0.23274739583333345}\n",
            "tkn_lvl_acc = 0.47364177681491787\n",
            "seq_lvl acc = 0.0\n"
          ]
        }
      ],
      "source": [
        "#EXPLANATION: This prints out all relevant data we need for the results and plots\n",
        "# (also prints out the keys for the dictionaries not necessary but to sanity check)\n",
        "print(command_token_avgs.keys())\n",
        "print(gt_token_avgs.keys())\n",
        "\n",
        "command_tokenavgs_avg = {k: sum(v) / len(v) for k, v in command_token_avgs.items()}\n",
        "gt_tokenavgs_avg = {k: sum(v) / len(v) for k, v in gt_token_avgs.items()}\n",
        "\n",
        "#TODO FOR JAN: Paste the printouts below to the first cell below Plotting without oracle\n",
        "print(f\"command_tokenavgs_avg = {command_tokenavgs_avg}\")\n",
        "print(f\"gt_tokenavgs_avg = {gt_tokenavgs_avg}\")\n",
        "\n",
        "print(f\"tkn_lvl_acc = {sum(avg_token) / len(avg_token)}\")\n",
        "print(f\"seq_lvl acc = {sum(avg_seq) / len(avg_seq)}\")"
      ]
    },
    {
      "cell_type": "markdown",
      "metadata": {
        "id": "AjtLWTfnBs8x"
      },
      "source": [
        "## Oracle"
      ]
    },
    {
      "cell_type": "code",
      "execution_count": null,
      "metadata": {
        "colab": {
          "base_uri": "https://localhost:8080/",
          "height": 159
        },
        "id": "pgXYjcT1Bs8x",
        "outputId": "f7aa0fd3-2c21-488d-89b9-a5be42965d47"
      },
      "outputs": [
        {
          "output_type": "display_data",
          "data": {
            "text/plain": [
              "<IPython.core.display.HTML object>"
            ],
            "text/html": [
              "Tracking run with wandb version 0.18.7"
            ]
          },
          "metadata": {}
        },
        {
          "output_type": "display_data",
          "data": {
            "text/plain": [
              "<IPython.core.display.HTML object>"
            ],
            "text/html": [
              "Run data is saved locally in <code>/content/wandb/run-20241217_120148-zrds31l7</code>"
            ]
          },
          "metadata": {}
        },
        {
          "output_type": "display_data",
          "data": {
            "text/plain": [
              "<IPython.core.display.HTML object>"
            ],
            "text/html": [
              "Syncing run <strong><a href='https://wandb.ai/jan-ljubas/transformer_testing/runs/zrds31l7' target=\"_blank\">test_results_with_oracle_17_12_2024_transformer_exp2_25</a></strong> to <a href='https://wandb.ai/jan-ljubas/transformer_testing' target=\"_blank\">Weights & Biases</a> (<a href='https://wandb.me/developer-guide' target=\"_blank\">docs</a>)<br/>"
            ]
          },
          "metadata": {}
        },
        {
          "output_type": "display_data",
          "data": {
            "text/plain": [
              "<IPython.core.display.HTML object>"
            ],
            "text/html": [
              " View project at <a href='https://wandb.ai/jan-ljubas/transformer_testing' target=\"_blank\">https://wandb.ai/jan-ljubas/transformer_testing</a>"
            ]
          },
          "metadata": {}
        },
        {
          "output_type": "display_data",
          "data": {
            "text/plain": [
              "<IPython.core.display.HTML object>"
            ],
            "text/html": [
              " View run at <a href='https://wandb.ai/jan-ljubas/transformer_testing/runs/zrds31l7' target=\"_blank\">https://wandb.ai/jan-ljubas/transformer_testing/runs/zrds31l7</a>"
            ]
          },
          "metadata": {}
        },
        {
          "output_type": "stream",
          "name": "stderr",
          "text": [
            "<ipython-input-28-cf0c9e10e815>:12: FutureWarning: You are using `torch.load` with `weights_only=False` (the current default value), which uses the default pickle module implicitly. It is possible to construct malicious pickle data which will execute arbitrary code during unpickling (See https://github.com/pytorch/pytorch/blob/main/SECURITY.md#untrusted-models for more details). In a future release, the default value for `weights_only` will be flipped to `True`. This limits the functions that could be executed during unpickling. Arbitrary objects will no longer be allowed to be loaded via this mode unless they are explicitly allowlisted by the user via `torch.serialization.add_safe_globals`. We recommend you start setting `weights_only=True` for any use case where you don't have full control of the loaded file. Please open an issue on GitHub for any issues related to this experimental feature.\n",
            "  ckp = torch.load(checkpoint_path)\n"
          ]
        }
      ],
      "source": [
        "#EXPLANATION: here we added the oracle to the code. If the model puts out an <EOS> token before the ground truth sequence ends\n",
        "# it will choose the second most probable token instead of the <EOS> token.\n",
        "# This is done by checking if the predicted sequence is shorter than the ground truth sequence.\n",
        "# Further, we need to collect more data this time. We additonal collect the sequence level accuracies for the ground truth and the command sequences.\n",
        "\n",
        "\n",
        "\n",
        "# Initialize wandb for testing\n",
        "wandb.init(project=\"transformer_testing\", name=f\"test_results_with_oracle_17_12_2024_transformer_exp2_{num_epochs}\")\n",
        "\n",
        "\n",
        "ckp = torch.load(checkpoint_path)\n",
        "model.load_state_dict(ckp['model_state_dict'])\n",
        "total_tokens = 0\n",
        "correct_tokens = 0\n",
        "\n",
        "src, tgt = next(iter(test_loader))\n",
        "# print(src.shape, tgt.shape)\n",
        "\n",
        "avg_token = []\n",
        "avg_seq = []\n",
        "gt_token_avgs = {}\n",
        "command_token_avgs = {}\n",
        "gt_seq_avgs = {}\n",
        "command_seq_avgs = {}\n",
        "\n",
        "n_batches = len(test_loader)\n",
        "# l = 0\n",
        "for src_batch, tgt_batch in test_loader:\n",
        "    for src, tgt in zip(src_batch, tgt_batch):\n",
        "        len_gt = length_tgt(tgt)\n",
        "        len_command = length_src(src)\n",
        "\n",
        "        src = src.unsqueeze(0).to(device)\n",
        "        true_tgt = tgt.unsqueeze(0).to(device)\n",
        "        tgt = torch.tensor([[word2idx_tgt['<SOS>']]]).to(device)\n",
        "\n",
        "        iterations = MAX_LEN - 1\n",
        "        pred_sequence = [tgt.item()]\n",
        "        # print(tgt.shape)\n",
        "        # print(src.shape, true_tgt.shape)\n",
        "\n",
        "        for i in range(iterations):\n",
        "            with torch.no_grad():\n",
        "                output = model.forward(src, tgt)\n",
        "                predictions = nn.functional.softmax(output[:, -1, :], dim=-1)\n",
        "                next_token = predictions.argmax(-1).item()\n",
        "\n",
        "                #EXPLANATION: Oracle implementation\n",
        "                if next_token == word2idx_tgt['<EOS>'] and len(pred_sequence) < len_gt + 1:\n",
        "                    next_token = predictions.argsort(-1, descending=True).squeeze()[1].item()\n",
        "\n",
        "                pred_sequence.append(next_token)\n",
        "                tgt = torch.tensor(pred_sequence).unsqueeze(0).to(device)\n",
        "\n",
        "\n",
        "                # Stop if end of sequence\n",
        "                if next_token == word2idx_tgt['<EOS>']:\n",
        "                    break\n",
        "\n",
        "        tok_lvl_acc = token_lvl_accuracy(true_tgt, tgt)\n",
        "        seq_lvl_acc = sequence_level_accuracy(true_tgt, tgt)\n",
        "        avg_token.append(tok_lvl_acc)\n",
        "        avg_seq.append(seq_lvl_acc)\n",
        "\n",
        "        if len_gt in gt_token_avgs:\n",
        "            gt_token_avgs[len_gt].append(tok_lvl_acc)\n",
        "        else:\n",
        "            gt_token_avgs[len_gt] =[tok_lvl_acc]\n",
        "\n",
        "        if len_command in command_token_avgs:\n",
        "            command_token_avgs[len_command].append(tok_lvl_acc)\n",
        "        else:\n",
        "            command_token_avgs[len_command] =[tok_lvl_acc]\n",
        "\n",
        "        if len_gt in gt_seq_avgs:\n",
        "            gt_seq_avgs[len_gt].append(seq_lvl_acc)\n",
        "        else:\n",
        "            gt_seq_avgs[len_gt] = [seq_lvl_acc]\n",
        "\n",
        "        if len_command in command_seq_avgs:\n",
        "            command_seq_avgs[len_command].append(seq_lvl_acc)\n",
        "        else:\n",
        "            command_seq_avgs[len_command] =[seq_lvl_acc]\n",
        "\n",
        "\n",
        "\n",
        "\n",
        "# Compute averages\n",
        "command_tokenavgs_avg = {k: sum(v) / len(v) for k, v in command_token_avgs.items()}\n",
        "gt_tokenavgs_avg = {k: sum(v) / len(v) for k, v in gt_token_avgs.items()}\n",
        "command_seqavgs_avg = {k: sum(v) / len(v) for k, v in command_seq_avgs.items()}\n",
        "gt_seqavgs_avg = {k: sum(v) / len(v) for k, v in gt_seq_avgs.items()}\n",
        "\n",
        "# Overall accuracies\n",
        "tkn_lvl_acc = sum(avg_token) / len(avg_token)\n",
        "seq_lvl_acc = sum(avg_seq) / len(avg_seq)\n",
        "\n",
        "# Log results to wandb\n",
        "wandb.log({\n",
        "    \"Token-Level Accuracy\": tkn_lvl_acc,\n",
        "    \"Sequence-Level Accuracy\": seq_lvl_acc,\n",
        "    \"Command Token Length Averages\": command_tokenavgs_avg,\n",
        "    \"GT Token Length Averages\": gt_tokenavgs_avg,\n",
        "    \"Command Sequence Length Averages\": command_seqavgs_avg,\n",
        "    \"GT Sequence Length Averages\": gt_seqavgs_avg,\n",
        "})\n",
        "\n",
        "# Log custom tables for detailed analysis\n",
        "command_token_table = [[k, sum(v) / len(v)] for k, v in command_token_avgs.items()]\n",
        "gt_token_table = [[k, sum(v) / len(v)] for k, v in gt_token_avgs.items()]\n",
        "command_seq_table = [[k, sum(v) / len(v)] for k, v in command_seq_avgs.items()]\n",
        "gt_seq_table = [[k, sum(v) / len(v)] for k, v in gt_seq_avgs.items()]\n",
        "\n",
        "# wandb.log({\n",
        "#     \"Command Token Length Accuracies\": wandb.Table(columns=[\"Length\", \"Accuracy\"], data=command_token_table),\n",
        "#     \"GT Token Length Accuracies\": wandb.Table(columns=[\"Length\", \"Accuracy\"], data=gt_token_table),\n",
        "#     \"Command Sequence Length Accuracies\": wandb.Table(columns=[\"Length\", \"Accuracy\"], data=command_seq_table),\n",
        "#     \"GT Sequence Length Accuracies\": wandb.Table(columns=[\"Length\", \"Accuracy\"], data=gt_seq_table),\n",
        "# })\n",
        "\n",
        "\n",
        "# Finish wandb run\n",
        "wandb.finish()"
      ]
    },
    {
      "cell_type": "code",
      "execution_count": null,
      "metadata": {
        "id": "otfkDiFPBs8y"
      },
      "outputs": [],
      "source": [
        "#EXPLANATION: print out of data for the results and plots (+keys)\n",
        "print(command_token_avgs.keys())\n",
        "print(gt_token_avgs.keys())\n",
        "\n",
        "command_tokenavgs_avg = {k: sum(v) / len(v) for k, v in command_token_avgs.items()}\n",
        "gt_tokenavgs_avg = {k: sum(v) / len(v) for k, v in gt_token_avgs.items()}\n",
        "\n",
        "command_seqavgs_avg = {k: sum(v) / len(v) for k, v in command_seq_avgs.items()}\n",
        "gt_seqavgs_avg = {k: sum(v) / len(v) for k, v in gt_seq_avgs.items()}\n",
        "\n",
        "#TODO FOR JAN: Paste the printouts below to the first cell below Plotting with oracle\n",
        "\n",
        "print(f\"command_tokenavgs_avg = {command_tokenavgs_avg}\")\n",
        "print(f\"gt_tokenavgs_avg = {gt_tokenavgs_avg}\")\n",
        "\n",
        "print(f\"command_seqavgs_avg = {command_seqavgs_avg}\")\n",
        "print(f\"gt_seqavgs_avg = {gt_seqavgs_avg}\")\n",
        "\n",
        "print(f\"tkn_lvl_acc = {sum(avg_token) / len(avg_token)}\")\n",
        "print(f\"seq_lvl_acc = {sum(avg_seq) / len(avg_seq)}\")"
      ]
    },
    {
      "cell_type": "markdown",
      "metadata": {
        "id": "5mVv_-0GBs8y"
      },
      "source": [
        "## Plotting"
      ]
    },
    {
      "cell_type": "markdown",
      "metadata": {
        "id": "FBDJS3fmBs8y"
      },
      "source": [
        "Plotting with oracle"
      ]
    },
    {
      "cell_type": "markdown",
      "metadata": {
        "id": "0LLKxk8aBs8y"
      },
      "source": [
        "##"
      ]
    },
    {
      "cell_type": "code",
      "execution_count": null,
      "metadata": {
        "id": "m50Tqi7ABs8y"
      },
      "outputs": [],
      "source": [
        "#TODO FOR JAN: Paste them here\n",
        "\n",
        "# dict_keys([8, 9, 7, 3, 6, 5])\n",
        "# dict_keys([24, 25, 26, 27, 28, 30, 32, 33, 36, 40, 48])\n",
        "# command_tokenavgs_avg = {8: 0.6997872084670901, 9: 0.685847075549836, 7: 0.7673854647961234, 3: 0.8691666666666665, 6: 0.7689884382228773, 5: 0.6838500319723386}\n",
        "# gt_tokenavgs_avg = {24: 0.7738561478434809, 25: 0.6041005387027976, 26: 0.7540051630501513, 27: 0.7349516674485894, 28: 0.7823963286686172, 30: 0.7669131460182892, 32: 0.7587093871302877, 33: 0.7187184583499463, 36: 0.7723759731898171, 40: 0.7152218868137427, 48: 0.7524735392955254}\n",
        "# command_seqavgs_avg = {8: 0.11430921052631579, 9: 0.005208333333333333, 7: 0.22432432432432434, 3: 0.5, 6: 0.2591145833333333, 5: 0.25}\n",
        "# gt_seqavgs_avg = {24: 0.09226190476190477, 25: 0.078125, 26: 0.25390625, 27: 0.27901785714285715, 28: 0.27901785714285715, 30: 0.2690972222222222, 32: 0.14955357142857142, 33: 0.19140625, 36: 0.125, 40: 0.0546875, 48: 0.0}\n",
        "# token_level_acc =  0.7374888862176663\n",
        "# sequence_level_acc: 0.18852040816326532"
      ]
    },
    {
      "cell_type": "code",
      "execution_count": null,
      "metadata": {
        "id": "sOfKz4RVBs8y"
      },
      "outputs": [],
      "source": [
        "#token plots\n",
        "# fig, axs = plt.subplots(2, 1, figsize=(10, 10))\n",
        "\n",
        "# # plot the average accuracy for each command length\n",
        "# axs[0].bar(list(command_tokenavgs_avg.keys()), list(command_tokenavgs_avg.values()))\n",
        "# axs[0].set_xlabel(\"Command Length (in words)\")\n",
        "# axs[0].set_ylabel(\"Accuracy on New Commands\")\n",
        "# axs[0].set_title(\"Token-Level Accuracy by Command Length\")\n",
        "# axs[0].set_xticks([4, 6, 7, 8, 9])\n",
        "\n",
        "# # plot the average accuracy for each ground-truth sequence length\n",
        "# axs[1].bar(list(gt_tokenavgs_avg.keys()), list(gt_tokenavgs_avg.values()))\n",
        "# axs[1].set_xlabel(\"Ground-Truth Action Sequence Length (in words)\")\n",
        "# axs[1].set_ylabel(\"Accuracy on New Commands (%)\")\n",
        "# axs[1].set_title(\"Token-Level Accuracy by Action Sequence Length\")\n",
        "# axs[1].set_xticks([25, 30, 35, 40, 45, 50])\n"
      ]
    },
    {
      "cell_type": "code",
      "execution_count": null,
      "metadata": {
        "id": "UHQqv4zABs8z"
      },
      "outputs": [],
      "source": [
        "#sequence plots\n",
        "\n",
        "# fig, axs = plt.subplots(2, 1, figsize=(10, 10))\n",
        "\n",
        "# # plot the average accuracy for each command length\n",
        "# axs[0].bar(list(command_seqavgs_avg.keys()), list(command_seqavgs_avg.values()))\n",
        "# axs[0].set_xlabel(\"Command Length (in words)\")\n",
        "# axs[0].set_ylabel(\"Accuracy on New Commands\")\n",
        "# axs[0].set_title(\"Sequence-Level Accuracy by Command Length\")\n",
        "# axs[0].set_xticks([4, 6, 7, 8, 9])\n",
        "\n",
        "# # plot the average accuracy for each ground-truth sequence length\n",
        "# axs[1].bar(list(gt_seqavgs_avg.keys()), list(gt_seqavgs_avg.values()))\n",
        "# axs[1].set_xlabel(\"Ground-Truth Action Sequence Length (in words)\")\n",
        "# axs[1].set_ylabel(\"Accuracy on New Commands (%)\")\n",
        "# axs[1].set_title(\"Sequence-Level Accuracy by Action Sequence Length\")\n",
        "# axs[1].set_xticks([25, 30, 35, 40, 45, 50])\n"
      ]
    },
    {
      "cell_type": "markdown",
      "metadata": {
        "id": "8TpwWaFUBs8z"
      },
      "source": [
        "Plotting without oracle"
      ]
    },
    {
      "cell_type": "code",
      "execution_count": null,
      "metadata": {
        "id": "EWy-KsvpBs8z"
      },
      "outputs": [],
      "source": [
        "#TODO FOR JAN: Paste them here\n",
        "\n",
        "# dict_keys([8, 9, 7, 3, 6, 5])\n",
        "# dict_keys([24, 25, 26, 27, 28, 30, 32, 33, 36, 40, 48])\n",
        "\n",
        "# command_avgs_avg = {8: 0.6230199421957834, 9: 0.7345682457010582, 7: 0.44055249508374283, 3: 0.4270833333333333, 6: 0.4297355769230738, 5: 0.4008506944444439}\n",
        "# gt_avgs_avg = {24: 0.8767727229780791, 25: 0.618293899524219, 26: 0.43359374999999883, 27: 0.4742063492063489, 28: 0.4733122860531186, 30: 0.41446759259259464, 32: 0.5496651785714286, 33: 0.41477272727272746, 36: 0.4509548611111111, 40: 0.4425781249999994, 48: 0.27587890625}\n",
        "# token_level_acc = 0.5068159217168267\n",
        "# seq_level_acc = 0.0"
      ]
    },
    {
      "cell_type": "code",
      "execution_count": null,
      "metadata": {
        "id": "Zp0zKn17Bs8z"
      },
      "outputs": [],
      "source": [
        "#token plots\n",
        "# fig, axs = plt.subplots(2, 1, figsize=(10, 10))\n",
        "\n",
        "# # plot the average accuracy for each command length\n",
        "# axs[0].bar(list(command_avgs_avg.keys()), list(command_avgs_avg.values()))\n",
        "# axs[0].set_xlabel(\"Command Length (in words)\")\n",
        "# axs[0].set_ylabel(\"Accuracy on New Commands\")\n",
        "# axs[0].set_title(\"Token-Level Accuracy by Command Length\")\n",
        "# axs[0].set_xticks([4, 6, 7, 8, 9])\n",
        "\n",
        "# # plot the average accuracy for each ground-truth sequence length\n",
        "# axs[1].bar(list(gt_avgs_avg.keys()), list(gt_avgs_avg.values()))\n",
        "# axs[1].set_xlabel(\"Ground-Truth Action Sequence Length (in words)\")\n",
        "# axs[1].set_ylabel(\"Accuracy on New Commands (%)\")\n",
        "# axs[1].set_title(\"Token-Level Accuracy by Action Sequence Length\")\n",
        "# axs[1].set_xticks([25, 30, 35, 40, 45, 50])"
      ]
    }
  ],
  "metadata": {
    "kernelspec": {
      "display_name": "Python 3",
      "name": "python3"
    },
    "language_info": {
      "codemirror_mode": {
        "name": "ipython",
        "version": 3
      },
      "file_extension": ".py",
      "mimetype": "text/x-python",
      "name": "python",
      "nbconvert_exporter": "python",
      "pygments_lexer": "ipython3",
      "version": "3.8.16"
    },
    "colab": {
      "provenance": [],
      "machine_shape": "hm",
      "gpuType": "A100"
    },
    "accelerator": "GPU"
  },
  "nbformat": 4,
  "nbformat_minor": 0
}